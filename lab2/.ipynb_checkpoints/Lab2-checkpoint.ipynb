{
 "cells": [
  {
   "cell_type": "code",
   "execution_count": 6,
   "id": "d4810273",
   "metadata": {},
   "outputs": [],
   "source": [
    "import numpy , random , math\n",
    "from scipy.optimize import minimize \n",
    "import matplotlib.pyplot as plt\n",
    "import numpy as np"
   ]
  },
  {
   "cell_type": "code",
   "execution_count": 55,
   "id": "13626a5f",
   "metadata": {},
   "outputs": [
    {
     "data": {
      "image/png": "[encoded data removed]",
      "text/plain": [
       "<Figure size 432x288 with 1 Axes>"
      ]
     },
     "metadata": {
      "needs_background": "light"
     },
     "output_type": "display_data"
    }
   ],
   "source": [
    "np.random.seed(100)\n",
    "classA = np.concatenate (\n",
    "(np.random.randn (10 , 2) * 0.2 + [ 1.5 , 0.5 ] ,\n",
    "np.random.randn (10 , 2) * 0.2 + [ -1.5 , 0.5 ] ) )\n",
    "classB = np.random.randn (20 , 2) * 0.2 + [ 0.0 , -0.5]\n",
    "inputs = np.concatenate((classA, classB))\n",
    "onesA = np.ones(classA.shape[0])\n",
    "onesB = -np.ones(classB.shape[0])\n",
    "targets = np.concatenate((onesA, onesB))\n",
    "N = inputs.shape[0]\n",
    "permute = list(range(N))\n",
    "np.random.shuffle(permute)\n",
    "inputs = inputs[permute, :]\n",
    "targets = targets[permute]\n",
    "plt.plot((list(p[0] for p in classA)), list((p[1] for p in classA)), 'b.')\n",
    "plt.plot((list(p[0] for p in classB)), list((p[1] for p in classB)), 'r.')\n",
    "plt.axis('equal')\n",
    "plt.savefig('svmplot.pdf')\n",
    "plt.show()"
   ]
  },
  {
   "cell_type": "code",
   "execution_count": 56,
   "id": "931fac88",
   "metadata": {},
   "outputs": [],
   "source": [
    "start = numpy.zeros(N) # vector with the initial guess of the α⃗ vector"
   ]
  },
  {
   "cell_type": "code",
   "execution_count": 57,
   "id": "983ceab9",
   "metadata": {},
   "outputs": [],
   "source": [
    "#Linear kernel\n",
    "def LinearKernel(x, y):\n",
    "    return np.dot(x, y)\n",
    "\n",
    "Kernel = LinearKernel"
   ]
  },
  {
   "cell_type": "code",
   "execution_count": 58,
   "id": "8b4810b3",
   "metadata": {},
   "outputs": [],
   "source": [
    "Pmatrix = numpy.zeros((N,N))\n",
    "for i in range(N):\n",
    "    for j in range(N):\n",
    "        Pmatrix[i][j] = targets[i]*targets[j]*Kernel(inputs[i], inputs[j])"
   ]
  },
  {
   "cell_type": "code",
   "execution_count": 59,
   "id": "88d2e011",
   "metadata": {},
   "outputs": [
    {
     "data": {
      "text/plain": [
       "array([[ 2.51356598, -0.27214682,  2.32667058, ..., -2.42999649,\n",
       "        -0.18444192, -2.09809971],\n",
       "       [-0.27214682,  0.6094552 , -0.32629075, ...,  0.98217895,\n",
       "         0.23369359,  0.65787428],\n",
       "       [ 2.32667058, -0.32629075,  2.16321031, ..., -2.34153153,\n",
       "        -0.19813628, -1.99733157],\n",
       "       ...,\n",
       "       [-2.42999649,  0.98217895, -2.34153153, ...,  3.2407327 ,\n",
       "         0.44328794,  2.56234513],\n",
       "       [-0.18444192,  0.23369359, -0.19813628, ...,  0.44328794,\n",
       "         0.09229048,  0.3126707 ],\n",
       "       [-2.09809971,  0.65787428, -1.99733157, ...,  2.56234513,\n",
       "         0.3126707 ,  2.07115892]])"
      ]
     },
     "execution_count": 59,
     "metadata": {},
     "output_type": "execute_result"
    }
   ],
   "source": [
    "Pmatrix"
   ]
  },
  {
   "cell_type": "code",
   "execution_count": 60,
   "id": "19b50c28",
   "metadata": {},
   "outputs": [],
   "source": [
    "C = 100 # random value"
   ]
  },
  {
   "cell_type": "code",
   "execution_count": 61,
   "id": "4b26f2c8",
   "metadata": {},
   "outputs": [],
   "source": [
    "#B = [(0, None) for b in range(N)] # version with no upper bound"
   ]
  },
  {
   "cell_type": "code",
   "execution_count": 62,
   "id": "ea530186",
   "metadata": {},
   "outputs": [],
   "source": [
    "B = [(0, C) for b in range(N)] # bounds for alpha"
   ]
  },
  {
   "cell_type": "code",
   "execution_count": 63,
   "id": "76dcfa81",
   "metadata": {},
   "outputs": [],
   "source": [
    "def zerofun(alpha):\n",
    "    return np.dot(alpha, targets)"
   ]
  },
  {
   "cell_type": "code",
   "execution_count": 64,
   "id": "d483e015",
   "metadata": {},
   "outputs": [],
   "source": [
    "XC = {'type':'eq', 'fun':zerofun}"
   ]
  },
  {
   "cell_type": "code",
   "execution_count": 65,
   "id": "222f52e7",
   "metadata": {},
   "outputs": [],
   "source": [
    "def objective(alpha):\n",
    "            \n",
    "    return (1/2)*np.dot(alpha, np.dot(alpha, Pmatrix)) - np.sum(alpha)\n",
    "\n",
    "# np.dot between two 1D vectors computes a simple dot product (multiply each row with the other corresponding row and eventually summing for all rows)"
   ]
  },
  {
   "cell_type": "code",
   "execution_count": 66,
   "id": "43c05a8e",
   "metadata": {},
   "outputs": [],
   "source": [
    "ret = minimize(objective, start, bounds=B, constraints=XC)\n",
    "alpha = ret['x']"
   ]
  },
  {
   "cell_type": "code",
   "execution_count": 67,
   "id": "33392e75",
   "metadata": {},
   "outputs": [
    {
     "data": {
      "text/plain": [
       "array([5.85092055e-14, 0.00000000e+00, 0.00000000e+00, 0.00000000e+00,\n",
       "       0.00000000e+00, 0.00000000e+00, 0.00000000e+00, 0.00000000e+00,\n",
       "       3.42336315e-14, 7.57903525e-14, 0.00000000e+00, 0.00000000e+00,\n",
       "       0.00000000e+00, 0.00000000e+00, 1.20410272e+01, 0.00000000e+00,\n",
       "       7.63418947e-14, 7.36682358e-16, 0.00000000e+00, 1.15539220e-15,\n",
       "       0.00000000e+00, 7.89021706e+00, 0.00000000e+00, 0.00000000e+00,\n",
       "       7.98521944e-14, 4.19833963e-14, 5.72810493e-15, 1.74486622e-14,\n",
       "       0.00000000e+00, 0.00000000e+00, 0.00000000e+00, 0.00000000e+00,\n",
       "       6.58483188e-15, 9.07540445e-14, 0.00000000e+00, 0.00000000e+00,\n",
       "       0.00000000e+00, 0.00000000e+00, 0.00000000e+00, 4.15081014e+00])"
      ]
     },
     "execution_count": 67,
     "metadata": {},
     "output_type": "execute_result"
    }
   ],
   "source": [
    "alpha"
   ]
  },
  {
   "cell_type": "code",
   "execution_count": 68,
   "id": "3eb90da7",
   "metadata": {},
   "outputs": [
    {
     "name": "stdout",
     "output_type": "stream",
     "text": [
      "Success\n"
     ]
    }
   ],
   "source": [
    "if ret.success:\n",
    "    print(\"Success!\")\n",
    "else:\n",
    "    print(\"The optimization didnt converge!\")"
   ]
  },
  {
   "cell_type": "code",
   "execution_count": 69,
   "id": "93298fe1",
   "metadata": {},
   "outputs": [],
   "source": [
    "# Remove 0's\n",
    "non_zero_values = []\n",
    "for i in range(len(alpha)):\n",
    "    if alpha[i] > 10**(-5):\n",
    "        non_zero_values.append((alpha[i], inputs[i], targets[i]))"
   ]
  },
  {
   "cell_type": "code",
   "execution_count": 70,
   "id": "b50463b3",
   "metadata": {},
   "outputs": [
    {
     "data": {
      "text/plain": [
       "[(12.04102720046145, array([-0.3227157 , -0.20585723]), -1.0),\n",
       " (7.890217062966618, array([-1.26207555,  0.16187663]), 1.0),\n",
       " (4.150810137494726, array([1.41237288, 0.27633635]), 1.0)]"
      ]
     },
     "execution_count": 70,
     "metadata": {},
     "output_type": "execute_result"
    }
   ],
   "source": [
    "non_zero_values"
   ]
  },
  {
   "cell_type": "code",
   "execution_count": null,
   "id": "9c4c6f5b",
   "metadata": {},
   "outputs": [],
   "source": [
    "def compute_b(alpha):\n",
    "    support_v = non_zero_vals[0][1]\n",
    "    target_support_v = non_zero_vals[0][2]"
   ]
  }
 ],
 "metadata": {
  "kernelspec": {
   "display_name": "Python 3 (ipykernel)",
   "language": "python",
   "name": "python3"
  },
  "language_info": {
   "codemirror_mode": {
    "name": "ipython",
    "version": 3
   },
   "file_extension": ".py",
   "mimetype": "text/x-python",
   "name": "python",
   "nbconvert_exporter": "python",
   "pygments_lexer": "ipython3",
   "version": "3.9.6"
  },
  "toc": {
   "base_numbering": 1,
   "nav_menu": {},
   "number_sections": true,
   "sideBar": true,
   "skip_h1_title": false,
   "title_cell": "Table of Contents",
   "title_sidebar": "Contents",
   "toc_cell": false,
   "toc_position": {},
   "toc_section_display": true,
   "toc_window_display": false
  }
 },
 "nbformat": 4,
 "nbformat_minor": 5
}
