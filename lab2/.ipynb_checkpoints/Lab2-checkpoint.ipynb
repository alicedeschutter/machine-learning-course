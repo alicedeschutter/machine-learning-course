{
 "cells": [
  {
   "cell_type": "code",
   "execution_count": 12,
   "id": "07916c75",
   "metadata": {},
   "outputs": [],
   "source": [
    "import numpy , random , math\n",
    "from scipy.optimize import minimize \n",
    "import matplotlib.pyplot as plt\n",
    "import numpy as np"
   ]
  },
  {
   "cell_type": "markdown",
   "id": "a16229e3",
   "metadata": {},
   "source": [
    "# Setting up Functions"
   ]
  },
  {
   "cell_type": "code",
   "execution_count": 81,
   "id": "d09687d2",
   "metadata": {},
   "outputs": [],
   "source": [
    "#Linear kernel\n",
    "def LinearKernel(x, y):\n",
    "    \n",
    "    return np.dot(x, y)\n",
    "\n",
    "# Polynomial kernels\n",
    "def PolyKernel(x, y):\n",
    "    # The exponent p (a positive integer) controls the degree of the polynomials. \n",
    "    # p = 2 --> quadratic shapes (ellipses, parabolas, hyperbolas). \n",
    "    # p = 3 or higher --> more complex shapes.\n",
    "    p = 5\n",
    "    return np.power(np.dot(x, y) + 1, p)\n",
    "    \n",
    "def RBFKernel(x, y):\n",
    "    # the parameter sigma is used to control the smoothness of the boundary\n",
    "    sigma = 2\n",
    "    return math.exp(-math.pow(numpy.linalg.norm(np.subtract(x, y)), 2)/(2 * math.pow(sigma,2)))\n",
    "\n",
    "def objective(alpha):\n",
    "    # find alpha that minimizes this \n",
    "    return (1/2)*np.dot(alpha, np.dot(alpha, Pmatrix)) - np.sum(alpha)\n",
    "\n",
    "# np.dot between two 1D vectors computes a simple dot product (multiply each row with the other corresponding row and eventually summing for all rows)\n",
    "\n",
    "# Higher value of α means that ith training example holds more importance as a support vector\n",
    "def compute_b():\n",
    "    # the indicator function for any support vector has a value equal to its target value, \n",
    "    # since we know that it is exactly on the margin\n",
    "    \n",
    "    for alpha, x, target in non_zero_values:\n",
    "        if alpha < C:\n",
    "            support_v = x\n",
    "            target_support_v = target\n",
    "    \n",
    "    b_result = 0\n",
    "    # only want points on the margin (corresponds to a point with an α-value larger than zero, but less than C)\n",
    "    for alpha, x, target in non_zero_values:\n",
    "        b_result += alpha*target*Kernel(support_v, x)\n",
    "    \n",
    "    return b_result - target_support_v\n",
    "\n",
    "\n",
    "def zerofun(alpha):\n",
    "    return numpy.dot(alpha, targets)\n",
    "\n",
    "def indicator(point):\n",
    "    \n",
    "    indic_sum = 0\n",
    "    \n",
    "    for alpha, x, target in non_zero_values:\n",
    "        indic_sum += alpha*target*Kernel(point, x)\n",
    "        \n",
    "    return indic_sum - b\n",
    "\n"
   ]
  },
  {
   "cell_type": "markdown",
   "id": "a802de15",
   "metadata": {},
   "source": [
    "# Generate Data"
   ]
  },
  {
   "cell_type": "code",
   "execution_count": 82,
   "id": "1ab07ce5",
   "metadata": {},
   "outputs": [],
   "source": [
    "#Generate Data\n",
    "num_points = 40\n",
    "\n",
    "#Class A1\n",
    "std_a1 = 0.9\n",
    "x_a1 = -2.0\n",
    "y_a1 = 0.0\n",
    "\n",
    "#Class A2\n",
    "std_a2 = 0.1\n",
    "x_a2 = 0.0\n",
    "y_a2 = -2.0\n",
    "\n",
    "#Class A3\n",
    "#std_a3 = 0.5\n",
    "#x_a3 = 0.0\n",
    "#y_a3 = -3.0\n",
    "\n",
    "#Class B\n",
    "std_b = 0.5\n",
    "x_b = 0.0\n",
    "y_b = 0.0\n",
    "\n",
    "classA = np.concatenate((\n",
    "    np.random.randn(int(num_points/2),2)*std_a1+[x_a1,y_a1], \n",
    "    np.random.randn(int(num_points/2),2)*std_a2+[x_a2,y_a2]#,\n",
    "    #np.random.randn(int(num_points/3),2)*std_a2+[x_a3,y_a3]\n",
    "))\n",
    "\n",
    "classB = np.random.randn(num_points,2)*std_b+[x_b,y_b]\n",
    "\n",
    "inputs = np.concatenate((classA, classB))\n",
    "\n",
    "onesA = np.ones(classA.shape[0])\n",
    "onesB = -np.ones(classB.shape[0])\n",
    "\n",
    "targets = np.concatenate((onesA, onesB))\n",
    "\n",
    "N = inputs.shape[0]\n",
    "\n",
    "permute = list(range(N))\n",
    "\n",
    "np.random.shuffle(permute)\n",
    "\n",
    "inputs = inputs[permute, :]\n",
    "targets = targets[permute]"
   ]
  },
  {
   "cell_type": "markdown",
   "id": "9e8fdb99",
   "metadata": {},
   "source": [
    "# Main call to Minimize "
   ]
  },
  {
   "cell_type": "code",
   "execution_count": 83,
   "id": "462964da",
   "metadata": {},
   "outputs": [
    {
     "name": "stdout",
     "output_type": "stream",
     "text": [
      "Success!\n",
      "We have found support vectors with alpha, x and target values of:\n",
      "  [(2.1907795679815583, array([ 0.00531619, -1.81071834]), 1.0), (9.999999999999092, array([-0.29489963, -1.18014016]), -1.0), (9.999999999999208, array([-0.91218301,  0.11501445]), -1.0), (9.999999999999504, array([ 0.03943073, -1.84428214]), 1.0), (9.999999999999162, array([-0.4091724 , -0.79463838]), 1.0), (9.999999999999176, array([-0.76585504, -0.04271805]), -1.0), (9.999999999999034, array([-1.19710562,  0.63372508]), 1.0), (9.999999999998995, array([-0.17470215, -0.60937854]), -1.0), (2.1907795679820232, array([-0.48036473,  0.04803272]), -1.0), (9.999999999999213, array([-0.57197669, -0.05589512]), -1.0), (9.99999999999908, array([-0.98471317,  0.50467762]), 1.0), (9.999999999999302, array([-0.45367573, -0.16887028]), -1.0), (9.999999999999243, array([-0.03422992, -0.95178266]), -1.0), (9.999999999999334, array([ 0.07405101, -1.77131989]), 1.0), (9.999999999999002, array([-0.71744901,  0.49804755]), 1.0), (9.999999999999034, array([-0.49390244,  0.08166362]), 1.0)]\n"
     ]
    },
    {
     "data": {
      "image/png": "[encoded data removed]",
      "text/plain": [
       "<Figure size 720x720 with 1 Axes>"
      ]
     },
     "metadata": {
      "needs_background": "light"
     },
     "output_type": "display_data"
    }
   ],
   "source": [
    "#Create empty start vector as initial guess of the alpha vector\n",
    "start = np.zeros(N)\n",
    "\n",
    "#Pre-compute the Pmatrix\n",
    "Pmatrix = np.zeros((N,N))\n",
    "\n",
    "#Choose which Kernel to use\n",
    "Kernel = LinearKernel\n",
    "#Kernel = RBFKernel\n",
    "#Kernel = PolyKernel\n",
    "\n",
    "for i in range(N):\n",
    "    for j in range(N):\n",
    "        Pmatrix[i][j] = targets[i]*targets[j]*Kernel(inputs[i], inputs[j])\n",
    "\n",
    "#Choose Slack Variable \n",
    "C = 10\n",
    "\n",
    "#Choose the bounds for alpha\n",
    "#B = [(0, None) for b in range(N)] \n",
    "B = [(0, C) for b in range(N)] \n",
    "\n",
    "#Define the constraints\n",
    "# eq = equality constraint &&& fun = function\n",
    "XC = {'type':'eq', 'fun':zerofun} \n",
    "\n",
    "ret = minimize(objective, start, bounds=B, constraints=XC)\n",
    "alpha = ret['x']\n",
    "\n",
    "if ret.success:\n",
    "    print(\"Success!\")\n",
    "else:\n",
    "    print(\"The optimization didnt converge!\")\n",
    "\n",
    "# Remove 0's\n",
    "non_zero_values = []\n",
    "SVM = []\n",
    "for i in range(len(alpha)):\n",
    "    if alpha[i] > 10**(-5): #and alpha[i] < C\n",
    "        non_zero_values.append((alpha[i], inputs[i], targets[i]))\n",
    "        SVM.append(inputs[i])\n",
    "\n",
    "if len(non_zero_values) > 0:\n",
    "    print('We have found support vectors with alpha, x and target values of:\\n ', non_zero_values)\n",
    "else:\n",
    "    print(\"There is no solution\")\n",
    "    \n",
    "b = compute_b()\n",
    "\n",
    "# Plot everything together\n",
    "#indicator()\n",
    "\n",
    "plt.figure(figsize=(10,10))\n",
    "plt.plot((list(p[0] for p in classA)), list((p[1] for p in classA)), 'b.')\n",
    "plt.plot((list(p[0] for p in classB)), list((p[1] for p in classB)), 'r.')\n",
    "\n",
    "# PLot over the SVMs with Large Green Dots\n",
    "for x in range(len(non_zero_values)):\n",
    "    if non_zero_values[x][2] == 1.0:\n",
    "        plt.plot((SVM[x][0]),(SVM[x][1]), 'bo')\n",
    "    else: \n",
    "        plt.plot((SVM[x][0]),(SVM[x][1]), 'ro')\n",
    "    \n",
    "xgrid = np.linspace(-5,5) \n",
    "ygrid = np.linspace(-4,4)\n",
    "\n",
    "grid = np.array([[indicator(np.array((x, y))) for x in xgrid] for y in ygrid])\n",
    "plt.contour(xgrid, ygrid, grid, (-1.0, 0.0, 1.0), colors=('red', 'black', 'blue'), linewidths=(1, 3, 1))\n",
    "\n",
    "plt.axis('equal') # Force same scale on both axes\n",
    "plt.savefig('svmplot.pdf') # Save a copy in a file\n",
    "plt.show()"
   ]
  },
  {
   "cell_type": "code",
   "execution_count": 84,
   "id": "8b98f50a",
   "metadata": {},
   "outputs": [
    {
     "data": {
      "text/plain": [
       "[(2.1907795679815583, array([ 0.00531619, -1.81071834]), 1.0),\n",
       " (9.999999999999092, array([-0.29489963, -1.18014016]), -1.0),\n",
       " (9.999999999999208, array([-0.91218301,  0.11501445]), -1.0),\n",
       " (9.999999999999504, array([ 0.03943073, -1.84428214]), 1.0),\n",
       " (9.999999999999162, array([-0.4091724 , -0.79463838]), 1.0),\n",
       " (9.999999999999176, array([-0.76585504, -0.04271805]), -1.0),\n",
       " (9.999999999999034, array([-1.19710562,  0.63372508]), 1.0),\n",
       " (9.999999999998995, array([-0.17470215, -0.60937854]), -1.0),\n",
       " (2.1907795679820232, array([-0.48036473,  0.04803272]), -1.0),\n",
       " (9.999999999999213, array([-0.57197669, -0.05589512]), -1.0),\n",
       " (9.99999999999908, array([-0.98471317,  0.50467762]), 1.0),\n",
       " (9.999999999999302, array([-0.45367573, -0.16887028]), -1.0),\n",
       " (9.999999999999243, array([-0.03422992, -0.95178266]), -1.0),\n",
       " (9.999999999999334, array([ 0.07405101, -1.77131989]), 1.0),\n",
       " (9.999999999999002, array([-0.71744901,  0.49804755]), 1.0),\n",
       " (9.999999999999034, array([-0.49390244,  0.08166362]), 1.0)]"
      ]
     },
     "execution_count": 84,
     "metadata": {},
     "output_type": "execute_result"
    }
   ],
   "source": [
    "non_zero_values\n"
   ]
  },
  {
   "cell_type": "markdown",
   "id": "f394ee04",
   "metadata": {},
   "source": [
    "**1. Move the clusters around and change their sizes to make it easier or harder for the classifier to find a decent boundary. Pay attention to when the optimizer (minimize function) is not able to find a solution at all.**"
   ]
  },
  {
   "cell_type": "markdown",
   "id": "a7c01e1c",
   "metadata": {},
   "source": [
    "2. Implement the two non-linear kernels. You should be able to clas- sify very hard data sets with these.\n",
    "3. The non-linear kernels have parameters; explore how they influence the decision boundary. Reason about this in terms of the bias- variance trade-off.\n",
    "4. Explore the role of the slack parameter C. What happens for very large/small values?\n",
    "5. Imagine that you are given data that is not easily separable. When should you opt for more slack rather than going for a more complex model (kernel) and vice versa?"
   ]
  },
  {
   "cell_type": "code",
   "execution_count": null,
   "id": "159afa92",
   "metadata": {},
   "outputs": [],
   "source": []
  },
  {
   "cell_type": "code",
   "execution_count": null,
   "id": "f7347e8f",
   "metadata": {},
   "outputs": [],
   "source": []
  }
 ],
 "metadata": {
  "kernelspec": {
   "display_name": "Python 3 (ipykernel)",
   "language": "python",
   "name": "python3"
  },
  "language_info": {
   "codemirror_mode": {
    "name": "ipython",
    "version": 3
   },
   "file_extension": ".py",
   "mimetype": "text/x-python",
   "name": "python",
   "nbconvert_exporter": "python",
   "pygments_lexer": "ipython3",
   "version": "3.9.6"
  },
  "toc": {
   "base_numbering": 1,
   "nav_menu": {},
   "number_sections": true,
   "sideBar": true,
   "skip_h1_title": false,
   "title_cell": "Table of Contents",
   "title_sidebar": "Contents",
   "toc_cell": false,
   "toc_position": {},
   "toc_section_display": true,
   "toc_window_display": false
  }
 },
 "nbformat": 4,
 "nbformat_minor": 5
}
