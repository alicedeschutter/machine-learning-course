{
 "cells": [
  {
   "cell_type": "code",
   "execution_count": 4,
   "id": "07916c75",
   "metadata": {},
   "outputs": [],
   "source": [
    "import numpy , random , math\n",
    "from scipy.optimize import minimize \n",
    "import matplotlib.pyplot as plt\n",
    "import numpy as np"
   ]
  },
  {
   "cell_type": "markdown",
   "id": "a16229e3",
   "metadata": {},
   "source": [
    "# Setting up Functions"
   ]
  },
  {
   "cell_type": "code",
   "execution_count": 21,
   "id": "eea1907d",
   "metadata": {},
   "outputs": [],
   "source": [
    "#Linear kernel\n",
    "def LinearKernel(x, y):\n",
    "    \n",
    "    return np.dot(x, y)\n",
    "\n",
    "# Polynomial kernels\n",
    "def PolyKernel(x, y):\n",
    "    # Todo: Transform x\n",
    "    # The exponent p (a positive integer) controls the degree of the polynomials. \n",
    "    # p = 2 will make quadratic shapes (ellipses, parabolas, hyperbolas). \n",
    "    # Setting p = 3 or higher will result in more complex shapes.\n",
    "    p = 5\n",
    "    return numpy.power(numpy.dot(x, y) + 1, p)\n",
    "    \n",
    "def RBFKernel(x, y):\n",
    "    # the parameter sigma is used to control the smoothness of the boundary\n",
    "    sigma = 2\n",
    "    return math.exp(-math.pow(numpy.linalg.norm(numpy.subtract(x, y)), 2)/(2 * math.pow(sigma,2)))\n",
    "\n",
    "def objective(alpha):\n",
    "    # find alpha that minimizes this \n",
    "    return (1/2)*np.dot(alpha, np.dot(alpha, Pmatrix)) - np.sum(alpha)\n",
    "\n",
    "# np.dot between two 1D vectors computes a simple dot product (multiply each row with the other corresponding row and eventually summing for all rows)\n",
    "\n",
    "# Higher value of α means that ith training example holds more importance as a support vector\n",
    "def compute_b():\n",
    "    # the indicator function for any support vector has a value equal to its target value, \n",
    "    # since we know that it is exactly on the margin\n",
    "    target_support_v = 0\n",
    "    \n",
    "    for alpha, x, target in non_zero_values:\n",
    "        if alpha < C:\n",
    "            support_v = x\n",
    "            target_support_v = target\n",
    "    \n",
    "    if target_support_v == 0:\n",
    "        print(\"There are no support vectors that are less than C\")\n",
    "        return 0\n",
    "        \n",
    "    b_result = 0\n",
    "    # only want points on the margin (corresponds to a point with an α-value larger than zero, but less than C)\n",
    "    for alpha, x, target in non_zero_values:\n",
    "        b_result += alpha*target*Kernel(support_v, x)\n",
    "    \n",
    "    return b_result - target_support_v\n",
    "\n",
    "\n",
    "def indicator(point):\n",
    "    \n",
    "    indic_sum = 0\n",
    "    \n",
    "    for alpha, x, target in non_zero_values:\n",
    "        indic_sum += alpha*target*Kernel(point, x)\n",
    "        \n",
    "    return indic_sum - b"
   ]
  },
  {
   "cell_type": "markdown",
   "id": "b34d910a",
   "metadata": {},
   "source": [
    "# Prepare to Call Minimize\n",
    "## 7 Steps"
   ]
  },
  {
   "cell_type": "code",
   "execution_count": 79,
   "id": "eebedcd5",
   "metadata": {},
   "outputs": [],
   "source": [
    "#1st, Generate the Data\n",
    "np.random.seed(100)\n",
    "\n",
    "num_points = 20\n",
    "\n",
    "#Class A1\n",
    "std_a1 = 0.2\n",
    "x_a1 = 1.0\n",
    "y_a1 = 0.5\n",
    "\n",
    "#Class A2\n",
    "std_a2 = 0.2\n",
    "x_a2 = -1.5\n",
    "y_a2 = 0.5\n",
    "\n",
    "#Class B\n",
    "std_b = 0.2\n",
    "x_b = 0.0\n",
    "y_b = -0.5\n",
    "\n",
    "classA = np.concatenate((\n",
    "    np.random.randn(int(num_points/2),2)*std_a1+[x_a1,y_a1], \n",
    "    np.random.randn(int(num_points/2),2)*std_a2+[x_a2,y_a2]))\n",
    "\n",
    "classB = np.random.randn(num_points,2)*std_b+[x_b,y_b]\n",
    "\n",
    "inputs = np.concatenate((classA, classB))\n",
    "\n",
    "onesA = np.ones(classA.shape[0])\n",
    "onesB = -np.ones(classB.shape[0])\n",
    "\n",
    "targets = np.concatenate((onesA, onesB))\n",
    "\n",
    "N = inputs.shape[0]\n",
    "\n",
    "permute = list(range(N))\n",
    "\n",
    "np.random.shuffle(permute)\n",
    "\n",
    "inputs = inputs[permute, :]\n",
    "targets = targets[permute]\n",
    "\n",
    "#2nd, Choose a Keneral Method \n",
    "Kernel = LinearKernel\n",
    "#Kernel = PolyKernel\n",
    "#Kernel = RBFKernel\n",
    "\n",
    "#3rd, Create empty start vector as initial guess of the alpha vector\n",
    "start = np.zeros(N)\n",
    "\n",
    "#4th Pre-compute the Pmatrix\n",
    "Pmatrix = np.zeros((N,N))\n",
    "\n",
    "for i in range(N):\n",
    "    for j in range(N):\n",
    "        Pmatrix[i][j] = targets[i]*targets[j]*Kernel(inputs[i], inputs[j])\n",
    "\n",
    "#5th Choose Slack Variable \n",
    "C = 100\n",
    "\n",
    "#6th hoose the bounds for alphsa\n",
    "#B = [(0, None) for b in range(N)] \n",
    "B = [(0, C) for b in range(N)] \n",
    "\n",
    "#7th Define the constraints\n",
    "# eq = equality constraint &&& fun = function\n",
    "XC = {'type':'eq', 'fun':zerofun} \n"
   ]
  },
  {
   "cell_type": "markdown",
   "id": "fbf3eb40",
   "metadata": {},
   "source": [
    "# Call Minimize"
   ]
  },
  {
   "cell_type": "code",
   "execution_count": 72,
   "id": "11b5e46f",
   "metadata": {},
   "outputs": [
    {
     "name": "stdout",
     "output_type": "stream",
     "text": [
      "Success!\n",
      "We have found support vectors with alpha, x and target values of:\n",
      "  [(18.148890531442156, array([-0.40339463, -0.13232153]), -1.0), (11.923891491667433, array([-1.21449066,  0.09425196]), 1.0), (6.224999039774806, array([1.02211797, 0.39299567]), 1.0)]\n"
     ]
    },
    {
     "data": {
      "text/plain": [
       "3"
      ]
     },
     "execution_count": 72,
     "metadata": {},
     "output_type": "execute_result"
    }
   ],
   "source": [
    "ret = minimize(objective, start, bounds=B, constraints=XC)\n",
    "alpha = ret['x']\n",
    "\n",
    "if ret.success:\n",
    "    print(\"Success!\")\n",
    "else:\n",
    "    print(\"The optimization didnt converge!\")\n",
    "    \n",
    "# Remove 0's\n",
    "non_zero_values = []\n",
    "SMV = []\n",
    "for i in range(len(alpha)):\n",
    "    if alpha[i] > 10**(-5):\n",
    "        non_zero_values.append((alpha[i], inputs[i], targets[i]))\n",
    "        SMV.append(inputs[i])\n",
    "        \n",
    "if len(non_zero_values) > 0:\n",
    "    print('We have found support vectors with alpha, x and target values of:\\n ', non_zero_values)\n",
    "\n",
    "b = compute_b()"
   ]
  },
  {
   "cell_type": "markdown",
   "id": "32284327",
   "metadata": {},
   "source": [
    "# Plot everything together"
   ]
  },
  {
   "cell_type": "code",
   "execution_count": 77,
   "id": "b857c250",
   "metadata": {},
   "outputs": [
    {
     "data": {
      "image/png": "[encoded data removed]",
      "text/plain": [
       "<Figure size 720x720 with 1 Axes>"
      ]
     },
     "metadata": {
      "needs_background": "light"
     },
     "output_type": "display_data"
    }
   ],
   "source": [
    "#indicator()\n",
    "\n",
    "plt.figure(figsize=(10,10))\n",
    "plt.plot((list(p[0] for p in classA)), list((p[1] for p in classA)), 'b.')\n",
    "plt.plot((list(p[0] for p in classB)), list((p[1] for p in classB)), 'r.')\n",
    "\n",
    "# PLot over the SMVs with Large Green Dots\n",
    "for x in range(len(SMV)):\n",
    "    plt.plot((SMV[x][0]),(SMV[x][1]), 'go')\n",
    "    \n",
    "\n",
    "\n",
    "xgrid = np.linspace(-5,5) \n",
    "ygrid = np.linspace(-4,4)\n",
    "\n",
    "grid = np.array([[indicator(np.array((x, y))) for x in xgrid] for y in ygrid])\n",
    "plt.contour(xgrid, ygrid, grid, (-1.0, 0.0, 1.0), colors=('red', 'black', 'blue'), linewidths=(1, 3, 1))\n",
    "\n",
    "plt.axis('equal') # Force same scale on both axes\n",
    "plt.savefig('svmplot.pdf') # Save a copy in a file\n",
    "plt.show()\n"
   ]
  },
  {
   "cell_type": "code",
   "execution_count": null,
   "id": "fa76c94b",
   "metadata": {},
   "outputs": [],
   "source": []
  }
 ],
 "metadata": {
  "kernelspec": {
   "display_name": "Python 3",
   "language": "python",
   "name": "python3"
  },
  "language_info": {
   "codemirror_mode": {
    "name": "ipython",
    "version": 3
   },
   "file_extension": ".py",
   "mimetype": "text/x-python",
   "name": "python",
   "nbconvert_exporter": "python",
   "pygments_lexer": "ipython3",
   "version": "3.8.8"
  },
  "toc": {
   "base_numbering": 1,
   "nav_menu": {},
   "number_sections": true,
   "sideBar": true,
   "skip_h1_title": false,
   "title_cell": "Table of Contents",
   "title_sidebar": "Contents",
   "toc_cell": false,
   "toc_position": {},
   "toc_section_display": true,
   "toc_window_display": false
  }
 },
 "nbformat": 4,
 "nbformat_minor": 5
}
