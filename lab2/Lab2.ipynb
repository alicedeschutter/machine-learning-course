{
 "cells": [
  {
   "cell_type": "code",
   "execution_count": 107,
   "id": "07916c75",
   "metadata": {},
   "outputs": [],
   "source": [
    "import numpy , random , math\n",
    "from scipy.optimize import minimize \n",
    "import matplotlib.pyplot as plt\n",
    "import numpy as np"
   ]
  },
  {
   "cell_type": "code",
   "execution_count": 311,
   "id": "8399ffc4",
   "metadata": {},
   "outputs": [],
   "source": [
    "classA = np.concatenate((np.random.randn(10,2)*0.1+[1,0.5], np.random.randn(10,2)*0.24+[-1.5,0.5]))\n",
    "# 0.2 is std, and [1.5,0.5] is center of distribution (10 datapoints)\n",
    "classB = np.random.randn(20,2)*0.25+[0.0,-0.5]\n",
    "\n",
    "inputs = np.concatenate((classA, classB))\n",
    "\n",
    "onesA = np.ones(classA.shape[0])\n",
    "onesB = -np.ones(classB.shape[0])\n",
    "\n",
    "targets = np.concatenate((onesA, onesB))\n",
    "\n",
    "N = inputs.shape[0]\n",
    "\n",
    "permute = list(range(N))\n",
    "\n",
    "np.random.shuffle(permute)\n",
    "\n",
    "inputs = inputs[permute, :]\n",
    "targets = targets[permute]"
   ]
  },
  {
   "cell_type": "code",
   "execution_count": 312,
   "id": "eea1907d",
   "metadata": {},
   "outputs": [],
   "source": [
    "#Linear kernel\n",
    "def LinearKernel(x, y):\n",
    "    \n",
    "    return np.dot(x, y)"
   ]
  },
  {
   "cell_type": "code",
   "execution_count": 327,
   "id": "1bce4c85",
   "metadata": {},
   "outputs": [],
   "source": [
    "def pre(Kernel):\n",
    "    \n",
    "    start = np.zeros(N) # vector with the initial guess of the α⃗ vector\n",
    "    \n",
    "    Pmatrix = np.zeros((N,N))\n",
    "\n",
    "    for i in range(N):\n",
    "        for j in range(N):\n",
    "            Pmatrix[i][j] = targets[i]*targets[j]*Kernel(inputs[i], inputs[j])\n",
    "    \n",
    "    C = 5\n",
    "    \n",
    "    #B = [(0, None) for b in range(N)] # version with no upper bound\n",
    "    B = [(0, C) for b in range(N)] # bounds for alpha\n",
    "    \n",
    "    return start, Pmatrix, C, B"
   ]
  },
  {
   "cell_type": "code",
   "execution_count": 328,
   "id": "33685e6a",
   "metadata": {},
   "outputs": [],
   "source": [
    "def zerofun(alpha):\n",
    "    \n",
    "        return np.dot(alpha, targets)"
   ]
  },
  {
   "cell_type": "code",
   "execution_count": 329,
   "id": "e9935620",
   "metadata": {},
   "outputs": [],
   "source": [
    "def objective(alpha):\n",
    "    # find alpha that minimizes this \n",
    "    return (1/2)*np.dot(alpha, np.dot(alpha, Pmatrix)) - np.sum(alpha)\n",
    "\n",
    "# np.dot between two 1D vectors computes a simple dot product (multiply each row with the other corresponding row and eventually summing for all rows)"
   ]
  },
  {
   "cell_type": "code",
   "execution_count": 330,
   "id": "9063add0",
   "metadata": {},
   "outputs": [],
   "source": [
    "# Higher value of α means that ith training example holds more importance as a support vector\n",
    "def compute_b():\n",
    "    # the indicator function for any support vector has a value equal to its target value, \n",
    "    # since we know that it is exactly on the margin\n",
    "    target_support_v = 0\n",
    "    \n",
    "    for alpha, x, target in non_zero_values:\n",
    "        if alpha < C:\n",
    "            support_v = x\n",
    "            target_support_v = target\n",
    "    \n",
    "    if target_support_v == 0:\n",
    "        print(\"There are no support vectors that are less than C\")\n",
    "        return 0\n",
    "        \n",
    "    b_result = 0\n",
    "    # only want points on the margin (corresponds to a point with an α-value larger than zero, but less than C)\n",
    "    for alpha, x, target in non_zero_values:\n",
    "        b_result += alpha*target*Kernel(support_v, x)\n",
    "    \n",
    "    return b_result - target_support_v"
   ]
  },
  {
   "cell_type": "code",
   "execution_count": 331,
   "id": "7f2ff840",
   "metadata": {},
   "outputs": [],
   "source": [
    "def indicator(point):\n",
    "    \n",
    "    indic_sum = 0\n",
    "    \n",
    "    for alpha, x, target in non_zero_values:\n",
    "        indic_sum += alpha*target*Kernel(point, x)\n",
    "        \n",
    "    return indic_sum - b"
   ]
  },
  {
   "cell_type": "code",
   "execution_count": 332,
   "id": "eebedcd5",
   "metadata": {},
   "outputs": [],
   "source": [
    "def main():\n",
    "    \n",
    "    Kernel = LinearKernel\n",
    "    start, Pmatrix, C, B = pre(Kernel)\n",
    "\n",
    "    XC = {'type':'eq', 'fun':zerofun}\n",
    "\n",
    "    ret = minimize(objective, start, bounds=B, constraints=XC)\n",
    "    alpha = ret['x']\n",
    "    \n",
    "    if ret.success:\n",
    "        print(\"Success!\")\n",
    "    else:\n",
    "        print(\"The optimization didnt converge!\")\n",
    "        \n",
    "    # Remove 0's\n",
    "    non_zero_values = []\n",
    "    for i in range(len(alpha)):\n",
    "        if alpha[i] > 10**(-5):\n",
    "            non_zero_values.append((alpha[i], inputs[i], targets[i]))\n",
    "    \n",
    "    if len(non_zero_values) > 0:\n",
    "        print('We have found support vectors with alpha, x and target values of:\\n ', non_zero_values)\n",
    "    \n",
    "    b = compute_b()\n",
    "    \n",
    "    #indicator()\n",
    "    \n",
    "    plt.figure(figsize=(10,10))\n",
    "    plt.plot((list(p[0] for p in classA)), list((p[1] for p in classA)), 'b.')\n",
    "    plt.plot((list(p[0] for p in classB)), list((p[1] for p in classB)), 'r.')\n",
    "    \n",
    "    xgrid = np.linspace(-5,5) \n",
    "    ygrid = np.linspace(-4,4)\n",
    "\n",
    "    grid = np.array([[indicator(np.array((x, y))) for x in xgrid] for y in ygrid])\n",
    "    plt.contour(xgrid, ygrid, grid, (-1.0, 0.0, 1.0), colors=('red', 'black', 'blue'), linewidths=(1, 3, 1))\n",
    "  \n",
    "    plt.axis('equal') # Force same scale on both axes\n",
    "    plt.savefig('svmplot.pdf') # Save a copy in a file\n",
    "    plt.show()"
   ]
  },
  {
   "cell_type": "code",
   "execution_count": 333,
   "id": "e1730b07",
   "metadata": {},
   "outputs": [
    {
     "name": "stdout",
     "output_type": "stream",
     "text": [
      "Success!\n",
      "We have found support vectors with alpha, x and target values of:\n",
      "  [(3.398821422378537, array([-0.20740693, -0.20988341]), -1.0), (5.0, array([-1.51158281,  0.49159351]), 1.0), (5.0, array([1.10407175, 0.42444749]), 1.0), (1.6011785776216252, array([-0.00455309, -0.64739552]), -1.0), (5.0, array([-0.07788128, -0.63484776]), -1.0)]\n"
     ]
    },
    {
     "data": {
      "image/png": "[encoded data removed]",
      "text/plain": [
       "<Figure size 720x720 with 1 Axes>"
      ]
     },
     "metadata": {
      "needs_background": "light"
     },
     "output_type": "display_data"
    }
   ],
   "source": [
    "main()"
   ]
  },
  {
   "cell_type": "code",
   "execution_count": null,
   "id": "97285ae4",
   "metadata": {},
   "outputs": [],
   "source": []
  },
  {
   "cell_type": "code",
   "execution_count": null,
   "id": "6a3c2522",
   "metadata": {},
   "outputs": [],
   "source": []
  }
 ],
 "metadata": {
  "kernelspec": {
   "display_name": "Python 3 (ipykernel)",
   "language": "python",
   "name": "python3"
  },
  "language_info": {
   "codemirror_mode": {
    "name": "ipython",
    "version": 3
   },
   "file_extension": ".py",
   "mimetype": "text/x-python",
   "name": "python",
   "nbconvert_exporter": "python",
   "pygments_lexer": "ipython3",
   "version": "3.9.6"
  },
  "toc": {
   "base_numbering": 1,
   "nav_menu": {},
   "number_sections": true,
   "sideBar": true,
   "skip_h1_title": false,
   "title_cell": "Table of Contents",
   "title_sidebar": "Contents",
   "toc_cell": false,
   "toc_position": {},
   "toc_section_display": true,
   "toc_window_display": false
  }
 },
 "nbformat": 4,
 "nbformat_minor": 5
}
