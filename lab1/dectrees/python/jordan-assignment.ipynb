{
 "cells": [
  {
   "cell_type": "code",
   "execution_count": 1,
   "id": "76ebf6be",
   "metadata": {},
   "outputs": [],
   "source": [
    "import monkdata as m\n",
    "import dtree as dt\n",
    "import numpy as np\n",
    "import matplotlib.pyplot as plt\n",
    "import pandas as pd"
   ]
  },
  {
   "cell_type": "markdown",
   "id": "60216fa5",
   "metadata": {},
   "source": [
    "# Assignment 1: \n",
    "The fille dtree.py decnes a function entropy which\n",
    "calculates the entropy of a dataset. Import this \f",
    "le along with the\n",
    "monks datasets and use it to calculate the entropy of the training\n",
    "datasets."
   ]
  },
  {
   "cell_type": "code",
   "execution_count": 2,
   "id": "2df4a4f6",
   "metadata": {},
   "outputs": [
    {
     "data": {
      "text/html": [
       "<div>\n",
       "<style scoped>\n",
       "    .dataframe tbody tr th:only-of-type {\n",
       "        vertical-align: middle;\n",
       "    }\n",
       "\n",
       "    .dataframe tbody tr th {\n",
       "        vertical-align: top;\n",
       "    }\n",
       "\n",
       "    .dataframe thead th {\n",
       "        text-align: right;\n",
       "    }\n",
       "</style>\n",
       "<table border=\"1\" class=\"dataframe\">\n",
       "  <thead>\n",
       "    <tr style=\"text-align: right;\">\n",
       "      <th></th>\n",
       "      <th>Entropy</th>\n",
       "    </tr>\n",
       "  </thead>\n",
       "  <tbody>\n",
       "    <tr>\n",
       "      <th>Monk1</th>\n",
       "      <td>1.000000</td>\n",
       "    </tr>\n",
       "    <tr>\n",
       "      <th>Monk2</th>\n",
       "      <td>0.957117</td>\n",
       "    </tr>\n",
       "    <tr>\n",
       "      <th>Monk3</th>\n",
       "      <td>0.999806</td>\n",
       "    </tr>\n",
       "  </tbody>\n",
       "</table>\n",
       "</div>"
      ],
      "text/plain": [
       "        Entropy\n",
       "Monk1  1.000000\n",
       "Monk2  0.957117\n",
       "Monk3  0.999806"
      ]
     },
     "execution_count": 2,
     "metadata": {},
     "output_type": "execute_result"
    }
   ],
   "source": [
    "# assign data of lists.  \n",
    "data = {'Entropy': np.zeros(3),}  \n",
    "  \n",
    "# Create DataFrame  \n",
    "df_A1 = pd.DataFrame(data, index = ['Monk1', 'Monk2', 'Monk3',])\n",
    "df_A1.loc['Monk1'] = dt.entropy(m.monk1)\n",
    "df_A1.loc['Monk2'] = dt.entropy(m.monk2)\n",
    "df_A1.loc['Monk3'] = dt.entropy(m.monk3)\n",
    "df_A1"
   ]
  },
  {
   "cell_type": "markdown",
   "id": "aa153173",
   "metadata": {},
   "source": [
    "# Assignment 2: \n",
    "Explain entropy for a uniform distribution and a\n",
    "non-uniform distribution, present some example distributions with\n",
    "high and low entropy.\n",
    "\n",
    "The entropy for a uniform distribution  "
   ]
  },
  {
   "cell_type": "code",
   "execution_count": 3,
   "id": "33a039d5",
   "metadata": {},
   "outputs": [
    {
     "ename": "NameError",
     "evalue": "name 'entropy_r' is not defined",
     "output_type": "error",
     "traceback": [
      "\u001b[0;31m---------------------------------------------------------------------------\u001b[0m",
      "\u001b[0;31mNameError\u001b[0m                                 Traceback (most recent call last)",
      "\u001b[0;32m/var/folders/7k/f9wxkl8x1bd5dsmtfbng0rgh0000gn/T/ipykernel_45623/186374088.py\u001b[0m in \u001b[0;36m<module>\u001b[0;34m\u001b[0m\n\u001b[1;32m      1\u001b[0m \u001b[0;31m# Uniform --> Real 6-sided die\u001b[0m\u001b[0;34m\u001b[0m\u001b[0;34m\u001b[0m\u001b[0;34m\u001b[0m\u001b[0m\n\u001b[1;32m      2\u001b[0m \u001b[0mentropy_r6\u001b[0m \u001b[0;34m=\u001b[0m \u001b[0;36m6\u001b[0m \u001b[0;34m*\u001b[0m \u001b[0;34m(\u001b[0m\u001b[0;34m-\u001b[0m\u001b[0;34m(\u001b[0m\u001b[0;36m1\u001b[0m\u001b[0;34m/\u001b[0m\u001b[0;36m6\u001b[0m\u001b[0;34m)\u001b[0m\u001b[0;34m*\u001b[0m\u001b[0mnp\u001b[0m\u001b[0;34m.\u001b[0m\u001b[0mlog2\u001b[0m\u001b[0;34m(\u001b[0m\u001b[0;36m1\u001b[0m\u001b[0;34m/\u001b[0m\u001b[0;36m6\u001b[0m\u001b[0;34m)\u001b[0m\u001b[0;34m)\u001b[0m\u001b[0;34m\u001b[0m\u001b[0;34m\u001b[0m\u001b[0m\n\u001b[0;32m----> 3\u001b[0;31m \u001b[0mround\u001b[0m\u001b[0;34m(\u001b[0m\u001b[0mentropy_r\u001b[0m\u001b[0;34m,\u001b[0m\u001b[0;36m2\u001b[0m\u001b[0;34m)\u001b[0m\u001b[0;34m\u001b[0m\u001b[0;34m\u001b[0m\u001b[0m\n\u001b[0m",
      "\u001b[0;31mNameError\u001b[0m: name 'entropy_r' is not defined"
     ]
    }
   ],
   "source": [
    "# Uniform --> Real 6-sided die\n",
    "entropy_r6 = 6 * (-(1/6)*np.log2(1/6))\n",
    "round(entropy_r,2)"
   ]
  },
  {
   "cell_type": "code",
   "execution_count": 4,
   "id": "2cd03d4f",
   "metadata": {},
   "outputs": [
    {
     "ename": "NameError",
     "evalue": "name 'entropy_f' is not defined",
     "output_type": "error",
     "traceback": [
      "\u001b[0;31m---------------------------------------------------------------------------\u001b[0m",
      "\u001b[0;31mNameError\u001b[0m                                 Traceback (most recent call last)",
      "\u001b[0;32m/var/folders/7k/f9wxkl8x1bd5dsmtfbng0rgh0000gn/T/ipykernel_45623/4155218078.py\u001b[0m in \u001b[0;36m<module>\u001b[0;34m\u001b[0m\n\u001b[1;32m      1\u001b[0m \u001b[0;31m# Non-uniform --> Fake 6-sided die\u001b[0m\u001b[0;34m\u001b[0m\u001b[0;34m\u001b[0m\u001b[0;34m\u001b[0m\u001b[0m\n\u001b[1;32m      2\u001b[0m \u001b[0mentropy_f6\u001b[0m \u001b[0;34m=\u001b[0m \u001b[0;34m(\u001b[0m\u001b[0;34m-\u001b[0m\u001b[0;36m5\u001b[0m \u001b[0;34m*\u001b[0m\u001b[0;34m(\u001b[0m\u001b[0;36m0.1\u001b[0m\u001b[0;34m*\u001b[0m\u001b[0mnp\u001b[0m\u001b[0;34m.\u001b[0m\u001b[0mlog2\u001b[0m\u001b[0;34m(\u001b[0m\u001b[0;36m0.1\u001b[0m\u001b[0;34m)\u001b[0m\u001b[0;34m)\u001b[0m\u001b[0;34m)\u001b[0m\u001b[0;34m-\u001b[0m\u001b[0;34m(\u001b[0m\u001b[0;36m0.5\u001b[0m\u001b[0;34m*\u001b[0m\u001b[0mnp\u001b[0m\u001b[0;34m.\u001b[0m\u001b[0mlog2\u001b[0m\u001b[0;34m(\u001b[0m\u001b[0;36m0.5\u001b[0m\u001b[0;34m)\u001b[0m\u001b[0;34m)\u001b[0m\u001b[0;34m\u001b[0m\u001b[0;34m\u001b[0m\u001b[0m\n\u001b[0;32m----> 3\u001b[0;31m \u001b[0mround\u001b[0m\u001b[0;34m(\u001b[0m\u001b[0mentropy_f\u001b[0m\u001b[0;34m,\u001b[0m\u001b[0;36m2\u001b[0m\u001b[0;34m)\u001b[0m\u001b[0;34m\u001b[0m\u001b[0;34m\u001b[0m\u001b[0m\n\u001b[0m",
      "\u001b[0;31mNameError\u001b[0m: name 'entropy_f' is not defined"
     ]
    }
   ],
   "source": [
    "# Non-uniform --> Fake 6-sided die \n",
    "entropy_f6 = (-5 *(0.1*np.log2(0.1)))-(0.5*np.log2(0.5))\n",
    "round(entropy_f,2)"
   ]
  },
  {
   "cell_type": "code",
   "execution_count": 5,
   "id": "f22c9d72",
   "metadata": {},
   "outputs": [
    {
     "data": {
      "text/plain": [
       "6.6438561898"
      ]
     },
     "execution_count": 5,
     "metadata": {},
     "output_type": "execute_result"
    }
   ],
   "source": [
    "# Uniform --> Real 100-sided die\n",
    "entropy_r100 = 100 * (-(1/100)*np.log2(1/100))\n",
    "round(entropy_r100,10)"
   ]
  },
  {
   "cell_type": "code",
   "execution_count": 6,
   "id": "149a41ff",
   "metadata": {},
   "outputs": [
    {
     "data": {
      "text/plain": [
       "0.00101"
      ]
     },
     "execution_count": 6,
     "metadata": {},
     "output_type": "execute_result"
    }
   ],
   "source": [
    "# Non-uniform --> Weighted 100-side die\n",
    "N = 1\n",
    "M = 100 - N\n",
    "pn = 0.9\n",
    "pm = (1 - N*pn)/M\n",
    "round(pm,5)"
   ]
  },
  {
   "cell_type": "code",
   "execution_count": 7,
   "id": "5230ec71",
   "metadata": {},
   "outputs": [
    {
     "data": {
      "text/plain": [
       "985.33"
      ]
     },
     "execution_count": 7,
     "metadata": {},
     "output_type": "execute_result"
    }
   ],
   "source": [
    "entropy_f100 = (-M*np.log2(pm))-(N*np.log2(pn))\n",
    "round(entropy_f100,2)"
   ]
  },
  {
   "cell_type": "code",
   "execution_count": 8,
   "id": "b8b084a5",
   "metadata": {},
   "outputs": [
    {
     "data": {
      "text/plain": [
       "Text(0, 0.5, 'Entropy')"
      ]
     },
     "execution_count": 8,
     "metadata": {},
     "output_type": "execute_result"
    },
    {
     "data": {
      "image/png": "[encoded data removed]",
      "text/plain": [
       "<Figure size 432x288 with 1 Axes>"
      ]
     },
     "metadata": {
      "needs_background": "light"
     },
     "output_type": "display_data"
    }
   ],
   "source": [
    "# entropy_x\n",
    "\n",
    "x = range(1,101)\n",
    "y = []\n",
    "\n",
    "for i in range(100):\n",
    "    N = i+1\n",
    "    y.append(N * (-(1/N)*np.log2(1/N)))\n",
    "    \n",
    "plt.plot(x,y)\n",
    "\n",
    "plt.title(\"Entropy for a Uniform Distribution\")\n",
    "plt.xlabel(\"Number of Instances\")\n",
    "plt.ylabel(\"Entropy\")\n",
    "\n",
    "\n",
    "\n",
    "    "
   ]
  },
  {
   "cell_type": "markdown",
   "id": "4571f1ab",
   "metadata": {},
   "source": [
    "# Assignment 3:\n",
    "Use the function averageGain (defined in dtree.py) to calculate the expected information gain corresponding to each of\n",
    "the six attributes. Note that the attributes are represented as instances of the class Attribute (defined in monkdata.py) which you can access via m.attributes[0], ..., m.attributes[5]. Based on the results, which attribute should be used for splitting the examples at the root node?\n"
   ]
  },
  {
   "cell_type": "code",
   "execution_count": 9,
   "id": "df782a40",
   "metadata": {},
   "outputs": [
    {
     "data": {
      "text/html": [
       "<div>\n",
       "<style scoped>\n",
       "    .dataframe tbody tr th:only-of-type {\n",
       "        vertical-align: middle;\n",
       "    }\n",
       "\n",
       "    .dataframe tbody tr th {\n",
       "        vertical-align: top;\n",
       "    }\n",
       "\n",
       "    .dataframe thead th {\n",
       "        text-align: right;\n",
       "    }\n",
       "</style>\n",
       "<table border=\"1\" class=\"dataframe\">\n",
       "  <thead>\n",
       "    <tr style=\"text-align: right;\">\n",
       "      <th></th>\n",
       "      <th>a1</th>\n",
       "      <th>a2</th>\n",
       "      <th>a3</th>\n",
       "      <th>a4</th>\n",
       "      <th>a5</th>\n",
       "      <th>a6</th>\n",
       "    </tr>\n",
       "  </thead>\n",
       "  <tbody>\n",
       "    <tr>\n",
       "      <th>Monk1</th>\n",
       "      <td>0.075273</td>\n",
       "      <td>0.005838</td>\n",
       "      <td>0.004708</td>\n",
       "      <td>0.026312</td>\n",
       "      <td>0.287031</td>\n",
       "      <td>0.000758</td>\n",
       "    </tr>\n",
       "    <tr>\n",
       "      <th>Monk2</th>\n",
       "      <td>0.003756</td>\n",
       "      <td>0.002458</td>\n",
       "      <td>0.001056</td>\n",
       "      <td>0.015664</td>\n",
       "      <td>0.017277</td>\n",
       "      <td>0.006248</td>\n",
       "    </tr>\n",
       "    <tr>\n",
       "      <th>Monk3</th>\n",
       "      <td>0.007121</td>\n",
       "      <td>0.293736</td>\n",
       "      <td>0.000831</td>\n",
       "      <td>0.002892</td>\n",
       "      <td>0.255912</td>\n",
       "      <td>0.007077</td>\n",
       "    </tr>\n",
       "  </tbody>\n",
       "</table>\n",
       "</div>"
      ],
      "text/plain": [
       "             a1        a2        a3        a4        a5        a6\n",
       "Monk1  0.075273  0.005838  0.004708  0.026312  0.287031  0.000758\n",
       "Monk2  0.003756  0.002458  0.001056  0.015664  0.017277  0.006248\n",
       "Monk3  0.007121  0.293736  0.000831  0.002892  0.255912  0.007077"
      ]
     },
     "execution_count": 9,
     "metadata": {},
     "output_type": "execute_result"
    }
   ],
   "source": [
    "# Create a list containing the monk data\n",
    "list_monk = [m.monk1, m.monk2, m.monk3]\n",
    "\n",
    "# assign data of lists.  \n",
    "data_A3 = {'a1':np.zeros(3), 'a2':np.zeros(3), 'a3':np.zeros(3), 'a4':np.zeros(3), 'a5':np.zeros(3), 'a6':np.zeros(3)}\n",
    "  \n",
    "# Create empty DataFrame with Monk-X Index\n",
    "df_A3 = pd.DataFrame(data_A3, index = ['Monk1', 'Monk2', 'Monk3'])\n",
    "\n",
    "# Use for loop to calculate and populate data frame with Average Gain for all three data sets and all six attributes\n",
    "# Access the list of names in columns 'Monk1, Monk2, Monk3' --> df_A3.columns[i]\n",
    "# Access the list of names in index 'a1, a3, a3, etc...' --> df_A3.index[j]\n",
    "# Acess the datasets --> list_monk[i]\n",
    "# Acess the attributres --> m.attributes[j] \n",
    "\n",
    "for i in range(3):\n",
    "    for j in range(6):\n",
    "        df_A3.loc[df_A3.index[i],df_A3.columns[j]] = dt.averageGain(list_monk[i],m.attributes[j])\n",
    "df_A3"
   ]
  },
  {
   "cell_type": "markdown",
   "id": "dea39959",
   "metadata": {},
   "source": [
    "# Assignment 4\n",
    "For splitting we choose the attribute that maximizes\n",
    "the information gain, Eq.3. Looking at Eq.3 how does the entropy of\n",
    "the subsets, Sk, look like when the information gain is maximized?\n",
    "How can we motivate using the information gain as a heuristic for\n",
    "picking an attribute for splitting? Think about reduction in entropy\n",
    "after the split and what the entropy implies.\n",
    "\n",
    "If we are trying to maximize the gain of Eq(3), then the second term of the equation should be minimized. Therefore, we are looking for an attribute which has quite low entropy, meaning that the attribute is predictable. Therfore, as a quick hand we can calculate "
   ]
  },
  {
   "cell_type": "code",
   "execution_count": 10,
   "id": "b325de80",
   "metadata": {},
   "outputs": [
    {
     "data": {
      "text/plain": [
       "Monk1    a5\n",
       "Monk2    a5\n",
       "Monk3    a2\n",
       "dtype: object"
      ]
     },
     "execution_count": 10,
     "metadata": {},
     "output_type": "execute_result"
    }
   ],
   "source": [
    "df_A3.idxmax(axis=1)"
   ]
  },
  {
   "cell_type": "code",
   "execution_count": 11,
   "id": "5d61fa37",
   "metadata": {},
   "outputs": [
    {
     "data": {
      "text/plain": [
       "Monk1    0.287031\n",
       "Monk2    0.017277\n",
       "Monk3    0.293736\n",
       "dtype: float64"
      ]
     },
     "execution_count": 11,
     "metadata": {},
     "output_type": "execute_result"
    }
   ],
   "source": [
    "df_A3.max(axis=1)"
   ]
  },
  {
   "cell_type": "code",
   "execution_count": 12,
   "id": "a8562944",
   "metadata": {},
   "outputs": [
    {
     "data": {
      "text/html": [
       "<div>\n",
       "<style scoped>\n",
       "    .dataframe tbody tr th:only-of-type {\n",
       "        vertical-align: middle;\n",
       "    }\n",
       "\n",
       "    .dataframe tbody tr th {\n",
       "        vertical-align: top;\n",
       "    }\n",
       "\n",
       "    .dataframe thead th {\n",
       "        text-align: right;\n",
       "    }\n",
       "</style>\n",
       "<table border=\"1\" class=\"dataframe\">\n",
       "  <thead>\n",
       "    <tr style=\"text-align: right;\">\n",
       "      <th></th>\n",
       "      <th>m1a5_1</th>\n",
       "      <th>m1a5_2</th>\n",
       "      <th>m1a5_3</th>\n",
       "      <th>m1a5_4</th>\n",
       "    </tr>\n",
       "  </thead>\n",
       "  <tbody>\n",
       "    <tr>\n",
       "      <th>1</th>\n",
       "      <td>0.0</td>\n",
       "      <td>0.040217</td>\n",
       "      <td>0.033055</td>\n",
       "      <td>0.206291</td>\n",
       "    </tr>\n",
       "    <tr>\n",
       "      <th>2</th>\n",
       "      <td>0.0</td>\n",
       "      <td>0.015063</td>\n",
       "      <td>0.002197</td>\n",
       "      <td>0.033898</td>\n",
       "    </tr>\n",
       "    <tr>\n",
       "      <th>3</th>\n",
       "      <td>0.0</td>\n",
       "      <td>0.037273</td>\n",
       "      <td>0.017982</td>\n",
       "      <td>0.025906</td>\n",
       "    </tr>\n",
       "    <tr>\n",
       "      <th>4</th>\n",
       "      <td>0.0</td>\n",
       "      <td>0.048892</td>\n",
       "      <td>0.019123</td>\n",
       "      <td>0.075933</td>\n",
       "    </tr>\n",
       "    <tr>\n",
       "      <th>6</th>\n",
       "      <td>0.0</td>\n",
       "      <td>0.025807</td>\n",
       "      <td>0.045109</td>\n",
       "      <td>0.003324</td>\n",
       "    </tr>\n",
       "  </tbody>\n",
       "</table>\n",
       "</div>"
      ],
      "text/plain": [
       "   m1a5_1    m1a5_2    m1a5_3    m1a5_4\n",
       "1     0.0  0.040217  0.033055  0.206291\n",
       "2     0.0  0.015063  0.002197  0.033898\n",
       "3     0.0  0.037273  0.017982  0.025906\n",
       "4     0.0  0.048892  0.019123  0.075933\n",
       "6     0.0  0.025807  0.045109  0.003324"
      ]
     },
     "execution_count": 12,
     "metadata": {},
     "output_type": "execute_result"
    }
   ],
   "source": [
    "# Monk1 Root Node = a5 \n",
    "# Creating four subsets for monk1 \n",
    "m1a5_1 = dt.select(m.monk1, m.attributes[4], 1)\n",
    "m1a5_2 = dt.select(m.monk1, m.attributes[4], 2)\n",
    "m1a5_3 = dt.select(m.monk1, m.attributes[4], 3)\n",
    "m1a5_4 = dt.select(m.monk1, m.attributes[4], 4)\n",
    "\n",
    "dict_m1a5 = {'m1a5_1' : m1a5_1, 'm1a5_2': m1a5_2, 'm1a5_3': m1a5_3, 'm1a5_4': m1a5_4}\n",
    "\n",
    "# For each subset compute information gains\n",
    "# Exclude attribute a5... at index 4\n",
    "# Create a dictionary with keys = m1a5_x and values = list of attributes\n",
    "\n",
    "new_dict = {}\n",
    "for key, value in dict_m1a5.items():\n",
    "    new_dict[key] = []\n",
    "    for attribute in [m.attributes[0], m.attributes[1], m.attributes[2], m.attributes[3], m.attributes[5]]:\n",
    "        new_dict[key].append(dt.averageGain(value,attribute))\n",
    "\n",
    "\n",
    "split1_monk1 = pd.DataFrame.from_dict(new_dict)\n",
    "split1_monk1.rename(index= {0:1, 1:2, 2:3, 3:4, 4:6})\n",
    "\n",
    "# for i in range(4):\n",
    "#     for j in range(5):\n",
    "#         df_m1a5.loc[df_m1a5.index[i],df_m1a5.columns[j]] = dt.averageGain(list_m1a5[i],m.attributes[j])\n",
    "        \n",
    "# df_m1a5"
   ]
  },
  {
   "cell_type": "code",
   "execution_count": 13,
   "id": "e1957b1b",
   "metadata": {},
   "outputs": [
    {
     "data": {
      "text/html": [
       "<div>\n",
       "<style scoped>\n",
       "    .dataframe tbody tr th:only-of-type {\n",
       "        vertical-align: middle;\n",
       "    }\n",
       "\n",
       "    .dataframe tbody tr th {\n",
       "        vertical-align: top;\n",
       "    }\n",
       "\n",
       "    .dataframe thead th {\n",
       "        text-align: right;\n",
       "    }\n",
       "</style>\n",
       "<table border=\"1\" class=\"dataframe\">\n",
       "  <thead>\n",
       "    <tr style=\"text-align: right;\">\n",
       "      <th></th>\n",
       "      <th>m1a5_1</th>\n",
       "      <th>m1a5_2</th>\n",
       "      <th>m1a5_3</th>\n",
       "      <th>m1a5_4</th>\n",
       "    </tr>\n",
       "  </thead>\n",
       "  <tbody>\n",
       "    <tr>\n",
       "      <th>count</th>\n",
       "      <td>5.0</td>\n",
       "      <td>5.000000</td>\n",
       "      <td>5.000000</td>\n",
       "      <td>5.000000</td>\n",
       "    </tr>\n",
       "    <tr>\n",
       "      <th>mean</th>\n",
       "      <td>0.0</td>\n",
       "      <td>0.033450</td>\n",
       "      <td>0.023493</td>\n",
       "      <td>0.069070</td>\n",
       "    </tr>\n",
       "    <tr>\n",
       "      <th>std</th>\n",
       "      <td>0.0</td>\n",
       "      <td>0.013185</td>\n",
       "      <td>0.016291</td>\n",
       "      <td>0.081085</td>\n",
       "    </tr>\n",
       "    <tr>\n",
       "      <th>min</th>\n",
       "      <td>0.0</td>\n",
       "      <td>0.015063</td>\n",
       "      <td>0.002197</td>\n",
       "      <td>0.003324</td>\n",
       "    </tr>\n",
       "    <tr>\n",
       "      <th>25%</th>\n",
       "      <td>0.0</td>\n",
       "      <td>0.025807</td>\n",
       "      <td>0.017982</td>\n",
       "      <td>0.025906</td>\n",
       "    </tr>\n",
       "    <tr>\n",
       "      <th>50%</th>\n",
       "      <td>0.0</td>\n",
       "      <td>0.037273</td>\n",
       "      <td>0.019123</td>\n",
       "      <td>0.033898</td>\n",
       "    </tr>\n",
       "    <tr>\n",
       "      <th>75%</th>\n",
       "      <td>0.0</td>\n",
       "      <td>0.040217</td>\n",
       "      <td>0.033055</td>\n",
       "      <td>0.075933</td>\n",
       "    </tr>\n",
       "    <tr>\n",
       "      <th>max</th>\n",
       "      <td>0.0</td>\n",
       "      <td>0.048892</td>\n",
       "      <td>0.045109</td>\n",
       "      <td>0.206291</td>\n",
       "    </tr>\n",
       "  </tbody>\n",
       "</table>\n",
       "</div>"
      ],
      "text/plain": [
       "       m1a5_1    m1a5_2    m1a5_3    m1a5_4\n",
       "count     5.0  5.000000  5.000000  5.000000\n",
       "mean      0.0  0.033450  0.023493  0.069070\n",
       "std       0.0  0.013185  0.016291  0.081085\n",
       "min       0.0  0.015063  0.002197  0.003324\n",
       "25%       0.0  0.025807  0.017982  0.025906\n",
       "50%       0.0  0.037273  0.019123  0.033898\n",
       "75%       0.0  0.040217  0.033055  0.075933\n",
       "max       0.0  0.048892  0.045109  0.206291"
      ]
     },
     "execution_count": 13,
     "metadata": {},
     "output_type": "execute_result"
    }
   ],
   "source": [
    "split1_monk1.describe()"
   ]
  },
  {
   "cell_type": "markdown",
   "id": "9ff5e2ba",
   "metadata": {},
   "source": [
    "# For Monk1 \n",
    "- Subset 1 --> All values equal zero for IG because when a5 = 1, the classification is True.\n",
    "- Subset 2 --> We should split on a4, because IG is max\n",
    "- Subset 3 --> We should split on a6, because IG is max\n",
    "- Subset 4 --> We should split on a1, because IG is max"
   ]
  },
  {
   "cell_type": "code",
   "execution_count": 14,
   "id": "6a7dabfc",
   "metadata": {
    "scrolled": true
   },
   "outputs": [
    {
     "data": {
      "text/html": [
       "<div>\n",
       "<style scoped>\n",
       "    .dataframe tbody tr th:only-of-type {\n",
       "        vertical-align: middle;\n",
       "    }\n",
       "\n",
       "    .dataframe tbody tr th {\n",
       "        vertical-align: top;\n",
       "    }\n",
       "\n",
       "    .dataframe thead th {\n",
       "        text-align: right;\n",
       "    }\n",
       "</style>\n",
       "<table border=\"1\" class=\"dataframe\">\n",
       "  <thead>\n",
       "    <tr style=\"text-align: right;\">\n",
       "      <th></th>\n",
       "      <th>split2_subset2_1</th>\n",
       "      <th>split2_subset2_2</th>\n",
       "      <th>split2_subset2_3</th>\n",
       "    </tr>\n",
       "  </thead>\n",
       "  <tbody>\n",
       "    <tr>\n",
       "      <th>1</th>\n",
       "      <td>0.060879</td>\n",
       "      <td>0.198117</td>\n",
       "      <td>0.068187</td>\n",
       "    </tr>\n",
       "    <tr>\n",
       "      <th>2</th>\n",
       "      <td>0.016313</td>\n",
       "      <td>0.591673</td>\n",
       "      <td>0.088546</td>\n",
       "    </tr>\n",
       "    <tr>\n",
       "      <th>3</th>\n",
       "      <td>0.051800</td>\n",
       "      <td>0.128085</td>\n",
       "      <td>0.130719</td>\n",
       "    </tr>\n",
       "    <tr>\n",
       "      <th>6</th>\n",
       "      <td>0.051800</td>\n",
       "      <td>0.198117</td>\n",
       "      <td>0.000450</td>\n",
       "    </tr>\n",
       "  </tbody>\n",
       "</table>\n",
       "</div>"
      ],
      "text/plain": [
       "   split2_subset2_1  split2_subset2_2  split2_subset2_3\n",
       "1          0.060879          0.198117          0.068187\n",
       "2          0.016313          0.591673          0.088546\n",
       "3          0.051800          0.128085          0.130719\n",
       "6          0.051800          0.198117          0.000450"
      ]
     },
     "execution_count": 14,
     "metadata": {},
     "output_type": "execute_result"
    }
   ],
   "source": [
    "# Subset 1 is done\n",
    "\n",
    "# Subset 2: split at attribute 4\n",
    "split2_subset2_1 = dt.select(m1a5_2, m.attributes[3], 1)\n",
    "split2_subset2_2 = dt.select(m1a5_2, m.attributes[3], 2)\n",
    "split2_subset2_3 = dt.select(m1a5_2, m.attributes[3], 3)\n",
    "\n",
    "dict_split2_subset2 = {'split2_subset2_1' : split2_subset2_1, 'split2_subset2_2': split2_subset2_2, 'split2_subset2_3': split2_subset2_3}\n",
    "\n",
    "# For each subset compute information gains\n",
    "# Exclude attribute a4 and a5 ... at index 3 and 4\n",
    "# Create a dictionary with keys = split2_subset2_x and values = list of attributes\n",
    "\n",
    "new_dict_split2sub2 = {}\n",
    "for key, value in dict_split2_subset2.items():\n",
    "    new_dict_split2sub2[key] = []\n",
    "    for attribute in [m.attributes[0], m.attributes[1], m.attributes[2], m.attributes[5]]:\n",
    "        new_dict_split2sub2[key].append(dt.averageGain(value,attribute))\n",
    "\n",
    "\n",
    "split2_subset2 = pd.DataFrame.from_dict(new_dict_split2sub2)\n",
    "split2_subset2.rename(index= {0:1, 1:2, 2:3, 3:6})\n"
   ]
  },
  {
   "cell_type": "code",
   "execution_count": 15,
   "id": "38ba90dd",
   "metadata": {},
   "outputs": [
    {
     "data": {
      "text/plain": [
       "split2_subset2_1    0.060879\n",
       "split2_subset2_2    0.591673\n",
       "split2_subset2_3    0.130719\n",
       "dtype: float64"
      ]
     },
     "execution_count": 15,
     "metadata": {},
     "output_type": "execute_result"
    }
   ],
   "source": [
    "split2_subset2.max()"
   ]
  },
  {
   "cell_type": "markdown",
   "id": "9405f025",
   "metadata": {},
   "source": [
    "**Split 2, subset 2**\n",
    "\n",
    "- for subset 1 --> split at attribute a1\n",
    "- for subset 2 --> split at attribute a2\n",
    "- for subset 3 --> split at attribute a3\n"
   ]
  },
  {
   "cell_type": "code",
   "execution_count": 16,
   "id": "bfd16666",
   "metadata": {},
   "outputs": [
    {
     "data": {
      "text/html": [
       "<div>\n",
       "<style scoped>\n",
       "    .dataframe tbody tr th:only-of-type {\n",
       "        vertical-align: middle;\n",
       "    }\n",
       "\n",
       "    .dataframe tbody tr th {\n",
       "        vertical-align: top;\n",
       "    }\n",
       "\n",
       "    .dataframe thead th {\n",
       "        text-align: right;\n",
       "    }\n",
       "</style>\n",
       "<table border=\"1\" class=\"dataframe\">\n",
       "  <thead>\n",
       "    <tr style=\"text-align: right;\">\n",
       "      <th></th>\n",
       "      <th>split2_subset3_1</th>\n",
       "      <th>split2_subset3_2</th>\n",
       "    </tr>\n",
       "  </thead>\n",
       "  <tbody>\n",
       "    <tr>\n",
       "      <th>1</th>\n",
       "      <td>0.036928</td>\n",
       "      <td>0.034883</td>\n",
       "    </tr>\n",
       "    <tr>\n",
       "      <th>2</th>\n",
       "      <td>0.105897</td>\n",
       "      <td>0.003585</td>\n",
       "    </tr>\n",
       "    <tr>\n",
       "      <th>3</th>\n",
       "      <td>0.000661</td>\n",
       "      <td>0.123694</td>\n",
       "    </tr>\n",
       "    <tr>\n",
       "      <th>4</th>\n",
       "      <td>0.128243</td>\n",
       "      <td>0.034883</td>\n",
       "    </tr>\n",
       "  </tbody>\n",
       "</table>\n",
       "</div>"
      ],
      "text/plain": [
       "   split2_subset3_1  split2_subset3_2\n",
       "1          0.036928          0.034883\n",
       "2          0.105897          0.003585\n",
       "3          0.000661          0.123694\n",
       "4          0.128243          0.034883"
      ]
     },
     "execution_count": 16,
     "metadata": {},
     "output_type": "execute_result"
    }
   ],
   "source": [
    "# Subset 3 (split at attribute 6)\n",
    "\n",
    "split2_subset3_1 = dt.select(m1a5_3, m.attributes[5], 1)\n",
    "split2_subset3_2 = dt.select(m1a5_3, m.attributes[5], 2)\n",
    "\n",
    "dict_split2_subset3 = {'split2_subset3_1' : split2_subset3_1, 'split2_subset3_2': split2_subset3_2}\n",
    "\n",
    "# For each subset compute information gains\n",
    "# Exclude attribute a6 and a5 ... at index 5 and 4\n",
    "# Create a dictionary with keys = split2_subset3_x and values = list of attributes\n",
    "\n",
    "new_dict_split2sub3 = {}\n",
    "for key, value in dict_split2_subset3.items():\n",
    "    new_dict_split2sub3[key] = []\n",
    "    for attribute in [m.attributes[0], m.attributes[1], m.attributes[2], m.attributes[3]]:\n",
    "        new_dict_split2sub3[key].append(dt.averageGain(value,attribute))\n",
    "\n",
    "\n",
    "split2_subset3 = pd.DataFrame.from_dict(new_dict_split2sub3)\n",
    "split2_subset3.rename(index= {0:1, 1:2, 2:3, 3:4})"
   ]
  },
  {
   "cell_type": "code",
   "execution_count": 17,
   "id": "031acd9a",
   "metadata": {},
   "outputs": [
    {
     "data": {
      "text/plain": [
       "split2_subset3_1    0.128243\n",
       "split2_subset3_2    0.123694\n",
       "dtype: float64"
      ]
     },
     "execution_count": 17,
     "metadata": {},
     "output_type": "execute_result"
    }
   ],
   "source": [
    "split2_subset3.max()"
   ]
  },
  {
   "cell_type": "markdown",
   "id": "588c2703",
   "metadata": {},
   "source": [
    "**Split 2, subset 3**\n",
    "\n",
    "- for subset 1 --> split at attribute a4\n",
    "- for subset 2 --> split at attribute a3"
   ]
  },
  {
   "cell_type": "code",
   "execution_count": 18,
   "id": "e6c8c448",
   "metadata": {},
   "outputs": [
    {
     "data": {
      "text/html": [
       "<div>\n",
       "<style scoped>\n",
       "    .dataframe tbody tr th:only-of-type {\n",
       "        vertical-align: middle;\n",
       "    }\n",
       "\n",
       "    .dataframe tbody tr th {\n",
       "        vertical-align: top;\n",
       "    }\n",
       "\n",
       "    .dataframe thead th {\n",
       "        text-align: right;\n",
       "    }\n",
       "</style>\n",
       "<table border=\"1\" class=\"dataframe\">\n",
       "  <thead>\n",
       "    <tr style=\"text-align: right;\">\n",
       "      <th></th>\n",
       "      <th>split2_subset4_1</th>\n",
       "      <th>split2_subset4_2</th>\n",
       "      <th>split2_subset4_3</th>\n",
       "    </tr>\n",
       "  </thead>\n",
       "  <tbody>\n",
       "    <tr>\n",
       "      <th>2</th>\n",
       "      <td>0.371232</td>\n",
       "      <td>0.945660</td>\n",
       "      <td>0.918296</td>\n",
       "    </tr>\n",
       "    <tr>\n",
       "      <th>3</th>\n",
       "      <td>0.075396</td>\n",
       "      <td>0.072057</td>\n",
       "      <td>0.018311</td>\n",
       "    </tr>\n",
       "    <tr>\n",
       "      <th>4</th>\n",
       "      <td>0.075396</td>\n",
       "      <td>0.253875</td>\n",
       "      <td>0.029407</td>\n",
       "    </tr>\n",
       "    <tr>\n",
       "      <th>6</th>\n",
       "      <td>0.075396</td>\n",
       "      <td>0.003430</td>\n",
       "      <td>0.024758</td>\n",
       "    </tr>\n",
       "  </tbody>\n",
       "</table>\n",
       "</div>"
      ],
      "text/plain": [
       "   split2_subset4_1  split2_subset4_2  split2_subset4_3\n",
       "2          0.371232          0.945660          0.918296\n",
       "3          0.075396          0.072057          0.018311\n",
       "4          0.075396          0.253875          0.029407\n",
       "6          0.075396          0.003430          0.024758"
      ]
     },
     "execution_count": 18,
     "metadata": {},
     "output_type": "execute_result"
    }
   ],
   "source": [
    "# Subset 4 (split at attribute 1)\n",
    "\n",
    "split2_subset4_1 = dt.select(m1a5_4, m.attributes[0], 1)\n",
    "split2_subset4_2 = dt.select(m1a5_4, m.attributes[0], 2)\n",
    "split2_subset4_3 = dt.select(m1a5_4, m.attributes[0], 3)\n",
    "\n",
    "dict_split2_subset4 = {'split2_subset4_1' : split2_subset4_1, 'split2_subset4_2': split2_subset4_2, 'split2_subset4_3' : split2_subset4_3}\n",
    "\n",
    "# For each subset compute information gains\n",
    "# Exclude attribute a1 and a5 ... at index 0 and 4\n",
    "# Create a dictionary with keys = split2_subset4_x and values = list of attributes\n",
    "\n",
    "new_dict_split2sub4 = {}\n",
    "for key, value in dict_split2_subset4.items():\n",
    "    new_dict_split2sub4[key] = []\n",
    "    for attribute in [m.attributes[1], m.attributes[2], m.attributes[3], m.attributes[5]]:\n",
    "        new_dict_split2sub4[key].append(dt.averageGain(value,attribute))\n",
    "\n",
    "\n",
    "split2_subset4 = pd.DataFrame.from_dict(new_dict_split2sub4)\n",
    "split2_subset4.rename(index= {0:2, 1:3, 2:4, 3:6})"
   ]
  },
  {
   "cell_type": "code",
   "execution_count": 19,
   "id": "fce0dcd5",
   "metadata": {},
   "outputs": [
    {
     "data": {
      "text/plain": [
       "split2_subset4_1    0.371232\n",
       "split2_subset4_2    0.945660\n",
       "split2_subset4_3    0.918296\n",
       "dtype: float64"
      ]
     },
     "execution_count": 19,
     "metadata": {},
     "output_type": "execute_result"
    }
   ],
   "source": [
    "split2_subset4.max()"
   ]
  },
  {
   "cell_type": "markdown",
   "id": "c08f3d77",
   "metadata": {},
   "source": [
    "**Split 2, subset 4**\n",
    "\n",
    "- for subset 1 --> split at attribute a2\n",
    "- for subset 2 --> split at attribute a2\n",
    "- for subset 2 --> split at attribute a2"
   ]
  },
  {
   "cell_type": "code",
   "execution_count": 20,
   "id": "4e8b40b0",
   "metadata": {},
   "outputs": [
    {
     "data": {
      "text/plain": [
       "True"
      ]
     },
     "execution_count": 20,
     "metadata": {},
     "output_type": "execute_result"
    }
   ],
   "source": [
    "dt.mostCommon(split2_subset4_3)"
   ]
  },
  {
   "cell_type": "code",
   "execution_count": 21,
   "id": "2e3293c4",
   "metadata": {},
   "outputs": [
    {
     "data": {
      "text/plain": [
       "{'split2_subset3_1': [<monkdata.Sample at 0x10a172d60>,\n",
       "  <monkdata.Sample at 0x10a07e5b0>,\n",
       "  <monkdata.Sample at 0x10aa32f70>,\n",
       "  <monkdata.Sample at 0x10aa32e80>,\n",
       "  <monkdata.Sample at 0x10aa328b0>,\n",
       "  <monkdata.Sample at 0x10aa325b0>,\n",
       "  <monkdata.Sample at 0x10a1a5430>,\n",
       "  <monkdata.Sample at 0x10a1a5e50>,\n",
       "  <monkdata.Sample at 0x10a1a5ac0>,\n",
       "  <monkdata.Sample at 0x10aa473a0>,\n",
       "  <monkdata.Sample at 0x10aa47970>,\n",
       "  <monkdata.Sample at 0x10aa47760>,\n",
       "  <monkdata.Sample at 0x10aa472e0>],\n",
       " 'split2_subset3_2': [<monkdata.Sample at 0x10a172730>,\n",
       "  <monkdata.Sample at 0x10a1726a0>,\n",
       "  <monkdata.Sample at 0x10aa32fa0>,\n",
       "  <monkdata.Sample at 0x10aa32be0>,\n",
       "  <monkdata.Sample at 0x10aa32040>,\n",
       "  <monkdata.Sample at 0x10aa32280>,\n",
       "  <monkdata.Sample at 0x10a1a5ee0>,\n",
       "  <monkdata.Sample at 0x10aa47f70>,\n",
       "  <monkdata.Sample at 0x10aa47d90>,\n",
       "  <monkdata.Sample at 0x10aa47c10>,\n",
       "  <monkdata.Sample at 0x10aa476a0>,\n",
       "  <monkdata.Sample at 0x10aa47040>,\n",
       "  <monkdata.Sample at 0x10aa407c0>,\n",
       "  <monkdata.Sample at 0x10aa401c0>,\n",
       "  <monkdata.Sample at 0x10aa40220>,\n",
       "  <monkdata.Sample at 0x10aa409d0>,\n",
       "  <monkdata.Sample at 0x10aa40bb0>]}"
      ]
     },
     "execution_count": 21,
     "metadata": {},
     "output_type": "execute_result"
    }
   ],
   "source": [
    "subset_dict = {}\n",
    "\n",
    "for subset in [dict_split2_subset2, dict_split2_subset3, dict_split2_subset4]:\n",
    "    subset_dict.update(subset)\n",
    "subset_dict\n",
    "\n",
    "dict_split2_subset3"
   ]
  },
  {
   "cell_type": "code",
   "execution_count": 22,
   "id": "9fbc3433",
   "metadata": {},
   "outputs": [
    {
     "data": {
      "text/html": [
       "<div>\n",
       "<style scoped>\n",
       "    .dataframe tbody tr th:only-of-type {\n",
       "        vertical-align: middle;\n",
       "    }\n",
       "\n",
       "    .dataframe tbody tr th {\n",
       "        vertical-align: top;\n",
       "    }\n",
       "\n",
       "    .dataframe thead th {\n",
       "        text-align: right;\n",
       "    }\n",
       "</style>\n",
       "<table border=\"1\" class=\"dataframe\">\n",
       "  <thead>\n",
       "    <tr style=\"text-align: right;\">\n",
       "      <th></th>\n",
       "      <th>True/False</th>\n",
       "    </tr>\n",
       "    <tr>\n",
       "      <th>index</th>\n",
       "      <th></th>\n",
       "    </tr>\n",
       "  </thead>\n",
       "  <tbody>\n",
       "    <tr>\n",
       "      <th>split2_subset2_1</th>\n",
       "      <td>0</td>\n",
       "    </tr>\n",
       "    <tr>\n",
       "      <th>split2_subset2_2</th>\n",
       "      <td>0</td>\n",
       "    </tr>\n",
       "    <tr>\n",
       "      <th>split2_subset2_3</th>\n",
       "      <td>0</td>\n",
       "    </tr>\n",
       "    <tr>\n",
       "      <th>split2_subset3_1</th>\n",
       "      <td>0</td>\n",
       "    </tr>\n",
       "    <tr>\n",
       "      <th>split2_subset3_2</th>\n",
       "      <td>0</td>\n",
       "    </tr>\n",
       "    <tr>\n",
       "      <th>split2_subset4_1</th>\n",
       "      <td>0</td>\n",
       "    </tr>\n",
       "    <tr>\n",
       "      <th>split2_subset4_2</th>\n",
       "      <td>0</td>\n",
       "    </tr>\n",
       "    <tr>\n",
       "      <th>split2_subset4_3</th>\n",
       "      <td>1</td>\n",
       "    </tr>\n",
       "  </tbody>\n",
       "</table>\n",
       "</div>"
      ],
      "text/plain": [
       "                  True/False\n",
       "index                       \n",
       "split2_subset2_1           0\n",
       "split2_subset2_2           0\n",
       "split2_subset2_3           0\n",
       "split2_subset3_1           0\n",
       "split2_subset3_2           0\n",
       "split2_subset4_1           0\n",
       "split2_subset4_2           0\n",
       "split2_subset4_3           1"
      ]
     },
     "execution_count": 22,
     "metadata": {},
     "output_type": "execute_result"
    }
   ],
   "source": [
    "final_dict = {'True/False' : []}\n",
    "index_list = []\n",
    "\n",
    "for subset_name, subset in subset_dict.items():\n",
    "    if dt.mostCommon(subset) == True:\n",
    "        final_dict['True/False'].append(1)\n",
    "    else:\n",
    "        final_dict['True/False'].append(0)\n",
    "    index_list.append(subset_name)\n",
    "\n",
    "final_df = pd.DataFrame.from_dict(final_dict)\n",
    "final_df['index'] = index_list\n",
    "final_df.set_index('index')"
   ]
  },
  {
   "cell_type": "markdown",
   "id": "b287bd54",
   "metadata": {},
   "source": [
    "# Assignment 5\n",
    "Build the full decision trees for all three Monk\n",
    "datasets using buildTree. Then, use the function check to mea-\n",
    "sure the performance of the decision tree on both the training and\n",
    "test datasets.\n",
    "For example to built a tree for monk1 and compute the performance\n",
    "on the test data you could use\n",
    "import monkdata as m\n",
    "import dtree as d\n",
    "t=d.buildTree(m.monk1, m.attributes);\n",
    "print(d.check(t, m.monk1test))\n",
    "Compute the train and test set errors for the three Monk datasets\n",
    "for the full trees. Were your assumptions about the datasets correct?\n",
    "Explain the results you get for the training and test datasets."
   ]
  },
  {
   "cell_type": "code",
   "execution_count": 23,
   "id": "11394b85",
   "metadata": {},
   "outputs": [],
   "source": [
    "monk1tree = dt.buildTree(m.monk1, m.attributes)"
   ]
  },
  {
   "cell_type": "code",
   "execution_count": 24,
   "id": "79d9f0c0",
   "metadata": {},
   "outputs": [],
   "source": [
    "import drawtree_qt5 as draw"
   ]
  },
  {
   "cell_type": "code",
   "execution_count": 25,
   "id": "3d051197",
   "metadata": {},
   "outputs": [
    {
     "ename": "SystemExit",
     "evalue": "0",
     "output_type": "error",
     "traceback": [
      "An exception has occurred, use %tb to see the full traceback.\n",
      "\u001b[0;31mSystemExit\u001b[0m\u001b[0;31m:\u001b[0m 0\n"
     ]
    },
    {
     "name": "stderr",
     "output_type": "stream",
     "text": [
      "/Users/alicedeschutter/.pyenv/versions/3.9.6/envs/kth/lib/python3.9/site-packages/IPython/core/interactiveshell.py:3449: UserWarning: To exit: use 'exit', 'quit', or Ctrl-D.\n",
      "  warn(\"To exit: use 'exit', 'quit', or Ctrl-D.\", stacklevel=1)\n"
     ]
    }
   ],
   "source": [
    "draw.drawTree(monk1tree)"
   ]
  },
  {
   "cell_type": "code",
   "execution_count": 26,
   "id": "b3f1c525",
   "metadata": {},
   "outputs": [
    {
     "ename": "SystemExit",
     "evalue": "0",
     "output_type": "error",
     "traceback": [
      "An exception has occurred, use %tb to see the full traceback.\n",
      "\u001b[0;31mSystemExit\u001b[0m\u001b[0;31m:\u001b[0m 0\n"
     ]
    }
   ],
   "source": [
    "monk2tree = dt.buildTree(m.monk2, m.attributes)\n",
    "draw.drawTree(monk2tree)"
   ]
  },
  {
   "cell_type": "code",
   "execution_count": 27,
   "id": "4e395bfb",
   "metadata": {},
   "outputs": [
    {
     "ename": "SystemExit",
     "evalue": "0",
     "output_type": "error",
     "traceback": [
      "An exception has occurred, use %tb to see the full traceback.\n",
      "\u001b[0;31mSystemExit\u001b[0m\u001b[0;31m:\u001b[0m 0\n"
     ]
    }
   ],
   "source": [
    "monk3tree = dt.buildTree(m.monk3, m.attributes)\n",
    "draw.drawTree(monk3tree)"
   ]
  },
  {
   "cell_type": "code",
   "execution_count": 31,
   "id": "95d6dead",
   "metadata": {},
   "outputs": [
    {
     "data": {
      "text/plain": [
       "1.0"
      ]
     },
     "execution_count": 31,
     "metadata": {},
     "output_type": "execute_result"
    }
   ],
   "source": [
    "dt.check(monk1tree, m.monk1)"
   ]
  },
  {
   "cell_type": "code",
   "execution_count": 28,
   "id": "cefdbaec",
   "metadata": {
    "scrolled": true
   },
   "outputs": [
    {
     "data": {
      "text/plain": [
       "0.8287037037037037"
      ]
     },
     "execution_count": 28,
     "metadata": {},
     "output_type": "execute_result"
    }
   ],
   "source": [
    "dt.check(monk1tree, m.monk1test)"
   ]
  },
  {
   "cell_type": "code",
   "execution_count": 32,
   "id": "bbc0b74b",
   "metadata": {},
   "outputs": [
    {
     "data": {
      "text/plain": [
       "1.0"
      ]
     },
     "execution_count": 32,
     "metadata": {},
     "output_type": "execute_result"
    }
   ],
   "source": [
    "dt.check(monk2tree, m.monk2)"
   ]
  },
  {
   "cell_type": "code",
   "execution_count": 33,
   "id": "92270454",
   "metadata": {},
   "outputs": [
    {
     "data": {
      "text/plain": [
       "0.6921296296296297"
      ]
     },
     "execution_count": 33,
     "metadata": {},
     "output_type": "execute_result"
    }
   ],
   "source": [
    "dt.check(monk2tree, m.monk2test)"
   ]
  },
  {
   "cell_type": "code",
   "execution_count": 30,
   "id": "39c14ffa",
   "metadata": {},
   "outputs": [
    {
     "data": {
      "text/plain": [
       "0.9444444444444444"
      ]
     },
     "execution_count": 30,
     "metadata": {},
     "output_type": "execute_result"
    }
   ],
   "source": [
    "dt.check(monk3tree, m.monk3test)"
   ]
  },
  {
   "cell_type": "code",
   "execution_count": null,
   "id": "6e1b8268",
   "metadata": {},
   "outputs": [],
   "source": []
  }
 ],
 "metadata": {
  "kernelspec": {
   "display_name": "Python 3 (ipykernel)",
   "language": "python",
   "name": "python3"
  },
  "language_info": {
   "codemirror_mode": {
    "name": "ipython",
    "version": 3
   },
   "file_extension": ".py",
   "mimetype": "text/x-python",
   "name": "python",
   "nbconvert_exporter": "python",
   "pygments_lexer": "ipython3",
   "version": "3.9.6"
  },
  "toc": {
   "base_numbering": 1,
   "nav_menu": {},
   "number_sections": true,
   "sideBar": true,
   "skip_h1_title": false,
   "title_cell": "Table of Contents",
   "title_sidebar": "Contents",
   "toc_cell": false,
   "toc_position": {},
   "toc_section_display": true,
   "toc_window_display": false
  }
 },
 "nbformat": 4,
 "nbformat_minor": 5
}
