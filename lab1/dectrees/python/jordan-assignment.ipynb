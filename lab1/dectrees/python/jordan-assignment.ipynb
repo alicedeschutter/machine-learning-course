{
 "cells": [
  {
   "cell_type": "code",
   "execution_count": 94,
   "id": "76ebf6be",
   "metadata": {},
   "outputs": [],
   "source": [
    "import monkdata as m\n",
    "import dtree as dt\n",
    "import numpy as np\n",
    "import matplotlib.pyplot as plt\n",
    "import pandas as pd\n",
    "import seaborn as sns"
   ]
  },
  {
   "cell_type": "markdown",
   "id": "7740ae0b",
   "metadata": {
    "heading_collapsed": true
   },
   "source": [
    "# Assignment 0:\n",
    "\n",
    "**Each one of the datasets has properties which makes them hard to learn. Motivate which of the three problems is most difficult for a decision tree algorithm to learn.**"
   ]
  },
  {
   "cell_type": "markdown",
   "id": "dbf52a81",
   "metadata": {
    "hidden": true
   },
   "source": [
    "........"
   ]
  },
  {
   "cell_type": "markdown",
   "id": "60216fa5",
   "metadata": {
    "heading_collapsed": true
   },
   "source": [
    "# Assignment 1: \n",
    "\n",
    "**The file dtree.py defines a function entropy which calculates the entropy of a dataset. Import this file along with the monks datasets and use it to calculate the entropy of the training datasets.**\n"
   ]
  },
  {
   "cell_type": "code",
   "execution_count": 2,
   "id": "2df4a4f6",
   "metadata": {
    "code_folding": [
     0
    ],
    "hidden": true
   },
   "outputs": [
    {
     "data": {
      "text/html": [
       "<div>\n",
       "<style scoped>\n",
       "    .dataframe tbody tr th:only-of-type {\n",
       "        vertical-align: middle;\n",
       "    }\n",
       "\n",
       "    .dataframe tbody tr th {\n",
       "        vertical-align: top;\n",
       "    }\n",
       "\n",
       "    .dataframe thead th {\n",
       "        text-align: right;\n",
       "    }\n",
       "</style>\n",
       "<table border=\"1\" class=\"dataframe\">\n",
       "  <thead>\n",
       "    <tr style=\"text-align: right;\">\n",
       "      <th></th>\n",
       "      <th>Entropy</th>\n",
       "    </tr>\n",
       "  </thead>\n",
       "  <tbody>\n",
       "    <tr>\n",
       "      <th>Monk1</th>\n",
       "      <td>1.000000</td>\n",
       "    </tr>\n",
       "    <tr>\n",
       "      <th>Monk2</th>\n",
       "      <td>0.957117</td>\n",
       "    </tr>\n",
       "    <tr>\n",
       "      <th>Monk3</th>\n",
       "      <td>0.999806</td>\n",
       "    </tr>\n",
       "  </tbody>\n",
       "</table>\n",
       "</div>"
      ],
      "text/plain": [
       "        Entropy\n",
       "Monk1  1.000000\n",
       "Monk2  0.957117\n",
       "Monk3  0.999806"
      ]
     },
     "execution_count": 2,
     "metadata": {},
     "output_type": "execute_result"
    }
   ],
   "source": [
    "# assign data of lists.  \n",
    "data = {'Entropy': np.zeros(3)}  \n",
    "  \n",
    "# Create DataFrame  \n",
    "df_A1 = pd.DataFrame(data, index = ['Monk1', 'Monk2', 'Monk3',])\n",
    "df_A1.loc['Monk1'] = dt.entropy(m.monk1)\n",
    "df_A1.loc['Monk2'] = dt.entropy(m.monk2)\n",
    "df_A1.loc['Monk3'] = dt.entropy(m.monk3)\n",
    "df_A1"
   ]
  },
  {
   "cell_type": "markdown",
   "id": "aa153173",
   "metadata": {
    "heading_collapsed": true
   },
   "source": [
    "# Assignment 2: \n",
    "**Explain entropy for a uniform distribution and a non-uniform distribution, present some example distributions with high and low entropy.**"
   ]
  },
  {
   "cell_type": "markdown",
   "id": "ee43dcad",
   "metadata": {
    "hidden": true
   },
   "source": [
    "Entropy is a measure of \"uncertainty\" or \"unpredictability\". \n",
    "\n",
    "The uniform distribution is the least informative distribution. It therefore has the highest entropy. \n",
    "\n",
    "When rolling a fair dice numbered from 1 to 6, each side has equal probability of facing up, and the probability of each number would be 1/6. This is an example of a **uniform distribution**; it is a model for no preference. On the other hand, rolling a biased dice is an example of a **non-uniform distribution**. The probability associated with getting certain outcomes is higher than in the case of a fair dice.\n",
    "\n",
    "**Examples:**\n",
    "- The entropy associated with rolling a fair dice is 2.58 (evaluated in last week's lecture).\n",
    "- The entropy associated with tossing a fair coin is 1 (this is lower than 2.58 because the probability of getting head/ tail is 1/2 which is higher than 1/6 --> less uncertainty for the coin than for the dice).\n",
    "- The entropy associated with tossing a biased coin would have an entropy that is lower than 1 since the head/ tail outcomes are more predictable than when the coin was fair."
   ]
  },
  {
   "cell_type": "markdown",
   "id": "dca2ffbe",
   "metadata": {
    "hidden": true
   },
   "source": [
    "![title](img/tossingcoin.png)"
   ]
  },
  {
   "cell_type": "markdown",
   "id": "e2c667f3",
   "metadata": {
    "hidden": true
   },
   "source": []
  },
  {
   "cell_type": "markdown",
   "id": "a912ed30",
   "metadata": {
    "hidden": true
   },
   "source": [
    "<span class=\"mark\">**It says that entropy_r is not defined. What should I do?**</span>"
   ]
  },
  {
   "cell_type": "code",
   "execution_count": 3,
   "id": "33a039d5",
   "metadata": {
    "hidden": true
   },
   "outputs": [
    {
     "ename": "NameError",
     "evalue": "name 'entropy_r' is not defined",
     "output_type": "error",
     "traceback": [
      "\u001b[0;31m---------------------------------------------------------------------------\u001b[0m",
      "\u001b[0;31mNameError\u001b[0m                                 Traceback (most recent call last)",
      "\u001b[0;32m/var/folders/7k/f9wxkl8x1bd5dsmtfbng0rgh0000gn/T/ipykernel_58869/186374088.py\u001b[0m in \u001b[0;36m<module>\u001b[0;34m\u001b[0m\n\u001b[1;32m      1\u001b[0m \u001b[0;31m# Uniform --> Real 6-sided die\u001b[0m\u001b[0;34m\u001b[0m\u001b[0;34m\u001b[0m\u001b[0;34m\u001b[0m\u001b[0m\n\u001b[1;32m      2\u001b[0m \u001b[0mentropy_r6\u001b[0m \u001b[0;34m=\u001b[0m \u001b[0;36m6\u001b[0m \u001b[0;34m*\u001b[0m \u001b[0;34m(\u001b[0m\u001b[0;34m-\u001b[0m\u001b[0;34m(\u001b[0m\u001b[0;36m1\u001b[0m\u001b[0;34m/\u001b[0m\u001b[0;36m6\u001b[0m\u001b[0;34m)\u001b[0m\u001b[0;34m*\u001b[0m\u001b[0mnp\u001b[0m\u001b[0;34m.\u001b[0m\u001b[0mlog2\u001b[0m\u001b[0;34m(\u001b[0m\u001b[0;36m1\u001b[0m\u001b[0;34m/\u001b[0m\u001b[0;36m6\u001b[0m\u001b[0;34m)\u001b[0m\u001b[0;34m)\u001b[0m\u001b[0;34m\u001b[0m\u001b[0;34m\u001b[0m\u001b[0m\n\u001b[0;32m----> 3\u001b[0;31m \u001b[0mround\u001b[0m\u001b[0;34m(\u001b[0m\u001b[0mentropy_r\u001b[0m\u001b[0;34m,\u001b[0m\u001b[0;36m2\u001b[0m\u001b[0;34m)\u001b[0m\u001b[0;34m\u001b[0m\u001b[0;34m\u001b[0m\u001b[0m\n\u001b[0m",
      "\u001b[0;31mNameError\u001b[0m: name 'entropy_r' is not defined"
     ]
    }
   ],
   "source": [
    "# Uniform --> Real 6-sided die\n",
    "entropy_r6 = 6 * (-(1/6)*np.log2(1/6))\n",
    "round(entropy_r,2)"
   ]
  },
  {
   "cell_type": "code",
   "execution_count": null,
   "id": "2cd03d4f",
   "metadata": {
    "hidden": true
   },
   "outputs": [],
   "source": [
    "# Non-uniform --> Fake 6-sided die \n",
    "entropy_f6 = (-5 *(0.1*np.log2(0.1)))-(0.5*np.log2(0.5))\n",
    "round(entropy_f,2)"
   ]
  },
  {
   "cell_type": "code",
   "execution_count": null,
   "id": "f22c9d72",
   "metadata": {
    "hidden": true
   },
   "outputs": [],
   "source": [
    "# Uniform --> Real 100-sided die\n",
    "entropy_r100 = 100 * (-(1/100)*np.log2(1/100))\n",
    "round(entropy_r100,10)"
   ]
  },
  {
   "cell_type": "code",
   "execution_count": null,
   "id": "149a41ff",
   "metadata": {
    "hidden": true
   },
   "outputs": [],
   "source": [
    "# Non-uniform --> Weighted 100-side die\n",
    "N = 1\n",
    "M = 100 - N\n",
    "pn = 0.9\n",
    "pm = (1 - N*pn)/M\n",
    "round(pm,5)"
   ]
  },
  {
   "cell_type": "code",
   "execution_count": null,
   "id": "5230ec71",
   "metadata": {
    "hidden": true
   },
   "outputs": [],
   "source": [
    "entropy_f100 = (-M*np.log2(pm))-(N*np.log2(pn))\n",
    "round(entropy_f100,2)"
   ]
  },
  {
   "cell_type": "code",
   "execution_count": null,
   "id": "b8b084a5",
   "metadata": {
    "hidden": true
   },
   "outputs": [],
   "source": [
    "# entropy_x\n",
    "\n",
    "x = range(1,101)\n",
    "y = []\n",
    "\n",
    "for i in range(100):\n",
    "    N = i+1\n",
    "    y.append(N * (-(1/N)*np.log2(1/N)))\n",
    "    \n",
    "plt.plot(x,y)\n",
    "\n",
    "plt.title(\"Entropy for a Uniform Distribution\")\n",
    "plt.xlabel(\"Number of Instances\")\n",
    "plt.ylabel(\"Entropy\")"
   ]
  },
  {
   "cell_type": "markdown",
   "id": "4571f1ab",
   "metadata": {
    "heading_collapsed": true
   },
   "source": [
    "# Assignment 3:\n",
    "**Use the function averageGain (defined in dtree.py) to calculate the expected information gain corresponding to each of the six attributes. Note that the attributes are represented as instances of the class Attribute (defined in monkdata.py) which you can access via m.attributes[0], ..., m.attributes[5]. Based on the results, which attribute should be used for splitting the examples at the root node?**"
   ]
  },
  {
   "cell_type": "code",
   "execution_count": 4,
   "id": "df782a40",
   "metadata": {
    "code_folding": [
     0
    ],
    "hidden": true
   },
   "outputs": [
    {
     "data": {
      "text/html": [
       "<div>\n",
       "<style scoped>\n",
       "    .dataframe tbody tr th:only-of-type {\n",
       "        vertical-align: middle;\n",
       "    }\n",
       "\n",
       "    .dataframe tbody tr th {\n",
       "        vertical-align: top;\n",
       "    }\n",
       "\n",
       "    .dataframe thead th {\n",
       "        text-align: right;\n",
       "    }\n",
       "</style>\n",
       "<table border=\"1\" class=\"dataframe\">\n",
       "  <thead>\n",
       "    <tr style=\"text-align: right;\">\n",
       "      <th></th>\n",
       "      <th>a1</th>\n",
       "      <th>a2</th>\n",
       "      <th>a3</th>\n",
       "      <th>a4</th>\n",
       "      <th>a5</th>\n",
       "      <th>a6</th>\n",
       "    </tr>\n",
       "  </thead>\n",
       "  <tbody>\n",
       "    <tr>\n",
       "      <th>Monk1</th>\n",
       "      <td>0.075273</td>\n",
       "      <td>0.005838</td>\n",
       "      <td>0.004708</td>\n",
       "      <td>0.026312</td>\n",
       "      <td>0.287031</td>\n",
       "      <td>0.000758</td>\n",
       "    </tr>\n",
       "    <tr>\n",
       "      <th>Monk2</th>\n",
       "      <td>0.003756</td>\n",
       "      <td>0.002458</td>\n",
       "      <td>0.001056</td>\n",
       "      <td>0.015664</td>\n",
       "      <td>0.017277</td>\n",
       "      <td>0.006248</td>\n",
       "    </tr>\n",
       "    <tr>\n",
       "      <th>Monk3</th>\n",
       "      <td>0.007121</td>\n",
       "      <td>0.293736</td>\n",
       "      <td>0.000831</td>\n",
       "      <td>0.002892</td>\n",
       "      <td>0.255912</td>\n",
       "      <td>0.007077</td>\n",
       "    </tr>\n",
       "  </tbody>\n",
       "</table>\n",
       "</div>"
      ],
      "text/plain": [
       "             a1        a2        a3        a4        a5        a6\n",
       "Monk1  0.075273  0.005838  0.004708  0.026312  0.287031  0.000758\n",
       "Monk2  0.003756  0.002458  0.001056  0.015664  0.017277  0.006248\n",
       "Monk3  0.007121  0.293736  0.000831  0.002892  0.255912  0.007077"
      ]
     },
     "execution_count": 4,
     "metadata": {},
     "output_type": "execute_result"
    }
   ],
   "source": [
    "# Create a list containing the monk data\n",
    "list_monk = [m.monk1, m.monk2, m.monk3]\n",
    "\n",
    "# assign data of lists.  \n",
    "data_A3 = {'a1':np.zeros(3), 'a2':np.zeros(3), 'a3':np.zeros(3), 'a4':np.zeros(3), 'a5':np.zeros(3), 'a6':np.zeros(3)}\n",
    "  \n",
    "# Create empty DataFrame with Monk-X Index\n",
    "df_A3 = pd.DataFrame(data_A3, index = ['Monk1', 'Monk2', 'Monk3'])\n",
    "\n",
    "# Use for loop to calculate and populate data frame with Average Gain for all three data sets and all six attributes\n",
    "# Access the list of names in columns 'Monk1, Monk2, Monk3' --> df_A3.columns[i]\n",
    "# Access the list of names in index 'a1, a3, a3, etc...' --> df_A3.index[j]\n",
    "# Acess the datasets --> list_monk[i]\n",
    "# Acess the attributres --> m.attributes[j] \n",
    "\n",
    "for i in range(3):\n",
    "    for j in range(6):\n",
    "        df_A3.loc[df_A3.index[i],df_A3.columns[j]] = dt.averageGain(list_monk[i],m.attributes[j])\n",
    "df_A3"
   ]
  },
  {
   "cell_type": "code",
   "execution_count": 5,
   "id": "5d61fa37",
   "metadata": {
    "hidden": true
   },
   "outputs": [
    {
     "data": {
      "text/plain": [
       "Monk1    0.287031\n",
       "Monk2    0.017277\n",
       "Monk3    0.293736\n",
       "dtype: float64"
      ]
     },
     "execution_count": 5,
     "metadata": {},
     "output_type": "execute_result"
    }
   ],
   "source": [
    "df_A3.max(axis=1)"
   ]
  },
  {
   "cell_type": "code",
   "execution_count": 6,
   "id": "b325de80",
   "metadata": {
    "hidden": true,
    "scrolled": true
   },
   "outputs": [
    {
     "data": {
      "text/plain": [
       "Monk1    a5\n",
       "Monk2    a5\n",
       "Monk3    a2\n",
       "dtype: object"
      ]
     },
     "execution_count": 6,
     "metadata": {},
     "output_type": "execute_result"
    }
   ],
   "source": [
    "df_A3.idxmax(axis=1)"
   ]
  },
  {
   "cell_type": "markdown",
   "id": "cac01c22",
   "metadata": {
    "hidden": true
   },
   "source": [
    "**Conclusion**:\n",
    "Based on the results we decide that:\n",
    "- Monk1 should be split on attribute 5.\n",
    "- Monk2 should be split on attribute 5.\n",
    "- Monk3 should be split on attribute 2."
   ]
  },
  {
   "cell_type": "markdown",
   "id": "dea39959",
   "metadata": {
    "heading_collapsed": true
   },
   "source": [
    "# Assignment 4\n",
    "**For splitting we choose the attribute that maximizes the information gain, Eq.3. Looking at Eq.3 how does the entropy of the subsets, Sk, look like when the information gain is maximized? How can we motivate using the information gain as a heuristic for picking an attribute for splitting? Think about reduction in entropy\n",
    "after the split and what the entropy implies.**"
   ]
  },
  {
   "cell_type": "markdown",
   "id": "add6779a",
   "metadata": {
    "hidden": true
   },
   "source": [
    "![title](img/equation3lab1.png)"
   ]
  },
  {
   "cell_type": "markdown",
   "id": "7d03c260",
   "metadata": {
    "hidden": true
   },
   "source": [
    "If we are trying to maximize the gain of Eq(3), then the second term of the equation should be minimized. Therefore, we are looking for an attribute which has quite low entropy, meaning that the attribute is **predictable** (we want to make a split on the attribute that gives us the MOST information on the response). \n",
    "\n",
    "**Maximizing information gain --> minimizing entropy --> minimizing uncertainty --> maximizing information needed to determine the outcome.**"
   ]
  },
  {
   "cell_type": "markdown",
   "id": "c1fcfed2",
   "metadata": {
    "heading_collapsed": true
   },
   "source": [
    "# Building Monk1 decision tree (first two levels)"
   ]
  },
  {
   "cell_type": "markdown",
   "id": "0b26085b",
   "metadata": {
    "heading_collapsed": true,
    "hidden": true
   },
   "source": [
    "### Splitting at attribute 5 and creating four subsets (one subset per attribute)"
   ]
  },
  {
   "cell_type": "code",
   "execution_count": 7,
   "id": "a8562944",
   "metadata": {
    "hidden": true
   },
   "outputs": [],
   "source": [
    "# Monk1 Root Node = a5 \n",
    "# Creating four subsets for monk1 \n",
    "split1_1 = dt.select(m.monk1, m.attributes[4], 1) # attribute 1 \n",
    "split1_2 = dt.select(m.monk1, m.attributes[4], 2) # attribute 2 \n",
    "split1_3 = dt.select(m.monk1, m.attributes[4], 3) # attribute 3 \n",
    "split1_4 = dt.select(m.monk1, m.attributes[4], 4) # attribute 4 \n",
    "\n",
    "dict_m1a5 = {'split1_1' : split1_1, 'split1_2': split1_2, 'split1_3': split1_3, 'split1_4': split1_4}"
   ]
  },
  {
   "cell_type": "markdown",
   "id": "07cd929a",
   "metadata": {
    "heading_collapsed": true,
    "hidden": true
   },
   "source": [
    "### For each subset, compute information gain in order to know how each subset should be split"
   ]
  },
  {
   "cell_type": "code",
   "execution_count": 8,
   "id": "fde12aa2",
   "metadata": {
    "code_folding": [
     0
    ],
    "hidden": true
   },
   "outputs": [
    {
     "data": {
      "text/html": [
       "<div>\n",
       "<style scoped>\n",
       "    .dataframe tbody tr th:only-of-type {\n",
       "        vertical-align: middle;\n",
       "    }\n",
       "\n",
       "    .dataframe tbody tr th {\n",
       "        vertical-align: top;\n",
       "    }\n",
       "\n",
       "    .dataframe thead th {\n",
       "        text-align: right;\n",
       "    }\n",
       "</style>\n",
       "<table border=\"1\" class=\"dataframe\">\n",
       "  <thead>\n",
       "    <tr style=\"text-align: right;\">\n",
       "      <th></th>\n",
       "      <th>split1_1</th>\n",
       "      <th>split1_2</th>\n",
       "      <th>split1_3</th>\n",
       "      <th>split1_4</th>\n",
       "    </tr>\n",
       "  </thead>\n",
       "  <tbody>\n",
       "    <tr>\n",
       "      <th>1</th>\n",
       "      <td>0.0</td>\n",
       "      <td>0.040217</td>\n",
       "      <td>0.033055</td>\n",
       "      <td>0.206291</td>\n",
       "    </tr>\n",
       "    <tr>\n",
       "      <th>2</th>\n",
       "      <td>0.0</td>\n",
       "      <td>0.015063</td>\n",
       "      <td>0.002197</td>\n",
       "      <td>0.033898</td>\n",
       "    </tr>\n",
       "    <tr>\n",
       "      <th>3</th>\n",
       "      <td>0.0</td>\n",
       "      <td>0.037273</td>\n",
       "      <td>0.017982</td>\n",
       "      <td>0.025906</td>\n",
       "    </tr>\n",
       "    <tr>\n",
       "      <th>4</th>\n",
       "      <td>0.0</td>\n",
       "      <td>0.048892</td>\n",
       "      <td>0.019123</td>\n",
       "      <td>0.075933</td>\n",
       "    </tr>\n",
       "    <tr>\n",
       "      <th>6</th>\n",
       "      <td>0.0</td>\n",
       "      <td>0.025807</td>\n",
       "      <td>0.045109</td>\n",
       "      <td>0.003324</td>\n",
       "    </tr>\n",
       "  </tbody>\n",
       "</table>\n",
       "</div>"
      ],
      "text/plain": [
       "   split1_1  split1_2  split1_3  split1_4\n",
       "1       0.0  0.040217  0.033055  0.206291\n",
       "2       0.0  0.015063  0.002197  0.033898\n",
       "3       0.0  0.037273  0.017982  0.025906\n",
       "4       0.0  0.048892  0.019123  0.075933\n",
       "6       0.0  0.025807  0.045109  0.003324"
      ]
     },
     "execution_count": 8,
     "metadata": {},
     "output_type": "execute_result"
    }
   ],
   "source": [
    "# Exclude attribute a5 (at index 4)\n",
    "# Create a dictionary with keys = split1_x and values = list of attributes\n",
    "\n",
    "new_dict = {}\n",
    "for key, value in dict_m1a5.items():\n",
    "    new_dict[key] = []\n",
    "    for attribute in [m.attributes[0], m.attributes[1], m.attributes[2], m.attributes[3], m.attributes[5]]:\n",
    "        new_dict[key].append(dt.averageGain(value,attribute))\n",
    "\n",
    "split1_monk1 = pd.DataFrame.from_dict(new_dict)\n",
    "split1_monk1.rename(index= {0:1, 1:2, 2:3, 3:4, 4:6})"
   ]
  },
  {
   "cell_type": "markdown",
   "id": "9ff5e2ba",
   "metadata": {
    "heading_collapsed": true,
    "hidden": true
   },
   "source": [
    "### Maximization of information gain when splitting on attribute 5:"
   ]
  },
  {
   "cell_type": "code",
   "execution_count": 9,
   "id": "6ba03d64",
   "metadata": {
    "hidden": true
   },
   "outputs": [
    {
     "data": {
      "text/plain": [
       "split1_1    0.000000\n",
       "split1_2    0.048892\n",
       "split1_3    0.045109\n",
       "split1_4    0.206291\n",
       "dtype: float64"
      ]
     },
     "execution_count": 9,
     "metadata": {},
     "output_type": "execute_result"
    }
   ],
   "source": [
    "split1_monk1.max()"
   ]
  },
  {
   "cell_type": "markdown",
   "id": "9ab320a7",
   "metadata": {
    "hidden": true
   },
   "source": [
    "- Subset 1 --> All values equal zero for IG because when a5 = 1, the classification is True. No more splitting is needed (Pure node).\n",
    "\n",
    "- Subset 2 --> We should split on a4, because IG is max\n",
    "\n",
    "- Subset 3 --> We should split on a6, because IG is max\n",
    "\n",
    "- Subset 4 --> We should split on a1, because IG is max"
   ]
  },
  {
   "cell_type": "markdown",
   "id": "25182f0e",
   "metadata": {
    "heading_collapsed": true,
    "hidden": true
   },
   "source": [
    "### Subset 1 : no split needed"
   ]
  },
  {
   "cell_type": "markdown",
   "id": "72e3f048",
   "metadata": {
    "heading_collapsed": true,
    "hidden": true
   },
   "source": [
    "### Subset 2 : split at attribute 4"
   ]
  },
  {
   "cell_type": "code",
   "execution_count": 10,
   "id": "2f5586b0",
   "metadata": {
    "hidden": true
   },
   "outputs": [],
   "source": [
    "# creating subsets for split on subset 2 attribute 4\n",
    "\n",
    "split2_subset2_1 = dt.select(split1_2, m.attributes[3], 1)\n",
    "split2_subset2_2 = dt.select(split1_2, m.attributes[3], 2)\n",
    "split2_subset2_3 = dt.select(split1_2, m.attributes[3], 3)\n",
    "\n",
    "dict_split2_subset2 = {'split2_subset2_1' : split2_subset2_1, 'split2_subset2_2': split2_subset2_2, 'split2_subset2_3': split2_subset2_3}"
   ]
  },
  {
   "cell_type": "code",
   "execution_count": 11,
   "id": "6a7dabfc",
   "metadata": {
    "hidden": true,
    "scrolled": true
   },
   "outputs": [
    {
     "data": {
      "text/html": [
       "<div>\n",
       "<style scoped>\n",
       "    .dataframe tbody tr th:only-of-type {\n",
       "        vertical-align: middle;\n",
       "    }\n",
       "\n",
       "    .dataframe tbody tr th {\n",
       "        vertical-align: top;\n",
       "    }\n",
       "\n",
       "    .dataframe thead th {\n",
       "        text-align: right;\n",
       "    }\n",
       "</style>\n",
       "<table border=\"1\" class=\"dataframe\">\n",
       "  <thead>\n",
       "    <tr style=\"text-align: right;\">\n",
       "      <th></th>\n",
       "      <th>split2_subset2_1</th>\n",
       "      <th>split2_subset2_2</th>\n",
       "      <th>split2_subset2_3</th>\n",
       "    </tr>\n",
       "  </thead>\n",
       "  <tbody>\n",
       "    <tr>\n",
       "      <th>1</th>\n",
       "      <td>0.060879</td>\n",
       "      <td>0.198117</td>\n",
       "      <td>0.068187</td>\n",
       "    </tr>\n",
       "    <tr>\n",
       "      <th>2</th>\n",
       "      <td>0.016313</td>\n",
       "      <td>0.591673</td>\n",
       "      <td>0.088546</td>\n",
       "    </tr>\n",
       "    <tr>\n",
       "      <th>3</th>\n",
       "      <td>0.051800</td>\n",
       "      <td>0.128085</td>\n",
       "      <td>0.130719</td>\n",
       "    </tr>\n",
       "    <tr>\n",
       "      <th>6</th>\n",
       "      <td>0.051800</td>\n",
       "      <td>0.198117</td>\n",
       "      <td>0.000450</td>\n",
       "    </tr>\n",
       "  </tbody>\n",
       "</table>\n",
       "</div>"
      ],
      "text/plain": [
       "   split2_subset2_1  split2_subset2_2  split2_subset2_3\n",
       "1          0.060879          0.198117          0.068187\n",
       "2          0.016313          0.591673          0.088546\n",
       "3          0.051800          0.128085          0.130719\n",
       "6          0.051800          0.198117          0.000450"
      ]
     },
     "execution_count": 11,
     "metadata": {},
     "output_type": "execute_result"
    }
   ],
   "source": [
    "# For each subset compute information gains\n",
    "# Exclude attribute a4 and a5 ... at index 3 and 4\n",
    "# Create a dictionary with keys = split2_subset2_x and values = list of attributes\n",
    "\n",
    "new_dict_split2sub2 = {}\n",
    "for key, value in dict_split2_subset2.items():\n",
    "    new_dict_split2sub2[key] = []\n",
    "    for attribute in [m.attributes[0], m.attributes[1], m.attributes[2], m.attributes[5]]:\n",
    "        new_dict_split2sub2[key].append(dt.averageGain(value,attribute))\n",
    "\n",
    "\n",
    "split2_subset2 = pd.DataFrame.from_dict(new_dict_split2sub2)\n",
    "split2_subset2.rename(index= {0:1, 1:2, 2:3, 3:6})\n"
   ]
  },
  {
   "cell_type": "code",
   "execution_count": 12,
   "id": "38ba90dd",
   "metadata": {
    "hidden": true
   },
   "outputs": [
    {
     "data": {
      "text/plain": [
       "split2_subset2_1    0.060879\n",
       "split2_subset2_2    0.591673\n",
       "split2_subset2_3    0.130719\n",
       "dtype: float64"
      ]
     },
     "execution_count": 12,
     "metadata": {},
     "output_type": "execute_result"
    }
   ],
   "source": [
    "split2_subset2.max()"
   ]
  },
  {
   "cell_type": "markdown",
   "id": "9405f025",
   "metadata": {
    "hidden": true
   },
   "source": [
    "**Split 2, subset 2**\n",
    "\n",
    "- for subset 1 --> split at attribute a1\n",
    "- for subset 2 --> split at attribute a2\n",
    "- for subset 3 --> split at attribute a3\n"
   ]
  },
  {
   "cell_type": "markdown",
   "id": "fb9a6055",
   "metadata": {
    "heading_collapsed": true,
    "hidden": true
   },
   "source": [
    "### Subset 3: split at attribute 6"
   ]
  },
  {
   "cell_type": "code",
   "execution_count": 13,
   "id": "bfd16666",
   "metadata": {
    "hidden": true
   },
   "outputs": [
    {
     "data": {
      "text/html": [
       "<div>\n",
       "<style scoped>\n",
       "    .dataframe tbody tr th:only-of-type {\n",
       "        vertical-align: middle;\n",
       "    }\n",
       "\n",
       "    .dataframe tbody tr th {\n",
       "        vertical-align: top;\n",
       "    }\n",
       "\n",
       "    .dataframe thead th {\n",
       "        text-align: right;\n",
       "    }\n",
       "</style>\n",
       "<table border=\"1\" class=\"dataframe\">\n",
       "  <thead>\n",
       "    <tr style=\"text-align: right;\">\n",
       "      <th></th>\n",
       "      <th>split2_subset3_1</th>\n",
       "      <th>split2_subset3_2</th>\n",
       "    </tr>\n",
       "  </thead>\n",
       "  <tbody>\n",
       "    <tr>\n",
       "      <th>1</th>\n",
       "      <td>0.036928</td>\n",
       "      <td>0.034883</td>\n",
       "    </tr>\n",
       "    <tr>\n",
       "      <th>2</th>\n",
       "      <td>0.105897</td>\n",
       "      <td>0.003585</td>\n",
       "    </tr>\n",
       "    <tr>\n",
       "      <th>3</th>\n",
       "      <td>0.000661</td>\n",
       "      <td>0.123694</td>\n",
       "    </tr>\n",
       "    <tr>\n",
       "      <th>4</th>\n",
       "      <td>0.128243</td>\n",
       "      <td>0.034883</td>\n",
       "    </tr>\n",
       "  </tbody>\n",
       "</table>\n",
       "</div>"
      ],
      "text/plain": [
       "   split2_subset3_1  split2_subset3_2\n",
       "1          0.036928          0.034883\n",
       "2          0.105897          0.003585\n",
       "3          0.000661          0.123694\n",
       "4          0.128243          0.034883"
      ]
     },
     "execution_count": 13,
     "metadata": {},
     "output_type": "execute_result"
    }
   ],
   "source": [
    "# creating subsets for split on subset 3 attribute 6\n",
    "\n",
    "split2_subset3_1 = dt.select(split1_3, m.attributes[5], 1)\n",
    "split2_subset3_2 = dt.select(split1_3, m.attributes[5], 2)\n",
    "\n",
    "dict_split2_subset3 = {'split2_subset3_1' : split2_subset3_1, 'split2_subset3_2': split2_subset3_2}\n",
    "\n",
    "# For each subset compute information gains\n",
    "# Exclude attribute a6 and a5 ... at index 5 and 4\n",
    "# Create a dictionary with keys = split2_subset3_x and values = list of attributes\n",
    "\n",
    "new_dict_split2sub3 = {}\n",
    "for key, value in dict_split2_subset3.items():\n",
    "    new_dict_split2sub3[key] = []\n",
    "    for attribute in [m.attributes[0], m.attributes[1], m.attributes[2], m.attributes[3]]:\n",
    "        new_dict_split2sub3[key].append(dt.averageGain(value,attribute))\n",
    "\n",
    "\n",
    "split2_subset3 = pd.DataFrame.from_dict(new_dict_split2sub3)\n",
    "split2_subset3.rename(index= {0:1, 1:2, 2:3, 3:4})"
   ]
  },
  {
   "cell_type": "code",
   "execution_count": 14,
   "id": "031acd9a",
   "metadata": {
    "hidden": true
   },
   "outputs": [
    {
     "data": {
      "text/plain": [
       "split2_subset3_1    0.128243\n",
       "split2_subset3_2    0.123694\n",
       "dtype: float64"
      ]
     },
     "execution_count": 14,
     "metadata": {},
     "output_type": "execute_result"
    }
   ],
   "source": [
    "split2_subset3.max()"
   ]
  },
  {
   "cell_type": "markdown",
   "id": "588c2703",
   "metadata": {
    "hidden": true
   },
   "source": [
    "**Split 2, subset 3**\n",
    "\n",
    "- for subset 1 --> split at attribute a4\n",
    "- for subset 2 --> split at attribute a3"
   ]
  },
  {
   "cell_type": "markdown",
   "id": "57dfe4fe",
   "metadata": {
    "heading_collapsed": true,
    "hidden": true
   },
   "source": [
    "### Subset 4: split at attribute 1"
   ]
  },
  {
   "cell_type": "code",
   "execution_count": 15,
   "id": "e6c8c448",
   "metadata": {
    "hidden": true
   },
   "outputs": [
    {
     "data": {
      "text/html": [
       "<div>\n",
       "<style scoped>\n",
       "    .dataframe tbody tr th:only-of-type {\n",
       "        vertical-align: middle;\n",
       "    }\n",
       "\n",
       "    .dataframe tbody tr th {\n",
       "        vertical-align: top;\n",
       "    }\n",
       "\n",
       "    .dataframe thead th {\n",
       "        text-align: right;\n",
       "    }\n",
       "</style>\n",
       "<table border=\"1\" class=\"dataframe\">\n",
       "  <thead>\n",
       "    <tr style=\"text-align: right;\">\n",
       "      <th></th>\n",
       "      <th>split2_subset4_1</th>\n",
       "      <th>split2_subset4_2</th>\n",
       "      <th>split2_subset4_3</th>\n",
       "    </tr>\n",
       "  </thead>\n",
       "  <tbody>\n",
       "    <tr>\n",
       "      <th>2</th>\n",
       "      <td>0.371232</td>\n",
       "      <td>0.945660</td>\n",
       "      <td>0.918296</td>\n",
       "    </tr>\n",
       "    <tr>\n",
       "      <th>3</th>\n",
       "      <td>0.075396</td>\n",
       "      <td>0.072057</td>\n",
       "      <td>0.018311</td>\n",
       "    </tr>\n",
       "    <tr>\n",
       "      <th>4</th>\n",
       "      <td>0.075396</td>\n",
       "      <td>0.253875</td>\n",
       "      <td>0.029407</td>\n",
       "    </tr>\n",
       "    <tr>\n",
       "      <th>6</th>\n",
       "      <td>0.075396</td>\n",
       "      <td>0.003430</td>\n",
       "      <td>0.024758</td>\n",
       "    </tr>\n",
       "  </tbody>\n",
       "</table>\n",
       "</div>"
      ],
      "text/plain": [
       "   split2_subset4_1  split2_subset4_2  split2_subset4_3\n",
       "2          0.371232          0.945660          0.918296\n",
       "3          0.075396          0.072057          0.018311\n",
       "4          0.075396          0.253875          0.029407\n",
       "6          0.075396          0.003430          0.024758"
      ]
     },
     "execution_count": 15,
     "metadata": {},
     "output_type": "execute_result"
    }
   ],
   "source": [
    "# creating subsets for split on subset 4 attribute 1\n",
    "\n",
    "split2_subset4_1 = dt.select(split1_4, m.attributes[0], 1)\n",
    "split2_subset4_2 = dt.select(split1_4, m.attributes[0], 2)\n",
    "split2_subset4_3 = dt.select(split1_4, m.attributes[0], 3)\n",
    "\n",
    "dict_split2_subset4 = {'split2_subset4_1' : split2_subset4_1, 'split2_subset4_2': split2_subset4_2, 'split2_subset4_3' : split2_subset4_3}\n",
    "\n",
    "# For each subset compute information gains\n",
    "# Exclude attribute a1 and a5 ... at index 0 and 4\n",
    "# Create a dictionary with keys = split2_subset4_x and values = list of attributes\n",
    "\n",
    "new_dict_split2sub4 = {}\n",
    "for key, value in dict_split2_subset4.items():\n",
    "    new_dict_split2sub4[key] = []\n",
    "    for attribute in [m.attributes[1], m.attributes[2], m.attributes[3], m.attributes[5]]:\n",
    "        new_dict_split2sub4[key].append(dt.averageGain(value,attribute))\n",
    "\n",
    "\n",
    "split2_subset4 = pd.DataFrame.from_dict(new_dict_split2sub4)\n",
    "split2_subset4.rename(index= {0:2, 1:3, 2:4, 3:6})"
   ]
  },
  {
   "cell_type": "code",
   "execution_count": 16,
   "id": "fce0dcd5",
   "metadata": {
    "hidden": true
   },
   "outputs": [
    {
     "data": {
      "text/plain": [
       "split2_subset4_1    0.371232\n",
       "split2_subset4_2    0.945660\n",
       "split2_subset4_3    0.918296\n",
       "dtype: float64"
      ]
     },
     "execution_count": 16,
     "metadata": {},
     "output_type": "execute_result"
    }
   ],
   "source": [
    "split2_subset4.max()"
   ]
  },
  {
   "cell_type": "markdown",
   "id": "c08f3d77",
   "metadata": {
    "hidden": true
   },
   "source": [
    "**Split 2, subset 4**\n",
    "\n",
    "- for subset 1 --> split at attribute a2\n",
    "- for subset 2 --> split at attribute a2\n",
    "- for subset 2 --> split at attribute a2"
   ]
  },
  {
   "cell_type": "markdown",
   "id": "251c27dd",
   "metadata": {
    "heading_collapsed": true,
    "hidden": true
   },
   "source": [
    "### Using mostCommon function to obtain the majority class for each subset"
   ]
  },
  {
   "cell_type": "code",
   "execution_count": 17,
   "id": "2e3293c4",
   "metadata": {
    "code_folding": [],
    "hidden": true
   },
   "outputs": [],
   "source": [
    "subset_dict = {}\n",
    "\n",
    "for subset in [dict_split2_subset2, dict_split2_subset3, dict_split2_subset4]:\n",
    "    subset_dict.update(subset)"
   ]
  },
  {
   "cell_type": "code",
   "execution_count": 18,
   "id": "9fbc3433",
   "metadata": {
    "code_folding": [],
    "hidden": true
   },
   "outputs": [
    {
     "data": {
      "text/html": [
       "<div>\n",
       "<style scoped>\n",
       "    .dataframe tbody tr th:only-of-type {\n",
       "        vertical-align: middle;\n",
       "    }\n",
       "\n",
       "    .dataframe tbody tr th {\n",
       "        vertical-align: top;\n",
       "    }\n",
       "\n",
       "    .dataframe thead th {\n",
       "        text-align: right;\n",
       "    }\n",
       "</style>\n",
       "<table border=\"1\" class=\"dataframe\">\n",
       "  <thead>\n",
       "    <tr style=\"text-align: right;\">\n",
       "      <th></th>\n",
       "      <th>True/False</th>\n",
       "    </tr>\n",
       "    <tr>\n",
       "      <th>index</th>\n",
       "      <th></th>\n",
       "    </tr>\n",
       "  </thead>\n",
       "  <tbody>\n",
       "    <tr>\n",
       "      <th>split2_subset2_1</th>\n",
       "      <td>0</td>\n",
       "    </tr>\n",
       "    <tr>\n",
       "      <th>split2_subset2_2</th>\n",
       "      <td>0</td>\n",
       "    </tr>\n",
       "    <tr>\n",
       "      <th>split2_subset2_3</th>\n",
       "      <td>0</td>\n",
       "    </tr>\n",
       "    <tr>\n",
       "      <th>split2_subset3_1</th>\n",
       "      <td>0</td>\n",
       "    </tr>\n",
       "    <tr>\n",
       "      <th>split2_subset3_2</th>\n",
       "      <td>0</td>\n",
       "    </tr>\n",
       "    <tr>\n",
       "      <th>split2_subset4_1</th>\n",
       "      <td>0</td>\n",
       "    </tr>\n",
       "    <tr>\n",
       "      <th>split2_subset4_2</th>\n",
       "      <td>0</td>\n",
       "    </tr>\n",
       "    <tr>\n",
       "      <th>split2_subset4_3</th>\n",
       "      <td>1</td>\n",
       "    </tr>\n",
       "  </tbody>\n",
       "</table>\n",
       "</div>"
      ],
      "text/plain": [
       "                  True/False\n",
       "index                       \n",
       "split2_subset2_1           0\n",
       "split2_subset2_2           0\n",
       "split2_subset2_3           0\n",
       "split2_subset3_1           0\n",
       "split2_subset3_2           0\n",
       "split2_subset4_1           0\n",
       "split2_subset4_2           0\n",
       "split2_subset4_3           1"
      ]
     },
     "execution_count": 18,
     "metadata": {},
     "output_type": "execute_result"
    }
   ],
   "source": [
    "final_dict = {'True/False' : []}\n",
    "index_list = []\n",
    "\n",
    "for subset_name, subset in subset_dict.items():\n",
    "    if dt.mostCommon(subset) == True:\n",
    "        final_dict['True/False'].append(1)\n",
    "    else:\n",
    "        final_dict['True/False'].append(0)\n",
    "    index_list.append(subset_name)\n",
    "\n",
    "final_df = pd.DataFrame.from_dict(final_dict)\n",
    "final_df['index'] = index_list\n",
    "final_df.set_index('index')"
   ]
  },
  {
   "cell_type": "markdown",
   "id": "b287bd54",
   "metadata": {
    "heading_collapsed": true
   },
   "source": [
    "# Assignment 5\n",
    "**Build the full decision trees for all three Monk datasets using buildTree. Then, use the function check to measure the performance of the decision tree on both the training and test datasets.\n",
    "For example to built a tree for monk1 and compute the performance on the test data you could use:**\n",
    "- import monkdata as m\n",
    "- import dtree as d\n",
    "- t=d.buildTree(m.monk1, m.attributes);\n",
    "- print(d.check(t, m.monk1test))\n",
    "\n",
    "\n",
    "**Compute the train and test set errors for the three Monk datasets\n",
    "for the full trees. Were your assumptions about the datasets correct?\n",
    "Explain the results you get for the training and test datasets.**"
   ]
  },
  {
   "cell_type": "code",
   "execution_count": 26,
   "id": "bd9c3f92",
   "metadata": {
    "hidden": true
   },
   "outputs": [],
   "source": [
    "import drawtree_qt5 as draw\n",
    "\n",
    "# Monk1 \n",
    "\n",
    "monk1tree = dt.buildTree(m.monk1, m.attributes)\n",
    "#draw.drawTree(monk1tree)"
   ]
  },
  {
   "cell_type": "code",
   "execution_count": 27,
   "id": "11394b85",
   "metadata": {
    "hidden": true
   },
   "outputs": [],
   "source": [
    "# Monk2\n",
    "\n",
    "monk2tree = dt.buildTree(m.monk2, m.attributes)\n",
    "#draw.drawTree(monk2tree)"
   ]
  },
  {
   "cell_type": "code",
   "execution_count": 28,
   "id": "4e395bfb",
   "metadata": {
    "hidden": true
   },
   "outputs": [],
   "source": [
    "# Monk3\n",
    "\n",
    "monk3tree = dt.buildTree(m.monk3, m.attributes)\n",
    "#draw.drawTree(monk3tree)"
   ]
  },
  {
   "cell_type": "markdown",
   "id": "155be7b6",
   "metadata": {
    "hidden": true
   },
   "source": [
    "The test error is the fraction of incorrectly classified samples. Since the function check measures the fraction of correctly classified samples, the error rate is computed by substracting the output of function check from 1:"
   ]
  },
  {
   "cell_type": "code",
   "execution_count": 29,
   "id": "75103e6c",
   "metadata": {
    "hidden": true
   },
   "outputs": [
    {
     "data": {
      "text/html": [
       "<div>\n",
       "<style scoped>\n",
       "    .dataframe tbody tr th:only-of-type {\n",
       "        vertical-align: middle;\n",
       "    }\n",
       "\n",
       "    .dataframe tbody tr th {\n",
       "        vertical-align: top;\n",
       "    }\n",
       "\n",
       "    .dataframe thead th {\n",
       "        text-align: right;\n",
       "    }\n",
       "</style>\n",
       "<table border=\"1\" class=\"dataframe\">\n",
       "  <thead>\n",
       "    <tr style=\"text-align: right;\">\n",
       "      <th></th>\n",
       "      <th>train_e</th>\n",
       "      <th>test_e</th>\n",
       "    </tr>\n",
       "    <tr>\n",
       "      <th></th>\n",
       "      <th></th>\n",
       "      <th></th>\n",
       "    </tr>\n",
       "  </thead>\n",
       "  <tbody>\n",
       "    <tr>\n",
       "      <th>MONK1</th>\n",
       "      <td>0.0</td>\n",
       "      <td>0.171296</td>\n",
       "    </tr>\n",
       "    <tr>\n",
       "      <th>MONK2</th>\n",
       "      <td>0.0</td>\n",
       "      <td>0.307870</td>\n",
       "    </tr>\n",
       "    <tr>\n",
       "      <th>MONK3</th>\n",
       "      <td>0.0</td>\n",
       "      <td>0.055556</td>\n",
       "    </tr>\n",
       "  </tbody>\n",
       "</table>\n",
       "</div>"
      ],
      "text/plain": [
       "       train_e    test_e\n",
       "                        \n",
       "MONK1      0.0  0.171296\n",
       "MONK2      0.0  0.307870\n",
       "MONK3      0.0  0.055556"
      ]
     },
     "execution_count": 29,
     "metadata": {},
     "output_type": "execute_result"
    }
   ],
   "source": [
    "error_rate_dict = {'train_e' : [0.0,0.0,0.0], 'test_e' : [1-dt.check(monk1tree, m.monk1test), 1-dt.check(monk2tree, m.monk2test), 1-dt.check(monk3tree, m.monk3test)]}\n",
    "error_rate_df = pd.DataFrame.from_dict(error_rate_dict)\n",
    "error_rate_df[' '] = ['MONK1', 'MONK2', 'MONK3']\n",
    "error_rate_df.set_index(' ')"
   ]
  },
  {
   "cell_type": "markdown",
   "id": "4b42a7d4",
   "metadata": {
    "hidden": true
   },
   "source": [
    "The reason we get training error rate = 0 is because we've built the decision tree using the training dataset. Therefore, it is classifying perfectly against the training data but is most likely overfitting."
   ]
  },
  {
   "cell_type": "markdown",
   "id": "be577c1a",
   "metadata": {
    "heading_collapsed": true
   },
   "source": [
    "# Assignment 6\n",
    "\n",
    "**Explain pruning from a bias variance trade-off perspective.**"
   ]
  },
  {
   "cell_type": "markdown",
   "id": "d4ebc2f3",
   "metadata": {
    "hidden": true
   },
   "source": [
    "Pruning \"reduces the size of decision trees by removing sections of the tree that are non-critical and redundant to classify instances.\" \n",
    "\n",
    "When a decision tree is very complex with a lot of splits, it often performs well on the training data but much worse on the testing data. In that situation, we say that the decision tree model overfits the data; it is said to have a **high variance**. \n",
    "On the other hand, a smaller tree with fewer splits might lead to **lower variance and better results (at the cost of a little bias).**"
   ]
  },
  {
   "cell_type": "code",
   "execution_count": 49,
   "id": "add04499",
   "metadata": {
    "hidden": true
   },
   "outputs": [],
   "source": [
    "import random\n",
    "\n",
    "# split our original training data into one training set for building the tree and one validation set for pruning.\n",
    "# obs: using the test set for validation would be cheating because \n",
    "# we would then no longer be able to use the test set for independently \n",
    "# estimating the true error of our pruned decision tree.\n",
    "\n",
    "def partition(data, fraction):\n",
    "    ldata = list(data)\n",
    "    random.shuffle(ldata)\n",
    "    breakPoint = int(len(ldata) * fraction)\n",
    "    return ldata[:breakPoint], ldata[breakPoint:]"
   ]
  },
  {
   "cell_type": "markdown",
   "id": "8fb21a34",
   "metadata": {},
   "source": [
    "# Assignment 7\n",
    "\n",
    "**Evaluate the effect pruning has on the test error for the monk1 and monk3 datasets, in particular determine the optimal partition into training and pruning by optimizing the parameter fraction. Plot the classification error on the test sets as a function of the parameter fraction ∈ {0.3, 0.4, 0.5, 0.6, 0.7, 0.8}.\n",
    "Note that the split of the data is random. We therefore need to compute the statistics over several runs of the split to be able to draw any conclusions. Reasonable statistics includes mean and a measure of the spread. Do remember to print axes labels, legends and data points as you will not pass without them.**"
   ]
  },
  {
   "cell_type": "markdown",
   "id": "a7a436de",
   "metadata": {
    "heading_collapsed": true
   },
   "source": [
    "## Monk1"
   ]
  },
  {
   "cell_type": "code",
   "execution_count": 64,
   "id": "6776805b",
   "metadata": {
    "hidden": true
   },
   "outputs": [],
   "source": [
    "monk1train, monk1val = partition(m.monk1, 0.6)\n",
    "\n",
    "# create tree from monk1train\n",
    "monk1treetrain = dt.buildTree(monk1train, m.attributes)"
   ]
  },
  {
   "cell_type": "code",
   "execution_count": 71,
   "id": "6d737fa7",
   "metadata": {
    "hidden": true
   },
   "outputs": [
    {
     "data": {
      "text/plain": [
       "1"
      ]
     },
     "execution_count": 71,
     "metadata": {},
     "output_type": "execute_result"
    }
   ],
   "source": [
    "dict_test_error_mk1 = {}\n",
    "i = 0\n",
    "for tree in dt.allPruned(monk1treetrain):\n",
    "    dict_test_error_mk1[i] = 1-dt.check(tree, monk1val)\n",
    "    i +=1\n",
    "    \n",
    "# find key with lowest error:\n",
    "key1 = min(dict_test_error_mk1, key = dict_test_error_mk1.get)\n",
    "key1"
   ]
  },
  {
   "cell_type": "code",
   "execution_count": 72,
   "id": "35b55c9e",
   "metadata": {
    "hidden": true
   },
   "outputs": [
    {
     "data": {
      "text/plain": [
       "0.14"
      ]
     },
     "execution_count": 72,
     "metadata": {},
     "output_type": "execute_result"
    }
   ],
   "source": [
    "dict_test_error_mk1[key1]"
   ]
  },
  {
   "cell_type": "code",
   "execution_count": 73,
   "id": "5a59bf5f",
   "metadata": {
    "hidden": true
   },
   "outputs": [],
   "source": [
    "best_mk1_tree = dt.allPruned(monk1treetrain)[key1]"
   ]
  },
  {
   "cell_type": "markdown",
   "id": "f156c451",
   "metadata": {
    "heading_collapsed": true
   },
   "source": [
    "## Monk2"
   ]
  },
  {
   "cell_type": "code",
   "execution_count": 81,
   "id": "ceb617ee",
   "metadata": {
    "hidden": true
   },
   "outputs": [
    {
     "data": {
      "text/plain": [
       "0"
      ]
     },
     "execution_count": 81,
     "metadata": {},
     "output_type": "execute_result"
    }
   ],
   "source": [
    "monk2train, monk2val = partition(m.monk2, 0.6)\n",
    "\n",
    "# create tree from monk2train\n",
    "monk2treetrain = dt.buildTree(monk2train, m.attributes)\n",
    "\n",
    "dict_test_error_mk2 = {}\n",
    "i = 0\n",
    "for tree in dt.allPruned(monk2treetrain):\n",
    "    dict_test_error_mk2[i] = 1-dt.check(tree, monk2val)\n",
    "    i +=1\n",
    "    \n",
    "# find key with lowest error:\n",
    "key2 = min(dict_test_error_mk2, key = dict_test_error_mk2.get)\n",
    "key2"
   ]
  },
  {
   "cell_type": "code",
   "execution_count": 82,
   "id": "f650df1e",
   "metadata": {
    "hidden": true
   },
   "outputs": [
    {
     "data": {
      "text/plain": [
       "0.32352941176470584"
      ]
     },
     "execution_count": 82,
     "metadata": {},
     "output_type": "execute_result"
    }
   ],
   "source": [
    "dict_test_error_mk2[key2]"
   ]
  },
  {
   "cell_type": "code",
   "execution_count": 83,
   "id": "b726dd9e",
   "metadata": {
    "hidden": true
   },
   "outputs": [],
   "source": [
    "best_mk2_tree = dt.allPruned(monk2treetrain)[key2]"
   ]
  },
  {
   "cell_type": "markdown",
   "id": "f8d74f69",
   "metadata": {
    "heading_collapsed": true
   },
   "source": [
    "## Monk3"
   ]
  },
  {
   "cell_type": "code",
   "execution_count": 84,
   "id": "859a1586",
   "metadata": {
    "hidden": true
   },
   "outputs": [
    {
     "data": {
      "text/plain": [
       "2"
      ]
     },
     "execution_count": 84,
     "metadata": {},
     "output_type": "execute_result"
    }
   ],
   "source": [
    "monk3train, monk3val = partition(m.monk3, 0.6)\n",
    "\n",
    "# create tree from monk2train\n",
    "monk3treetrain = dt.buildTree(monk3train, m.attributes)\n",
    "\n",
    "dict_test_error_mk3 = {}\n",
    "i = 0\n",
    "for tree in dt.allPruned(monk3treetrain):\n",
    "    dict_test_error_mk3[i] = 1-dt.check(tree, monk3val)\n",
    "    i +=1\n",
    "    \n",
    "# find key with lowest error:\n",
    "key3 = min(dict_test_error_mk3, key = dict_test_error_mk3.get)\n",
    "key3"
   ]
  },
  {
   "cell_type": "code",
   "execution_count": null,
   "id": "fdd4d29a",
   "metadata": {
    "hidden": true
   },
   "outputs": [],
   "source": [
    "dict_test_error_mk2[key3]"
   ]
  },
  {
   "cell_type": "code",
   "execution_count": 85,
   "id": "2fe781d8",
   "metadata": {
    "hidden": true
   },
   "outputs": [],
   "source": [
    "best_mk3_tree = dt.allPruned(monk3treetrain)[key3]"
   ]
  },
  {
   "cell_type": "markdown",
   "id": "49a6425a",
   "metadata": {},
   "source": [
    "## Statistics"
   ]
  },
  {
   "cell_type": "markdown",
   "id": "e8ece62c",
   "metadata": {
    "heading_collapsed": true
   },
   "source": [
    "## Monk1"
   ]
  },
  {
   "cell_type": "code",
   "execution_count": 150,
   "id": "a1a8213f",
   "metadata": {
    "hidden": true
   },
   "outputs": [],
   "source": [
    "new_stat = {0.3 : [], 0.4: [], 0.5: [], 0.6: [], 0.7: [], 0.8: []}\n",
    "\n",
    "mk1_error_list = []\n",
    "mk1_fraction_list = []\n",
    "\n",
    "for i in range(100): # compute the statistics over several runs of the split \n",
    "    \n",
    "    for fraction in new_stat.keys():\n",
    "\n",
    "        monk1train, monk1val = partition(m.monk1, fraction)\n",
    "\n",
    "        # create tree from monk1train\n",
    "        monk1treetrain = dt.buildTree(monk1train, m.attributes)\n",
    "\n",
    "        # find best monk1 tree\n",
    "        dict_test_error_mk1 = {}\n",
    "        i = 0\n",
    "        for tree in dt.allPruned(monk1treetrain):\n",
    "            dict_test_error_mk1[i] = 1-dt.check(tree, monk1val)\n",
    "            i +=1\n",
    "\n",
    "        # key1 is key with lowest validation error:\n",
    "        key1 = min(dict_test_error_mk1, key = dict_test_error_mk1.get)\n",
    "\n",
    "        best_mk1_tree = dt.allPruned(monk1treetrain)[key1]\n",
    "\n",
    "        # compute test error for the fraction and add to new_stat dict\n",
    "        test_error = 1-dt.check(best_mk1_tree, m.monk1test)\n",
    "        new_stat[fraction].append(test_error)"
   ]
  },
  {
   "cell_type": "code",
   "execution_count": 212,
   "id": "e740723e",
   "metadata": {
    "hidden": true
   },
   "outputs": [
    {
     "data": {
      "text/html": [
       "<div>\n",
       "<style scoped>\n",
       "    .dataframe tbody tr th:only-of-type {\n",
       "        vertical-align: middle;\n",
       "    }\n",
       "\n",
       "    .dataframe tbody tr th {\n",
       "        vertical-align: top;\n",
       "    }\n",
       "\n",
       "    .dataframe thead th {\n",
       "        text-align: right;\n",
       "    }\n",
       "</style>\n",
       "<table border=\"1\" class=\"dataframe\">\n",
       "  <thead>\n",
       "    <tr style=\"text-align: right;\">\n",
       "      <th></th>\n",
       "      <th>variance_error_list</th>\n",
       "      <th>mean_error_list</th>\n",
       "      <th>fractions</th>\n",
       "    </tr>\n",
       "  </thead>\n",
       "  <tbody>\n",
       "    <tr>\n",
       "      <th>0</th>\n",
       "      <td>0.007259</td>\n",
       "      <td>0.142870</td>\n",
       "      <td>0.3</td>\n",
       "    </tr>\n",
       "    <tr>\n",
       "      <th>1</th>\n",
       "      <td>0.006137</td>\n",
       "      <td>0.121296</td>\n",
       "      <td>0.4</td>\n",
       "    </tr>\n",
       "    <tr>\n",
       "      <th>2</th>\n",
       "      <td>0.005382</td>\n",
       "      <td>0.104776</td>\n",
       "      <td>0.5</td>\n",
       "    </tr>\n",
       "    <tr>\n",
       "      <th>3</th>\n",
       "      <td>0.004100</td>\n",
       "      <td>0.091227</td>\n",
       "      <td>0.6</td>\n",
       "    </tr>\n",
       "    <tr>\n",
       "      <th>4</th>\n",
       "      <td>0.003678</td>\n",
       "      <td>0.088410</td>\n",
       "      <td>0.7</td>\n",
       "    </tr>\n",
       "    <tr>\n",
       "      <th>5</th>\n",
       "      <td>0.003327</td>\n",
       "      <td>0.082531</td>\n",
       "      <td>0.8</td>\n",
       "    </tr>\n",
       "  </tbody>\n",
       "</table>\n",
       "</div>"
      ],
      "text/plain": [
       "   variance_error_list  mean_error_list  fractions\n",
       "0             0.007259         0.142870        0.3\n",
       "1             0.006137         0.121296        0.4\n",
       "2             0.005382         0.104776        0.5\n",
       "3             0.004100         0.091227        0.6\n",
       "4             0.003678         0.088410        0.7\n",
       "5             0.003327         0.082531        0.8"
      ]
     },
     "execution_count": 212,
     "metadata": {},
     "output_type": "execute_result"
    }
   ],
   "source": [
    "# compute statistics for each fraction\n",
    "\n",
    "mean_list_monk1 = []\n",
    "variance_list_monk1 = []\n",
    "fractions = [_ for _ in new_stat.keys()]\n",
    "\n",
    "for list_of_values in new_stat.values():\n",
    "    mean_list_monk1.append(np.mean(list_of_values))\n",
    "    variance_list_monk1.append(np.var(list_of_values))\n",
    "    \n",
    "# create dataframe\n",
    "df_mk1 = pd.DataFrame(mean_list_monk1, variance_list_monk1)\n",
    "df_mk1 = df_mk1.reset_index()\n",
    "df_mk1['fractions'] = [_ for _ in new_stat.keys()]\n",
    "df_mk1 = df_mk1.rename(columns = {'index': 'variance_error_list', 0:\"mean_error_list\"})\n",
    "df_mk1"
   ]
  },
  {
   "cell_type": "markdown",
   "id": "4f28ac0a",
   "metadata": {
    "heading_collapsed": true
   },
   "source": [
    "## Monk 3"
   ]
  },
  {
   "cell_type": "code",
   "execution_count": 206,
   "id": "09cdcc95",
   "metadata": {
    "hidden": true
   },
   "outputs": [],
   "source": [
    "new_stat_3 = {0.3 : [], 0.4: [], 0.5: [], 0.6: [], 0.7: [], 0.8: []}\n",
    "\n",
    "mk3_error_list = []\n",
    "mk3_fraction_list = []\n",
    "\n",
    "for i in range(100): # compute the statistics over several runs of the split \n",
    "    \n",
    "    for fraction in new_stat_3.keys():\n",
    "\n",
    "        monk3train, monk3val = partition(m.monk3, fraction)\n",
    "\n",
    "        # create tree from monk1train\n",
    "        monk3treetrain = dt.buildTree(monk3train, m.attributes)\n",
    "\n",
    "        # find best monk3 tree\n",
    "        dict_test_error_mk3 = {}\n",
    "        i = 0\n",
    "        for tree in dt.allPruned(monk3treetrain):\n",
    "            dict_test_error_mk3[i] = 1-dt.check(tree, monk3val)\n",
    "            i +=1\n",
    "\n",
    "        # key1 is key with lowest validation error:\n",
    "        key3 = min(dict_test_error_mk3, key = dict_test_error_mk3.get)\n",
    "\n",
    "        best_mk3_tree = dt.allPruned(monk3treetrain)[key3]\n",
    "\n",
    "        # compute test error for the fraction and add to new_stat dict\n",
    "        test_error = 1-dt.check(best_mk3_tree, m.monk3test)\n",
    "        new_stat_3[fraction].append(test_error)"
   ]
  },
  {
   "cell_type": "code",
   "execution_count": 207,
   "id": "edacdb57",
   "metadata": {
    "hidden": true
   },
   "outputs": [
    {
     "data": {
      "text/html": [
       "<div>\n",
       "<style scoped>\n",
       "    .dataframe tbody tr th:only-of-type {\n",
       "        vertical-align: middle;\n",
       "    }\n",
       "\n",
       "    .dataframe tbody tr th {\n",
       "        vertical-align: top;\n",
       "    }\n",
       "\n",
       "    .dataframe thead th {\n",
       "        text-align: right;\n",
       "    }\n",
       "</style>\n",
       "<table border=\"1\" class=\"dataframe\">\n",
       "  <thead>\n",
       "    <tr style=\"text-align: right;\">\n",
       "      <th></th>\n",
       "      <th>variance_error_list</th>\n",
       "      <th>mean_error_list</th>\n",
       "      <th>fractions</th>\n",
       "    </tr>\n",
       "  </thead>\n",
       "  <tbody>\n",
       "    <tr>\n",
       "      <th>0</th>\n",
       "      <td>0.002745</td>\n",
       "      <td>0.098171</td>\n",
       "      <td>0.3</td>\n",
       "    </tr>\n",
       "    <tr>\n",
       "      <th>1</th>\n",
       "      <td>0.002115</td>\n",
       "      <td>0.076042</td>\n",
       "      <td>0.4</td>\n",
       "    </tr>\n",
       "    <tr>\n",
       "      <th>2</th>\n",
       "      <td>0.001280</td>\n",
       "      <td>0.062083</td>\n",
       "      <td>0.5</td>\n",
       "    </tr>\n",
       "    <tr>\n",
       "      <th>3</th>\n",
       "      <td>0.000759</td>\n",
       "      <td>0.057986</td>\n",
       "      <td>0.6</td>\n",
       "    </tr>\n",
       "    <tr>\n",
       "      <th>4</th>\n",
       "      <td>0.000782</td>\n",
       "      <td>0.045417</td>\n",
       "      <td>0.7</td>\n",
       "    </tr>\n",
       "    <tr>\n",
       "      <th>5</th>\n",
       "      <td>0.000647</td>\n",
       "      <td>0.045880</td>\n",
       "      <td>0.8</td>\n",
       "    </tr>\n",
       "  </tbody>\n",
       "</table>\n",
       "</div>"
      ],
      "text/plain": [
       "   variance_error_list  mean_error_list  fractions\n",
       "0             0.002745         0.098171        0.3\n",
       "1             0.002115         0.076042        0.4\n",
       "2             0.001280         0.062083        0.5\n",
       "3             0.000759         0.057986        0.6\n",
       "4             0.000782         0.045417        0.7\n",
       "5             0.000647         0.045880        0.8"
      ]
     },
     "execution_count": 207,
     "metadata": {},
     "output_type": "execute_result"
    }
   ],
   "source": [
    "# compute statistics for each fraction\n",
    "\n",
    "mean_list_monk3 = []\n",
    "variance_list_monk3 = []\n",
    "\n",
    "for list_of_values in new_stat_3.values():\n",
    "    mean_list_monk3.append(np.mean(list_of_values))\n",
    "    variance_list_monk3.append(np.var(list_of_values))\n",
    "    \n",
    "# create dataframe\n",
    "df_mk3 = pd.DataFrame(mean_list_monk3, variance_list_monk3)\n",
    "df_mk3 = df_mk3.reset_index()\n",
    "df_mk3['fractions'] = [_ for _ in new_stat_3.keys()]\n",
    "df_mk3 = df_mk3.rename(columns = {'index': 'variance_error_list', 0:\"mean_error_list\"})\n",
    "df_mk3"
   ]
  },
  {
   "cell_type": "markdown",
   "id": "3ab4894e",
   "metadata": {
    "heading_collapsed": true
   },
   "source": [
    "## Plot"
   ]
  },
  {
   "cell_type": "code",
   "execution_count": 211,
   "id": "af37443b",
   "metadata": {
    "hidden": true
   },
   "outputs": [
    {
     "data": {
      "image/png": "[encoded data removed]",
      "text/plain": [
       "<Figure size 1080x720 with 1 Axes>"
      ]
     },
     "metadata": {
      "needs_background": "light"
     },
     "output_type": "display_data"
    }
   ],
   "source": [
    "plt.figure(figsize = (15,10))\n",
    "plt.title(\"Test error rate vs optimal partition into training and pruning (fraction)\")\n",
    "plt.xlabel(\"Partition into training and pruning (fraction parameter)\")\n",
    "plt.ylabel(\"Test error rate\")\n",
    "sns.lineplot(x = fractions, y = mean_list_monk1, label = \"Mean test error rate Monk 1\", color = 'r');\n",
    "sns.lineplot(x = fractions, y = mean_list_monk3, label = \"Mean test error rate Monk 3\", color = 'g');\n",
    "plt.legend();"
   ]
  },
  {
   "cell_type": "markdown",
   "id": "129690b5",
   "metadata": {
    "hidden": true
   },
   "source": [
    "**The bigger the training set in comparison to the validation set, the smaller the error rate.**"
   ]
  },
  {
   "cell_type": "code",
   "execution_count": null,
   "id": "c4b89843",
   "metadata": {
    "hidden": true
   },
   "outputs": [],
   "source": []
  }
 ],
 "metadata": {
  "kernelspec": {
   "display_name": "Python 3 (ipykernel)",
   "language": "python",
   "name": "python3"
  },
  "language_info": {
   "codemirror_mode": {
    "name": "ipython",
    "version": 3
   },
   "file_extension": ".py",
   "mimetype": "text/x-python",
   "name": "python",
   "nbconvert_exporter": "python",
   "pygments_lexer": "ipython3",
   "version": "3.9.6"
  },
  "toc": {
   "base_numbering": "",
   "nav_menu": {},
   "number_sections": false,
   "sideBar": true,
   "skip_h1_title": false,
   "title_cell": "Table of Contents",
   "title_sidebar": "Contents",
   "toc_cell": false,
   "toc_position": {
    "height": "calc(100% - 180px)",
    "left": "10px",
    "top": "150px",
    "width": "432px"
   },
   "toc_section_display": true,
   "toc_window_display": true
  }
 },
 "nbformat": 4,
 "nbformat_minor": 5
}
