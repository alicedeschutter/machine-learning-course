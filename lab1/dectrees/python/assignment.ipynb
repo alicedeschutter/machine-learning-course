{
 "cells": [
  {
   "cell_type": "code",
   "execution_count": 6,
   "id": "76ebf6be",
   "metadata": {},
   "outputs": [],
   "source": [
    "import monkdata as m\n",
    "import dtree as dt\n",
    "import numpy as np\n",
    "import matplotlib.pyplot as plt\n",
    "import pandas as pd\n",
    "import seaborn as sns"
   ]
  },
  {
   "cell_type": "markdown",
   "id": "7740ae0b",
   "metadata": {
    "heading_collapsed": true
   },
   "source": [
    "# Assignment 0:\n",
    "\n",
    "**Each one of the datasets has properties which makes them hard to learn. Motivate which of the three problems is most difficult for a decision tree algorithm to learn.**\n",
    "\n",
    "\n",
    "![title](img/attributes.png)\n",
    "\n",
    "![title](img/table1.png)\n"
   ]
  },
  {
   "cell_type": "markdown",
   "id": "dbf52a81",
   "metadata": {
    "hidden": true
   },
   "source": [
    "Looking at Table 1 and considering the amount information given about the data set. \n",
    "\n",
    "We believe that Monk-3 is the easiest for a decision tree to learn (most \"explicit\" dataset), while Monk-1 is the hardest (least \"explicit\" dataset). \n",
    "\n",
    "I was thinking about the amount of information given in each of the logical statements. And in Monk-3 the information is very **explicit** in the values of the attributes (a5 = 1 and a4 =1... that is easy for the decision tree to read)... where as monk-1 could be tricky because if a1 = a2, there are three combinations of values for which that statement in true.\n",
    "\n",
    "However, the additional 5% noise in Monk3 make us unsure of our answer. Perhaps Monk2 could be easier to learn."
   ]
  },
  {
   "cell_type": "markdown",
   "id": "60216fa5",
   "metadata": {
    "heading_collapsed": true
   },
   "source": [
    "# Assignment 1: \n",
    "\n",
    "**The file dtree.py defines a function entropy which calculates the entropy of a dataset. Import this file along with the monks datasets and use it to calculate the entropy of the training datasets.**\n"
   ]
  },
  {
   "cell_type": "code",
   "execution_count": 7,
   "id": "2df4a4f6",
   "metadata": {
    "code_folding": [],
    "hidden": true
   },
   "outputs": [
    {
     "data": {
      "text/html": [
       "<div>\n",
       "<style scoped>\n",
       "    .dataframe tbody tr th:only-of-type {\n",
       "        vertical-align: middle;\n",
       "    }\n",
       "\n",
       "    .dataframe tbody tr th {\n",
       "        vertical-align: top;\n",
       "    }\n",
       "\n",
       "    .dataframe thead th {\n",
       "        text-align: right;\n",
       "    }\n",
       "</style>\n",
       "<table border=\"1\" class=\"dataframe\">\n",
       "  <thead>\n",
       "    <tr style=\"text-align: right;\">\n",
       "      <th></th>\n",
       "      <th>Entropy</th>\n",
       "    </tr>\n",
       "  </thead>\n",
       "  <tbody>\n",
       "    <tr>\n",
       "      <th>Monk1</th>\n",
       "      <td>1.000000</td>\n",
       "    </tr>\n",
       "    <tr>\n",
       "      <th>Monk2</th>\n",
       "      <td>0.957117</td>\n",
       "    </tr>\n",
       "    <tr>\n",
       "      <th>Monk3</th>\n",
       "      <td>0.999806</td>\n",
       "    </tr>\n",
       "  </tbody>\n",
       "</table>\n",
       "</div>"
      ],
      "text/plain": [
       "        Entropy\n",
       "Monk1  1.000000\n",
       "Monk2  0.957117\n",
       "Monk3  0.999806"
      ]
     },
     "execution_count": 7,
     "metadata": {},
     "output_type": "execute_result"
    }
   ],
   "source": [
    "# assign data of lists.  \n",
    "data = {'Entropy': np.zeros(3)}  \n",
    "  \n",
    "# Create DataFrame  \n",
    "df_A1 = pd.DataFrame(data, index = ['Monk1', 'Monk2', 'Monk3',])\n",
    "df_A1.loc['Monk1'] = dt.entropy(m.monk1)\n",
    "df_A1.loc['Monk2'] = dt.entropy(m.monk2)\n",
    "df_A1.loc['Monk3'] = dt.entropy(m.monk3)\n",
    "df_A1"
   ]
  },
  {
   "cell_type": "markdown",
   "id": "aa153173",
   "metadata": {},
   "source": [
    "# Assignment 2: \n",
    "**Explain entropy for a uniform distribution and a non-uniform distribution, present some example distributions with high and low entropy.**"
   ]
  },
  {
   "cell_type": "markdown",
   "id": "ee43dcad",
   "metadata": {},
   "source": [
    "Entropy is a measure of \"uncertainty\" or \"unpredictability\". \n",
    "\n",
    "The uniform distribution is the least informative distribution. It therefore has the highest entropy. \n",
    "\n",
    "When rolling a fair dice numbered from 1 to 6, each side has equal probability of facing up, and the probability of each number would be 1/6. This is an example of a **uniform distribution**; it is a model for no preference. On the other hand, rolling a biased dice is an example of a **non-uniform distribution**. The probability associated with getting certain outcome is higher than in the case of a fair dice.\n",
    "\n",
    "**Examples:**\n",
    "#### Dice Example \n",
    "- The entropy associated with rolling a fair dice is 2.58 (evaluated in last week's lecture).\n",
    "- The entropy associated with rolling a fake dice (0.5 for side 6) is 2.16. Which is lower than the fair dice because it is more likely for the 6th side to present itself. \n",
    "\n",
    "#### Coin Example\n",
    "- The entropy associated with tossing a fair coin is 1 (this is lower than 2.58 because the probability of getting head/ tail is 1/2 which is higher than 1/6 --> less uncertainty for the coin than for the dice).\n",
    "- The entropy associated with tossing a biased coin would have an entropy that is lower than 1 since the head/ tail outcomes are more predictable than when the coin was fair.\n",
    "\n"
   ]
  },
  {
   "cell_type": "markdown",
   "id": "dca2ffbe",
   "metadata": {},
   "source": [
    "![title](img/tossingcoin.png)"
   ]
  },
  {
   "cell_type": "markdown",
   "id": "4571f1ab",
   "metadata": {
    "heading_collapsed": true
   },
   "source": [
    "# Assignment 3:\n",
    "**Use the function averageGain (defined in dtree.py) to calculate the expected information gain corresponding to each of the six attributes. Note that the attributes are represented as instances of the class Attribute (defined in monkdata.py) which you can access via m.attributes[0], ..., m.attributes[5]. Based on the results, which attribute should be used for splitting the examples at the root node?**"
   ]
  },
  {
   "cell_type": "code",
   "execution_count": 8,
   "id": "df782a40",
   "metadata": {
    "code_folding": [
     0
    ],
    "hidden": true
   },
   "outputs": [
    {
     "data": {
      "text/html": [
       "<div>\n",
       "<style scoped>\n",
       "    .dataframe tbody tr th:only-of-type {\n",
       "        vertical-align: middle;\n",
       "    }\n",
       "\n",
       "    .dataframe tbody tr th {\n",
       "        vertical-align: top;\n",
       "    }\n",
       "\n",
       "    .dataframe thead th {\n",
       "        text-align: right;\n",
       "    }\n",
       "</style>\n",
       "<table border=\"1\" class=\"dataframe\">\n",
       "  <thead>\n",
       "    <tr style=\"text-align: right;\">\n",
       "      <th></th>\n",
       "      <th>a1</th>\n",
       "      <th>a2</th>\n",
       "      <th>a3</th>\n",
       "      <th>a4</th>\n",
       "      <th>a5</th>\n",
       "      <th>a6</th>\n",
       "    </tr>\n",
       "  </thead>\n",
       "  <tbody>\n",
       "    <tr>\n",
       "      <th>Monk1</th>\n",
       "      <td>0.075273</td>\n",
       "      <td>0.005838</td>\n",
       "      <td>0.004708</td>\n",
       "      <td>0.026312</td>\n",
       "      <td>0.287031</td>\n",
       "      <td>0.000758</td>\n",
       "    </tr>\n",
       "    <tr>\n",
       "      <th>Monk2</th>\n",
       "      <td>0.003756</td>\n",
       "      <td>0.002458</td>\n",
       "      <td>0.001056</td>\n",
       "      <td>0.015664</td>\n",
       "      <td>0.017277</td>\n",
       "      <td>0.006248</td>\n",
       "    </tr>\n",
       "    <tr>\n",
       "      <th>Monk3</th>\n",
       "      <td>0.007121</td>\n",
       "      <td>0.293736</td>\n",
       "      <td>0.000831</td>\n",
       "      <td>0.002892</td>\n",
       "      <td>0.255912</td>\n",
       "      <td>0.007077</td>\n",
       "    </tr>\n",
       "  </tbody>\n",
       "</table>\n",
       "</div>"
      ],
      "text/plain": [
       "             a1        a2        a3        a4        a5        a6\n",
       "Monk1  0.075273  0.005838  0.004708  0.026312  0.287031  0.000758\n",
       "Monk2  0.003756  0.002458  0.001056  0.015664  0.017277  0.006248\n",
       "Monk3  0.007121  0.293736  0.000831  0.002892  0.255912  0.007077"
      ]
     },
     "execution_count": 8,
     "metadata": {},
     "output_type": "execute_result"
    }
   ],
   "source": [
    "# Create a list containing the monk data\n",
    "list_monk = [m.monk1, m.monk2, m.monk3]\n",
    "\n",
    "# assign data of lists.  \n",
    "data_A3 = {'a1':np.zeros(3), 'a2':np.zeros(3), 'a3':np.zeros(3), 'a4':np.zeros(3), 'a5':np.zeros(3), 'a6':np.zeros(3)}\n",
    "  \n",
    "# Create empty DataFrame with Monk-X Index\n",
    "df_A3 = pd.DataFrame(data_A3, index = ['Monk1', 'Monk2', 'Monk3'])\n",
    "\n",
    "# Use for loop to calculate and populate data frame with Average Gain for all three data sets and all six attributes\n",
    "# Access the list of names in columns 'Monk1, Monk2, Monk3' --> df_A3.columns[i]\n",
    "# Access the list of names in index 'a1, a3, a3, etc...' --> df_A3.index[j]\n",
    "# Acess the datasets --> list_monk[i]\n",
    "# Acess the attributres --> m.attributes[j] \n",
    "\n",
    "for i in range(3):\n",
    "    for j in range(6):\n",
    "        df_A3.loc[df_A3.index[i],df_A3.columns[j]] = dt.averageGain(list_monk[i],m.attributes[j])\n",
    "df_A3"
   ]
  },
  {
   "cell_type": "code",
   "execution_count": 9,
   "id": "5d61fa37",
   "metadata": {
    "hidden": true
   },
   "outputs": [
    {
     "data": {
      "text/plain": [
       "Monk1    0.287031\n",
       "Monk2    0.017277\n",
       "Monk3    0.293736\n",
       "dtype: float64"
      ]
     },
     "execution_count": 9,
     "metadata": {},
     "output_type": "execute_result"
    }
   ],
   "source": [
    "df_A3.max(axis=1)"
   ]
  },
  {
   "cell_type": "code",
   "execution_count": 10,
   "id": "b325de80",
   "metadata": {
    "hidden": true,
    "scrolled": true
   },
   "outputs": [
    {
     "data": {
      "text/plain": [
       "Monk1    a5\n",
       "Monk2    a5\n",
       "Monk3    a2\n",
       "dtype: object"
      ]
     },
     "execution_count": 10,
     "metadata": {},
     "output_type": "execute_result"
    }
   ],
   "source": [
    "df_A3.idxmax(axis=1)"
   ]
  },
  {
   "cell_type": "markdown",
   "id": "cac01c22",
   "metadata": {
    "hidden": true
   },
   "source": [
    "**Conclusion**:\n",
    "Based on the results we decide that:\n",
    "- Monk1 should be split on attribute 5.\n",
    "- Monk2 should be split on attribute 5.\n",
    "- Monk3 should be split on attribute 2."
   ]
  },
  {
   "cell_type": "markdown",
   "id": "dea39959",
   "metadata": {
    "heading_collapsed": true
   },
   "source": [
    "# Assignment 4\n",
    "**For splitting we choose the attribute that maximizes the information gain, Eq.3. Looking at Eq.3 how does the entropy of the subsets, Sk, look like when the information gain is maximized? How can we motivate using the information gain as a heuristic for picking an attribute for splitting? Think about reduction in entropy\n",
    "after the split and what the entropy implies.**"
   ]
  },
  {
   "cell_type": "markdown",
   "id": "add6779a",
   "metadata": {
    "hidden": true
   },
   "source": [
    "![title](img/equation3lab1.png)"
   ]
  },
  {
   "cell_type": "markdown",
   "id": "7d03c260",
   "metadata": {
    "hidden": true
   },
   "source": [
    "If we are trying to maximize the gain of Eq(3), then the second term of the equation should be minimized. Therefore, we are looking for an attribute which has quite low entropy, meaning that the attribute is **predictable** (we want to make a split on the attribute that gives us the MOST information on the response). \n",
    "\n",
    "**Maximizing information gain --> minimizing entropy --> minimizing uncertainty --> maximizing information needed to determine the outcome.**"
   ]
  },
  {
   "cell_type": "markdown",
   "id": "c1fcfed2",
   "metadata": {
    "heading_collapsed": true
   },
   "source": [
    "# Building Monk1 decision tree (first two levels)"
   ]
  },
  {
   "cell_type": "markdown",
   "id": "0b26085b",
   "metadata": {
    "heading_collapsed": true,
    "hidden": true
   },
   "source": [
    "### Splitting at attribute 5 and creating four subsets (one subset per attribute)\n",
    "\n",
    "![title](img/monk1tree.png)"
   ]
  },
  {
   "cell_type": "code",
   "execution_count": 11,
   "id": "a8562944",
   "metadata": {
    "hidden": true
   },
   "outputs": [],
   "source": [
    "# Monk1 Root Node = a5 \n",
    "# Creating four subsets for monk1 \n",
    "split1_1 = dt.select(m.monk1, m.attributes[4], 1) # attribute 1 \n",
    "split1_2 = dt.select(m.monk1, m.attributes[4], 2) # attribute 2 \n",
    "split1_3 = dt.select(m.monk1, m.attributes[4], 3) # attribute 3 \n",
    "split1_4 = dt.select(m.monk1, m.attributes[4], 4) # attribute 4 \n",
    "\n",
    "dict_m1a5 = {'split1_1' : split1_1, 'split1_2': split1_2, 'split1_3': split1_3, 'split1_4': split1_4}"
   ]
  },
  {
   "cell_type": "markdown",
   "id": "07cd929a",
   "metadata": {
    "heading_collapsed": true,
    "hidden": true
   },
   "source": [
    "### For each subset, compute information gain in order to know how each subset should be split"
   ]
  },
  {
   "cell_type": "code",
   "execution_count": 12,
   "id": "fde12aa2",
   "metadata": {
    "code_folding": [],
    "hidden": true
   },
   "outputs": [
    {
     "data": {
      "text/html": [
       "<div>\n",
       "<style scoped>\n",
       "    .dataframe tbody tr th:only-of-type {\n",
       "        vertical-align: middle;\n",
       "    }\n",
       "\n",
       "    .dataframe tbody tr th {\n",
       "        vertical-align: top;\n",
       "    }\n",
       "\n",
       "    .dataframe thead th {\n",
       "        text-align: right;\n",
       "    }\n",
       "</style>\n",
       "<table border=\"1\" class=\"dataframe\">\n",
       "  <thead>\n",
       "    <tr style=\"text-align: right;\">\n",
       "      <th></th>\n",
       "      <th>split1_1</th>\n",
       "      <th>split1_2</th>\n",
       "      <th>split1_3</th>\n",
       "      <th>split1_4</th>\n",
       "    </tr>\n",
       "  </thead>\n",
       "  <tbody>\n",
       "    <tr>\n",
       "      <th>1</th>\n",
       "      <td>0.0</td>\n",
       "      <td>0.040217</td>\n",
       "      <td>0.033055</td>\n",
       "      <td>0.206291</td>\n",
       "    </tr>\n",
       "    <tr>\n",
       "      <th>2</th>\n",
       "      <td>0.0</td>\n",
       "      <td>0.015063</td>\n",
       "      <td>0.002197</td>\n",
       "      <td>0.033898</td>\n",
       "    </tr>\n",
       "    <tr>\n",
       "      <th>3</th>\n",
       "      <td>0.0</td>\n",
       "      <td>0.037273</td>\n",
       "      <td>0.017982</td>\n",
       "      <td>0.025906</td>\n",
       "    </tr>\n",
       "    <tr>\n",
       "      <th>4</th>\n",
       "      <td>0.0</td>\n",
       "      <td>0.048892</td>\n",
       "      <td>0.019123</td>\n",
       "      <td>0.075933</td>\n",
       "    </tr>\n",
       "    <tr>\n",
       "      <th>6</th>\n",
       "      <td>0.0</td>\n",
       "      <td>0.025807</td>\n",
       "      <td>0.045109</td>\n",
       "      <td>0.003324</td>\n",
       "    </tr>\n",
       "  </tbody>\n",
       "</table>\n",
       "</div>"
      ],
      "text/plain": [
       "   split1_1  split1_2  split1_3  split1_4\n",
       "1       0.0  0.040217  0.033055  0.206291\n",
       "2       0.0  0.015063  0.002197  0.033898\n",
       "3       0.0  0.037273  0.017982  0.025906\n",
       "4       0.0  0.048892  0.019123  0.075933\n",
       "6       0.0  0.025807  0.045109  0.003324"
      ]
     },
     "execution_count": 12,
     "metadata": {},
     "output_type": "execute_result"
    }
   ],
   "source": [
    "# Exclude attribute a5 (at index 4)\n",
    "# Create a dictionary with keys = split1_x and values = list of attributes\n",
    "\n",
    "new_dict = {}\n",
    "for key, value in dict_m1a5.items():\n",
    "    new_dict[key] = []\n",
    "    for attribute in [m.attributes[0], m.attributes[1], m.attributes[2], m.attributes[3], m.attributes[5]]:\n",
    "        new_dict[key].append(dt.averageGain(value,attribute))\n",
    "\n",
    "split1_monk1 = pd.DataFrame.from_dict(new_dict)\n",
    "split1_monk1.rename(index= {0:1, 1:2, 2:3, 3:4, 4:6})"
   ]
  },
  {
   "cell_type": "markdown",
   "id": "9ff5e2ba",
   "metadata": {
    "heading_collapsed": true,
    "hidden": true
   },
   "source": [
    "### Maximization of information gain when splitting on attribute 5:"
   ]
  },
  {
   "cell_type": "code",
   "execution_count": 13,
   "id": "6ba03d64",
   "metadata": {
    "hidden": true
   },
   "outputs": [
    {
     "data": {
      "text/plain": [
       "split1_1    0.000000\n",
       "split1_2    0.048892\n",
       "split1_3    0.045109\n",
       "split1_4    0.206291\n",
       "dtype: float64"
      ]
     },
     "execution_count": 13,
     "metadata": {},
     "output_type": "execute_result"
    }
   ],
   "source": [
    "split1_monk1.max()"
   ]
  },
  {
   "cell_type": "markdown",
   "id": "9ab320a7",
   "metadata": {
    "hidden": true
   },
   "source": [
    "- Subset 1 --> All values equal zero for IG because when a5 = 1, the classification is True. No more splitting is needed (Leaf node).\n",
    "\n",
    "- Subset 2 --> We should split on a4, because IG is max\n",
    "\n",
    "- Subset 3 --> We should split on a6, because IG is max\n",
    "\n",
    "- Subset 4 --> We should split on a1, because IG is max"
   ]
  },
  {
   "cell_type": "markdown",
   "id": "25182f0e",
   "metadata": {
    "heading_collapsed": true,
    "hidden": true
   },
   "source": [
    "### Subset 1 : no split needed"
   ]
  },
  {
   "cell_type": "markdown",
   "id": "72e3f048",
   "metadata": {
    "heading_collapsed": true,
    "hidden": true
   },
   "source": [
    "### Subset 2 : split at attribute 4"
   ]
  },
  {
   "cell_type": "code",
   "execution_count": 14,
   "id": "2f5586b0",
   "metadata": {
    "hidden": true
   },
   "outputs": [],
   "source": [
    "# creating subsets for split on subset 2 attribute 4\n",
    "\n",
    "split2_subset2_1 = dt.select(split1_2, m.attributes[3], 1)\n",
    "split2_subset2_2 = dt.select(split1_2, m.attributes[3], 2)\n",
    "split2_subset2_3 = dt.select(split1_2, m.attributes[3], 3)\n",
    "\n",
    "dict_split2_subset2 = {'split2_subset2_1' : split2_subset2_1, 'split2_subset2_2': split2_subset2_2, 'split2_subset2_3': split2_subset2_3}"
   ]
  },
  {
   "cell_type": "code",
   "execution_count": 15,
   "id": "6a7dabfc",
   "metadata": {
    "hidden": true,
    "scrolled": true
   },
   "outputs": [
    {
     "data": {
      "text/html": [
       "<div>\n",
       "<style scoped>\n",
       "    .dataframe tbody tr th:only-of-type {\n",
       "        vertical-align: middle;\n",
       "    }\n",
       "\n",
       "    .dataframe tbody tr th {\n",
       "        vertical-align: top;\n",
       "    }\n",
       "\n",
       "    .dataframe thead th {\n",
       "        text-align: right;\n",
       "    }\n",
       "</style>\n",
       "<table border=\"1\" class=\"dataframe\">\n",
       "  <thead>\n",
       "    <tr style=\"text-align: right;\">\n",
       "      <th></th>\n",
       "      <th>split2_subset2_1</th>\n",
       "      <th>split2_subset2_2</th>\n",
       "      <th>split2_subset2_3</th>\n",
       "    </tr>\n",
       "  </thead>\n",
       "  <tbody>\n",
       "    <tr>\n",
       "      <th>1</th>\n",
       "      <td>0.060879</td>\n",
       "      <td>0.198117</td>\n",
       "      <td>0.068187</td>\n",
       "    </tr>\n",
       "    <tr>\n",
       "      <th>2</th>\n",
       "      <td>0.016313</td>\n",
       "      <td>0.591673</td>\n",
       "      <td>0.088546</td>\n",
       "    </tr>\n",
       "    <tr>\n",
       "      <th>3</th>\n",
       "      <td>0.051800</td>\n",
       "      <td>0.128085</td>\n",
       "      <td>0.130719</td>\n",
       "    </tr>\n",
       "    <tr>\n",
       "      <th>6</th>\n",
       "      <td>0.051800</td>\n",
       "      <td>0.198117</td>\n",
       "      <td>0.000450</td>\n",
       "    </tr>\n",
       "  </tbody>\n",
       "</table>\n",
       "</div>"
      ],
      "text/plain": [
       "   split2_subset2_1  split2_subset2_2  split2_subset2_3\n",
       "1          0.060879          0.198117          0.068187\n",
       "2          0.016313          0.591673          0.088546\n",
       "3          0.051800          0.128085          0.130719\n",
       "6          0.051800          0.198117          0.000450"
      ]
     },
     "execution_count": 15,
     "metadata": {},
     "output_type": "execute_result"
    }
   ],
   "source": [
    "# For each subset compute information gains\n",
    "# Exclude attribute a4 and a5 ... at index 3 and 4\n",
    "# Create a dictionary with keys = split2_subset2_x and values = list of attributes\n",
    "\n",
    "new_dict_split2sub2 = {}\n",
    "for key, value in dict_split2_subset2.items():\n",
    "    new_dict_split2sub2[key] = []\n",
    "    for attribute in [m.attributes[0], m.attributes[1], m.attributes[2], m.attributes[5]]:\n",
    "        new_dict_split2sub2[key].append(dt.averageGain(value,attribute))\n",
    "\n",
    "\n",
    "split2_subset2 = pd.DataFrame.from_dict(new_dict_split2sub2)\n",
    "split2_subset2.rename(index= {0:1, 1:2, 2:3, 3:6})\n"
   ]
  },
  {
   "cell_type": "code",
   "execution_count": 16,
   "id": "38ba90dd",
   "metadata": {
    "hidden": true
   },
   "outputs": [
    {
     "data": {
      "text/plain": [
       "split2_subset2_1    0.060879\n",
       "split2_subset2_2    0.591673\n",
       "split2_subset2_3    0.130719\n",
       "dtype: float64"
      ]
     },
     "execution_count": 16,
     "metadata": {},
     "output_type": "execute_result"
    }
   ],
   "source": [
    "split2_subset2.max()"
   ]
  },
  {
   "cell_type": "markdown",
   "id": "9405f025",
   "metadata": {
    "hidden": true
   },
   "source": [
    "**Split 2, subset 2**\n",
    "\n",
    "- for subset 1 --> split at attribute a1\n",
    "- for subset 2 --> split at attribute a2\n",
    "- for subset 3 --> split at attribute a3\n"
   ]
  },
  {
   "cell_type": "markdown",
   "id": "fb9a6055",
   "metadata": {
    "heading_collapsed": true,
    "hidden": true
   },
   "source": [
    "### Subset 3: split at attribute 6"
   ]
  },
  {
   "cell_type": "code",
   "execution_count": 17,
   "id": "bfd16666",
   "metadata": {
    "hidden": true
   },
   "outputs": [
    {
     "data": {
      "text/html": [
       "<div>\n",
       "<style scoped>\n",
       "    .dataframe tbody tr th:only-of-type {\n",
       "        vertical-align: middle;\n",
       "    }\n",
       "\n",
       "    .dataframe tbody tr th {\n",
       "        vertical-align: top;\n",
       "    }\n",
       "\n",
       "    .dataframe thead th {\n",
       "        text-align: right;\n",
       "    }\n",
       "</style>\n",
       "<table border=\"1\" class=\"dataframe\">\n",
       "  <thead>\n",
       "    <tr style=\"text-align: right;\">\n",
       "      <th></th>\n",
       "      <th>split2_subset3_1</th>\n",
       "      <th>split2_subset3_2</th>\n",
       "    </tr>\n",
       "  </thead>\n",
       "  <tbody>\n",
       "    <tr>\n",
       "      <th>1</th>\n",
       "      <td>0.036928</td>\n",
       "      <td>0.034883</td>\n",
       "    </tr>\n",
       "    <tr>\n",
       "      <th>2</th>\n",
       "      <td>0.105897</td>\n",
       "      <td>0.003585</td>\n",
       "    </tr>\n",
       "    <tr>\n",
       "      <th>3</th>\n",
       "      <td>0.000661</td>\n",
       "      <td>0.123694</td>\n",
       "    </tr>\n",
       "    <tr>\n",
       "      <th>4</th>\n",
       "      <td>0.128243</td>\n",
       "      <td>0.034883</td>\n",
       "    </tr>\n",
       "  </tbody>\n",
       "</table>\n",
       "</div>"
      ],
      "text/plain": [
       "   split2_subset3_1  split2_subset3_2\n",
       "1          0.036928          0.034883\n",
       "2          0.105897          0.003585\n",
       "3          0.000661          0.123694\n",
       "4          0.128243          0.034883"
      ]
     },
     "execution_count": 17,
     "metadata": {},
     "output_type": "execute_result"
    }
   ],
   "source": [
    "# creating subsets for split on subset 3 attribute 6\n",
    "\n",
    "split2_subset3_1 = dt.select(split1_3, m.attributes[5], 1)\n",
    "split2_subset3_2 = dt.select(split1_3, m.attributes[5], 2)\n",
    "\n",
    "dict_split2_subset3 = {'split2_subset3_1' : split2_subset3_1, 'split2_subset3_2': split2_subset3_2}\n",
    "\n",
    "# For each subset compute information gains\n",
    "# Exclude attribute a6 and a5 ... at index 5 and 4\n",
    "# Create a dictionary with keys = split2_subset3_x and values = list of attributes\n",
    "\n",
    "new_dict_split2sub3 = {}\n",
    "for key, value in dict_split2_subset3.items():\n",
    "    new_dict_split2sub3[key] = []\n",
    "    for attribute in [m.attributes[0], m.attributes[1], m.attributes[2], m.attributes[3]]:\n",
    "        new_dict_split2sub3[key].append(dt.averageGain(value,attribute))\n",
    "\n",
    "\n",
    "split2_subset3 = pd.DataFrame.from_dict(new_dict_split2sub3)\n",
    "split2_subset3.rename(index= {0:1, 1:2, 2:3, 3:4})"
   ]
  },
  {
   "cell_type": "code",
   "execution_count": 18,
   "id": "031acd9a",
   "metadata": {
    "hidden": true
   },
   "outputs": [
    {
     "data": {
      "text/plain": [
       "split2_subset3_1    0.128243\n",
       "split2_subset3_2    0.123694\n",
       "dtype: float64"
      ]
     },
     "execution_count": 18,
     "metadata": {},
     "output_type": "execute_result"
    }
   ],
   "source": [
    "split2_subset3.max()"
   ]
  },
  {
   "cell_type": "markdown",
   "id": "588c2703",
   "metadata": {
    "hidden": true
   },
   "source": [
    "**Split 2, subset 3**\n",
    "\n",
    "- for subset 1 --> split at attribute a4\n",
    "- for subset 2 --> split at attribute a3"
   ]
  },
  {
   "cell_type": "markdown",
   "id": "57dfe4fe",
   "metadata": {
    "heading_collapsed": true,
    "hidden": true
   },
   "source": [
    "### Subset 4: split at attribute 1"
   ]
  },
  {
   "cell_type": "code",
   "execution_count": 19,
   "id": "e6c8c448",
   "metadata": {
    "hidden": true
   },
   "outputs": [
    {
     "data": {
      "text/html": [
       "<div>\n",
       "<style scoped>\n",
       "    .dataframe tbody tr th:only-of-type {\n",
       "        vertical-align: middle;\n",
       "    }\n",
       "\n",
       "    .dataframe tbody tr th {\n",
       "        vertical-align: top;\n",
       "    }\n",
       "\n",
       "    .dataframe thead th {\n",
       "        text-align: right;\n",
       "    }\n",
       "</style>\n",
       "<table border=\"1\" class=\"dataframe\">\n",
       "  <thead>\n",
       "    <tr style=\"text-align: right;\">\n",
       "      <th></th>\n",
       "      <th>split2_subset4_1</th>\n",
       "      <th>split2_subset4_2</th>\n",
       "      <th>split2_subset4_3</th>\n",
       "    </tr>\n",
       "  </thead>\n",
       "  <tbody>\n",
       "    <tr>\n",
       "      <th>2</th>\n",
       "      <td>0.371232</td>\n",
       "      <td>0.945660</td>\n",
       "      <td>0.918296</td>\n",
       "    </tr>\n",
       "    <tr>\n",
       "      <th>3</th>\n",
       "      <td>0.075396</td>\n",
       "      <td>0.072057</td>\n",
       "      <td>0.018311</td>\n",
       "    </tr>\n",
       "    <tr>\n",
       "      <th>4</th>\n",
       "      <td>0.075396</td>\n",
       "      <td>0.253875</td>\n",
       "      <td>0.029407</td>\n",
       "    </tr>\n",
       "    <tr>\n",
       "      <th>6</th>\n",
       "      <td>0.075396</td>\n",
       "      <td>0.003430</td>\n",
       "      <td>0.024758</td>\n",
       "    </tr>\n",
       "  </tbody>\n",
       "</table>\n",
       "</div>"
      ],
      "text/plain": [
       "   split2_subset4_1  split2_subset4_2  split2_subset4_3\n",
       "2          0.371232          0.945660          0.918296\n",
       "3          0.075396          0.072057          0.018311\n",
       "4          0.075396          0.253875          0.029407\n",
       "6          0.075396          0.003430          0.024758"
      ]
     },
     "execution_count": 19,
     "metadata": {},
     "output_type": "execute_result"
    }
   ],
   "source": [
    "# creating subsets for split on subset 4 attribute 1\n",
    "\n",
    "split2_subset4_1 = dt.select(split1_4, m.attributes[0], 1)\n",
    "split2_subset4_2 = dt.select(split1_4, m.attributes[0], 2)\n",
    "split2_subset4_3 = dt.select(split1_4, m.attributes[0], 3)\n",
    "\n",
    "dict_split2_subset4 = {'split2_subset4_1' : split2_subset4_1, 'split2_subset4_2': split2_subset4_2, 'split2_subset4_3' : split2_subset4_3}\n",
    "\n",
    "# For each subset compute information gains\n",
    "# Exclude attribute a1 and a5 ... at index 0 and 4\n",
    "# Create a dictionary with keys = split2_subset4_x and values = list of attributes\n",
    "\n",
    "new_dict_split2sub4 = {}\n",
    "for key, value in dict_split2_subset4.items():\n",
    "    new_dict_split2sub4[key] = []\n",
    "    for attribute in [m.attributes[1], m.attributes[2], m.attributes[3], m.attributes[5]]:\n",
    "        new_dict_split2sub4[key].append(dt.averageGain(value,attribute))\n",
    "\n",
    "\n",
    "split2_subset4 = pd.DataFrame.from_dict(new_dict_split2sub4)\n",
    "split2_subset4.rename(index= {0:2, 1:3, 2:4, 3:6})"
   ]
  },
  {
   "cell_type": "code",
   "execution_count": 20,
   "id": "fce0dcd5",
   "metadata": {
    "hidden": true
   },
   "outputs": [
    {
     "data": {
      "text/plain": [
       "split2_subset4_1    0.371232\n",
       "split2_subset4_2    0.945660\n",
       "split2_subset4_3    0.918296\n",
       "dtype: float64"
      ]
     },
     "execution_count": 20,
     "metadata": {},
     "output_type": "execute_result"
    }
   ],
   "source": [
    "split2_subset4.max()"
   ]
  },
  {
   "cell_type": "markdown",
   "id": "c08f3d77",
   "metadata": {
    "hidden": true
   },
   "source": [
    "**Split 2, subset 4**\n",
    "\n",
    "- for subset 1 --> split at attribute a2\n",
    "- for subset 2 --> split at attribute a2\n",
    "- for subset 2 --> split at attribute a2"
   ]
  },
  {
   "cell_type": "markdown",
   "id": "251c27dd",
   "metadata": {
    "heading_collapsed": true,
    "hidden": true
   },
   "source": [
    "### Using mostCommon function to obtain the majority class for each subset"
   ]
  },
  {
   "cell_type": "code",
   "execution_count": 21,
   "id": "2e3293c4",
   "metadata": {
    "code_folding": [],
    "hidden": true
   },
   "outputs": [],
   "source": [
    "subset_dict = {}\n",
    "\n",
    "for subset in [dict_split2_subset2, dict_split2_subset3, dict_split2_subset4]:\n",
    "    subset_dict.update(subset)"
   ]
  },
  {
   "cell_type": "code",
   "execution_count": 22,
   "id": "9fbc3433",
   "metadata": {
    "code_folding": [],
    "hidden": true
   },
   "outputs": [
    {
     "data": {
      "text/html": [
       "<div>\n",
       "<style scoped>\n",
       "    .dataframe tbody tr th:only-of-type {\n",
       "        vertical-align: middle;\n",
       "    }\n",
       "\n",
       "    .dataframe tbody tr th {\n",
       "        vertical-align: top;\n",
       "    }\n",
       "\n",
       "    .dataframe thead th {\n",
       "        text-align: right;\n",
       "    }\n",
       "</style>\n",
       "<table border=\"1\" class=\"dataframe\">\n",
       "  <thead>\n",
       "    <tr style=\"text-align: right;\">\n",
       "      <th></th>\n",
       "      <th>True/False</th>\n",
       "    </tr>\n",
       "    <tr>\n",
       "      <th>index</th>\n",
       "      <th></th>\n",
       "    </tr>\n",
       "  </thead>\n",
       "  <tbody>\n",
       "    <tr>\n",
       "      <th>split2_subset2_1</th>\n",
       "      <td>0</td>\n",
       "    </tr>\n",
       "    <tr>\n",
       "      <th>split2_subset2_2</th>\n",
       "      <td>0</td>\n",
       "    </tr>\n",
       "    <tr>\n",
       "      <th>split2_subset2_3</th>\n",
       "      <td>0</td>\n",
       "    </tr>\n",
       "    <tr>\n",
       "      <th>split2_subset3_1</th>\n",
       "      <td>0</td>\n",
       "    </tr>\n",
       "    <tr>\n",
       "      <th>split2_subset3_2</th>\n",
       "      <td>0</td>\n",
       "    </tr>\n",
       "    <tr>\n",
       "      <th>split2_subset4_1</th>\n",
       "      <td>0</td>\n",
       "    </tr>\n",
       "    <tr>\n",
       "      <th>split2_subset4_2</th>\n",
       "      <td>0</td>\n",
       "    </tr>\n",
       "    <tr>\n",
       "      <th>split2_subset4_3</th>\n",
       "      <td>1</td>\n",
       "    </tr>\n",
       "  </tbody>\n",
       "</table>\n",
       "</div>"
      ],
      "text/plain": [
       "                  True/False\n",
       "index                       \n",
       "split2_subset2_1           0\n",
       "split2_subset2_2           0\n",
       "split2_subset2_3           0\n",
       "split2_subset3_1           0\n",
       "split2_subset3_2           0\n",
       "split2_subset4_1           0\n",
       "split2_subset4_2           0\n",
       "split2_subset4_3           1"
      ]
     },
     "execution_count": 22,
     "metadata": {},
     "output_type": "execute_result"
    }
   ],
   "source": [
    "final_dict = {'True/False' : []}\n",
    "index_list = []\n",
    "\n",
    "for subset_name, subset in subset_dict.items():\n",
    "    if dt.mostCommon(subset) == True:\n",
    "        final_dict['True/False'].append(1)\n",
    "    else:\n",
    "        final_dict['True/False'].append(0)\n",
    "    index_list.append(subset_name)\n",
    "\n",
    "final_df = pd.DataFrame.from_dict(final_dict)\n",
    "final_df['index'] = index_list\n",
    "final_df.set_index('index')"
   ]
  },
  {
   "cell_type": "markdown",
   "id": "b287bd54",
   "metadata": {
    "heading_collapsed": true
   },
   "source": [
    "# Assignment 5\n",
    "**Build the full decision trees for all three Monk datasets using buildTree. Then, use the function check to measure the performance of the decision tree on both the training and test datasets.\n",
    "For example to built a tree for monk1 and compute the performance on the test data you could use:**\n",
    "- import monkdata as m\n",
    "- import dtree as d\n",
    "- t=d.buildTree(m.monk1, m.attributes);\n",
    "- print(d.check(t, m.monk1test))\n",
    "\n",
    "\n",
    "**Compute the train and test set errors for the three Monk datasets\n",
    "for the full trees. Were your assumptions about the datasets correct?\n",
    "Explain the results you get for the training and test datasets.**"
   ]
  },
  {
   "cell_type": "code",
   "execution_count": 23,
   "id": "bd9c3f92",
   "metadata": {
    "hidden": true
   },
   "outputs": [],
   "source": [
    "import drawtree_qt5 as draw\n",
    "\n",
    "# Monk1 \n",
    "\n",
    "monk1tree = dt.buildTree(m.monk1, m.attributes)\n",
    "#draw.drawTree(monk1tree)"
   ]
  },
  {
   "cell_type": "code",
   "execution_count": 24,
   "id": "11394b85",
   "metadata": {
    "hidden": true
   },
   "outputs": [],
   "source": [
    "# Monk2\n",
    "\n",
    "monk2tree = dt.buildTree(m.monk2, m.attributes)\n",
    "#draw.drawTree(monk2tree)"
   ]
  },
  {
   "cell_type": "code",
   "execution_count": 25,
   "id": "4e395bfb",
   "metadata": {
    "hidden": true
   },
   "outputs": [],
   "source": [
    "# Monk3\n",
    "\n",
    "monk3tree = dt.buildTree(m.monk3, m.attributes)\n",
    "#draw.drawTree(monk3tree)"
   ]
  },
  {
   "cell_type": "markdown",
   "id": "155be7b6",
   "metadata": {
    "hidden": true
   },
   "source": [
    "The test error is the fraction of incorrectly classified samples. Since the function check measures the fraction of correctly classified samples, the error rate is computed by substracting the output of function check from 1:"
   ]
  },
  {
   "cell_type": "code",
   "execution_count": 26,
   "id": "75103e6c",
   "metadata": {
    "hidden": true
   },
   "outputs": [
    {
     "data": {
      "text/html": [
       "<div>\n",
       "<style scoped>\n",
       "    .dataframe tbody tr th:only-of-type {\n",
       "        vertical-align: middle;\n",
       "    }\n",
       "\n",
       "    .dataframe tbody tr th {\n",
       "        vertical-align: top;\n",
       "    }\n",
       "\n",
       "    .dataframe thead th {\n",
       "        text-align: right;\n",
       "    }\n",
       "</style>\n",
       "<table border=\"1\" class=\"dataframe\">\n",
       "  <thead>\n",
       "    <tr style=\"text-align: right;\">\n",
       "      <th></th>\n",
       "      <th>train_e</th>\n",
       "      <th>test_e</th>\n",
       "    </tr>\n",
       "    <tr>\n",
       "      <th></th>\n",
       "      <th></th>\n",
       "      <th></th>\n",
       "    </tr>\n",
       "  </thead>\n",
       "  <tbody>\n",
       "    <tr>\n",
       "      <th>MONK1</th>\n",
       "      <td>0.0</td>\n",
       "      <td>0.171296</td>\n",
       "    </tr>\n",
       "    <tr>\n",
       "      <th>MONK2</th>\n",
       "      <td>0.0</td>\n",
       "      <td>0.307870</td>\n",
       "    </tr>\n",
       "    <tr>\n",
       "      <th>MONK3</th>\n",
       "      <td>0.0</td>\n",
       "      <td>0.055556</td>\n",
       "    </tr>\n",
       "  </tbody>\n",
       "</table>\n",
       "</div>"
      ],
      "text/plain": [
       "       train_e    test_e\n",
       "                        \n",
       "MONK1      0.0  0.171296\n",
       "MONK2      0.0  0.307870\n",
       "MONK3      0.0  0.055556"
      ]
     },
     "execution_count": 26,
     "metadata": {},
     "output_type": "execute_result"
    }
   ],
   "source": [
    "error_rate_dict = {'train_e' : [0.0,0.0,0.0], 'test_e' : [1-dt.check(monk1tree, m.monk1test), 1-dt.check(monk2tree, m.monk2test), 1-dt.check(monk3tree, m.monk3test)]}\n",
    "error_rate_df = pd.DataFrame.from_dict(error_rate_dict)\n",
    "error_rate_df[' '] = ['MONK1', 'MONK2', 'MONK3']\n",
    "error_rate_df.set_index(' ')"
   ]
  },
  {
   "cell_type": "markdown",
   "id": "4b42a7d4",
   "metadata": {
    "hidden": true
   },
   "source": [
    "The reason we get training error rate = 0 is because we've built the decision tree using the training dataset. Therefore, it is classifying perfectly against the training data but is most likely overfitting."
   ]
  },
  {
   "cell_type": "markdown",
   "id": "be577c1a",
   "metadata": {
    "heading_collapsed": true
   },
   "source": [
    "# Assignment 6\n",
    "\n",
    "**Explain pruning from a bias variance trade-off perspective.**"
   ]
  },
  {
   "cell_type": "markdown",
   "id": "d4ebc2f3",
   "metadata": {
    "hidden": true
   },
   "source": [
    "Pruning \"reduces the size of decision trees by removing sections of the tree that are non-critical and redundant to classify instances.\" \n",
    "\n",
    "When a decision tree is very complex with a lot of splits, it often performs well on the training data but much worse on the testing data. In that situation, we say that the decision tree model overfits the data; it is said to have a **high variance**. \n",
    "On the other hand, a smaller tree with fewer splits might lead to **lower variance and better results (at the cost of a little bias).**"
   ]
  },
  {
   "cell_type": "markdown",
   "id": "48b3ab66",
   "metadata": {
    "hidden": true
   },
   "source": [
    "![title](img/variancebias.jpeg)"
   ]
  },
  {
   "cell_type": "code",
   "execution_count": 27,
   "id": "add04499",
   "metadata": {
    "hidden": true
   },
   "outputs": [],
   "source": [
    "import random\n",
    "\n",
    "# split our original training data into one training set for building the tree and one validation set for pruning.\n",
    "# obs: using the test set for validation would be cheating because \n",
    "# we would then no longer be able to use the test set for independently \n",
    "# estimating the true error of our pruned decision tree.\n",
    "\n",
    "def partition(data, fraction):\n",
    "    ldata = list(data)\n",
    "    random.shuffle(ldata)\n",
    "    breakPoint = int(len(ldata) * fraction)\n",
    "    return ldata[:breakPoint], ldata[breakPoint:]"
   ]
  },
  {
   "cell_type": "markdown",
   "id": "8fb21a34",
   "metadata": {},
   "source": [
    "# Assignment 7\n",
    "\n",
    "**Evaluate the effect pruning has on the test error for the monk1 and monk3 datasets, in particular determine the optimal partition into training and pruning by optimizing the parameter fraction. Plot the classification error on the test sets as a function of the parameter fraction ∈ {0.3, 0.4, 0.5, 0.6, 0.7, 0.8}.\n",
    "Note that the split of the data is random. We therefore need to compute the statistics over several runs of the split to be able to draw any conclusions. Reasonable statistics includes mean and a measure of the spread. Do remember to print axes labels, legends and data points as you will not pass without them.**"
   ]
  },
  {
   "cell_type": "markdown",
   "id": "a7a436de",
   "metadata": {
    "heading_collapsed": true
   },
   "source": [
    "## Monk1"
   ]
  },
  {
   "cell_type": "code",
   "execution_count": 28,
   "id": "6776805b",
   "metadata": {
    "hidden": true
   },
   "outputs": [],
   "source": [
    "monk1train, monk1val = partition(m.monk1, 0.6)\n",
    "\n",
    "# create tree from monk1train\n",
    "monk1treetrain = dt.buildTree(monk1train, m.attributes)"
   ]
  },
  {
   "cell_type": "code",
   "execution_count": 29,
   "id": "6d737fa7",
   "metadata": {
    "hidden": true
   },
   "outputs": [
    {
     "data": {
      "text/plain": [
       "1"
      ]
     },
     "execution_count": 29,
     "metadata": {},
     "output_type": "execute_result"
    }
   ],
   "source": [
    "dict_test_error_mk1 = {}\n",
    "i = 0\n",
    "for tree in dt.allPruned(monk1treetrain):\n",
    "    dict_test_error_mk1[i] = 1-dt.check(tree, monk1val)\n",
    "    i +=1\n",
    "    \n",
    "# find key with lowest error:\n",
    "key1 = min(dict_test_error_mk1, key = dict_test_error_mk1.get)\n",
    "key1"
   ]
  },
  {
   "cell_type": "code",
   "execution_count": 30,
   "id": "35b55c9e",
   "metadata": {
    "hidden": true
   },
   "outputs": [
    {
     "data": {
      "text/plain": [
       "0.16000000000000003"
      ]
     },
     "execution_count": 30,
     "metadata": {},
     "output_type": "execute_result"
    }
   ],
   "source": [
    "dict_test_error_mk1[key1]"
   ]
  },
  {
   "cell_type": "code",
   "execution_count": 31,
   "id": "5a59bf5f",
   "metadata": {
    "hidden": true
   },
   "outputs": [],
   "source": [
    "best_mk1_tree = dt.allPruned(monk1treetrain)[key1]\n",
    "#draw.drawTree(best_mk1_tree)"
   ]
  },
  {
   "cell_type": "markdown",
   "id": "8020c9c6",
   "metadata": {
    "hidden": true
   },
   "source": [
    "**compare the original monk1 tree to the pruned tree**"
   ]
  },
  {
   "cell_type": "markdown",
   "id": "84a9d100",
   "metadata": {
    "hidden": true
   },
   "source": [
    "![title](img/monk1tree-full.png)\n",
    "![title](img/monk1tree-prune.png)"
   ]
  },
  {
   "cell_type": "markdown",
   "id": "f156c451",
   "metadata": {
    "heading_collapsed": true
   },
   "source": [
    "## Monk2"
   ]
  },
  {
   "cell_type": "code",
   "execution_count": 41,
   "id": "ceb617ee",
   "metadata": {
    "hidden": true
   },
   "outputs": [
    {
     "data": {
      "text/plain": [
       "0"
      ]
     },
     "execution_count": 41,
     "metadata": {},
     "output_type": "execute_result"
    }
   ],
   "source": [
    "monk2train, monk2val = partition(m.monk2, 0.6)\n",
    "\n",
    "# create tree from monk2train\n",
    "monk2treetrain = dt.buildTree(monk2train, m.attributes)\n",
    "\n",
    "dict_test_error_mk2 = {}\n",
    "i = 0\n",
    "for tree in dt.allPruned(monk2treetrain):\n",
    "    dict_test_error_mk2[i] = 1-dt.check(tree, monk2val)\n",
    "    i +=1\n",
    "    \n",
    "# find key with lowest error:\n",
    "key2 = min(dict_test_error_mk2, key = dict_test_error_mk2.get)\n",
    "key2"
   ]
  },
  {
   "cell_type": "code",
   "execution_count": 42,
   "id": "f650df1e",
   "metadata": {
    "hidden": true
   },
   "outputs": [
    {
     "data": {
      "text/plain": [
       "0.38235294117647056"
      ]
     },
     "execution_count": 42,
     "metadata": {},
     "output_type": "execute_result"
    }
   ],
   "source": [
    "dict_test_error_mk2[key2]"
   ]
  },
  {
   "cell_type": "code",
   "execution_count": 43,
   "id": "b726dd9e",
   "metadata": {
    "hidden": true
   },
   "outputs": [],
   "source": [
    "best_mk2_tree = dt.allPruned(monk2treetrain)[key2]"
   ]
  },
  {
   "cell_type": "markdown",
   "id": "f8d74f69",
   "metadata": {
    "heading_collapsed": true
   },
   "source": [
    "## Monk3"
   ]
  },
  {
   "cell_type": "code",
   "execution_count": 44,
   "id": "859a1586",
   "metadata": {
    "hidden": true
   },
   "outputs": [
    {
     "data": {
      "text/plain": [
       "3"
      ]
     },
     "execution_count": 44,
     "metadata": {},
     "output_type": "execute_result"
    }
   ],
   "source": [
    "monk3train, monk3val = partition(m.monk3, 0.6)\n",
    "\n",
    "# create tree from monk2train\n",
    "monk3treetrain = dt.buildTree(monk3train, m.attributes)\n",
    "\n",
    "dict_test_error_mk3 = {}\n",
    "i = 0\n",
    "for tree in dt.allPruned(monk3treetrain):\n",
    "    dict_test_error_mk3[i] = 1-dt.check(tree, monk3val)\n",
    "    i +=1\n",
    "    \n",
    "# find key with lowest error:\n",
    "key3 = min(dict_test_error_mk3, key = dict_test_error_mk3.get)\n",
    "key3"
   ]
  },
  {
   "cell_type": "code",
   "execution_count": 45,
   "id": "fdd4d29a",
   "metadata": {
    "hidden": true
   },
   "outputs": [
    {
     "data": {
      "text/plain": [
       "0.4852941176470589"
      ]
     },
     "execution_count": 45,
     "metadata": {},
     "output_type": "execute_result"
    }
   ],
   "source": [
    "dict_test_error_mk2[key3]"
   ]
  },
  {
   "cell_type": "code",
   "execution_count": 46,
   "id": "2fe781d8",
   "metadata": {
    "hidden": true
   },
   "outputs": [],
   "source": [
    "best_mk3_tree = dt.allPruned(monk3treetrain)[key3]"
   ]
  },
  {
   "cell_type": "markdown",
   "id": "49a6425a",
   "metadata": {},
   "source": [
    "## Statistics"
   ]
  },
  {
   "cell_type": "markdown",
   "id": "e8ece62c",
   "metadata": {
    "heading_collapsed": true
   },
   "source": [
    "## Monk1"
   ]
  },
  {
   "cell_type": "code",
   "execution_count": 67,
   "id": "a1a8213f",
   "metadata": {
    "hidden": true
   },
   "outputs": [],
   "source": [
    "new_stat = {0.3 : [], 0.4: [], 0.5: [], 0.6: [], 0.7: [], 0.8: [], 0.9 : [], 0.99 : []}\n",
    "\n",
    "mk1_error_list = []\n",
    "mk1_fraction_list = []\n",
    "\n",
    "for i in range(100): # compute the statistics over several runs of the split \n",
    "    \n",
    "    for fraction in new_stat.keys():\n",
    "\n",
    "        monk1train, monk1val = partition(m.monk1, fraction)\n",
    "\n",
    "        # create tree from monk1train\n",
    "        monk1treetrain = dt.buildTree(monk1train, m.attributes)\n",
    "\n",
    "        # find best monk1 tree\n",
    "        dict_test_error_mk1 = {}\n",
    "        i = 0\n",
    "        for tree in dt.allPruned(monk1treetrain):\n",
    "            dict_test_error_mk1[i] = 1-dt.check(tree, monk1val)\n",
    "            i +=1\n",
    "\n",
    "        # key1 is key with lowest validation error:\n",
    "        key1 = min(dict_test_error_mk1, key = dict_test_error_mk1.get)\n",
    "\n",
    "        best_mk1_tree = dt.allPruned(monk1treetrain)[key1]\n",
    "\n",
    "        # compute test error for the fraction and add to new_stat dict\n",
    "        test_error = 1-dt.check(best_mk1_tree, m.monk1test)\n",
    "        new_stat[fraction].append(test_error)"
   ]
  },
  {
   "cell_type": "code",
   "execution_count": 68,
   "id": "e740723e",
   "metadata": {
    "hidden": true
   },
   "outputs": [
    {
     "data": {
      "text/html": [
       "<div>\n",
       "<style scoped>\n",
       "    .dataframe tbody tr th:only-of-type {\n",
       "        vertical-align: middle;\n",
       "    }\n",
       "\n",
       "    .dataframe tbody tr th {\n",
       "        vertical-align: top;\n",
       "    }\n",
       "\n",
       "    .dataframe thead th {\n",
       "        text-align: right;\n",
       "    }\n",
       "</style>\n",
       "<table border=\"1\" class=\"dataframe\">\n",
       "  <thead>\n",
       "    <tr style=\"text-align: right;\">\n",
       "      <th></th>\n",
       "      <th>variance_error_list</th>\n",
       "      <th>mean_error_list</th>\n",
       "      <th>fractions</th>\n",
       "    </tr>\n",
       "  </thead>\n",
       "  <tbody>\n",
       "    <tr>\n",
       "      <th>0</th>\n",
       "      <td>0.001328</td>\n",
       "      <td>0.234861</td>\n",
       "      <td>0.30</td>\n",
       "    </tr>\n",
       "    <tr>\n",
       "      <th>1</th>\n",
       "      <td>0.001834</td>\n",
       "      <td>0.207986</td>\n",
       "      <td>0.40</td>\n",
       "    </tr>\n",
       "    <tr>\n",
       "      <th>2</th>\n",
       "      <td>0.001597</td>\n",
       "      <td>0.189514</td>\n",
       "      <td>0.50</td>\n",
       "    </tr>\n",
       "    <tr>\n",
       "      <th>3</th>\n",
       "      <td>0.001474</td>\n",
       "      <td>0.165694</td>\n",
       "      <td>0.60</td>\n",
       "    </tr>\n",
       "    <tr>\n",
       "      <th>4</th>\n",
       "      <td>0.001751</td>\n",
       "      <td>0.153958</td>\n",
       "      <td>0.70</td>\n",
       "    </tr>\n",
       "    <tr>\n",
       "      <th>5</th>\n",
       "      <td>0.001812</td>\n",
       "      <td>0.147940</td>\n",
       "      <td>0.80</td>\n",
       "    </tr>\n",
       "    <tr>\n",
       "      <th>6</th>\n",
       "      <td>0.001813</td>\n",
       "      <td>0.147546</td>\n",
       "      <td>0.90</td>\n",
       "    </tr>\n",
       "    <tr>\n",
       "      <th>7</th>\n",
       "      <td>0.005609</td>\n",
       "      <td>0.190069</td>\n",
       "      <td>0.99</td>\n",
       "    </tr>\n",
       "  </tbody>\n",
       "</table>\n",
       "</div>"
      ],
      "text/plain": [
       "   variance_error_list  mean_error_list  fractions\n",
       "0             0.001328         0.234861       0.30\n",
       "1             0.001834         0.207986       0.40\n",
       "2             0.001597         0.189514       0.50\n",
       "3             0.001474         0.165694       0.60\n",
       "4             0.001751         0.153958       0.70\n",
       "5             0.001812         0.147940       0.80\n",
       "6             0.001813         0.147546       0.90\n",
       "7             0.005609         0.190069       0.99"
      ]
     },
     "execution_count": 68,
     "metadata": {},
     "output_type": "execute_result"
    }
   ],
   "source": [
    "# compute statistics for each fraction\n",
    "\n",
    "mean_list_monk1 = []\n",
    "variance_list_monk1 = []\n",
    "fractions = [_ for _ in new_stat.keys()]\n",
    "\n",
    "for list_of_values in new_stat.values():\n",
    "    mean_list_monk1.append(np.mean(list_of_values))\n",
    "    variance_list_monk1.append(np.var(list_of_values))\n",
    "    \n",
    "# create dataframe\n",
    "df_mk1 = pd.DataFrame(mean_list_monk1, variance_list_monk1)\n",
    "df_mk1 = df_mk1.reset_index()\n",
    "df_mk1['fractions'] = [_ for _ in new_stat.keys()]\n",
    "df_mk1 = df_mk1.rename(columns = {'index': 'variance_error_list', 0:\"mean_error_list\"})\n",
    "df_mk1"
   ]
  },
  {
   "cell_type": "markdown",
   "id": "4f28ac0a",
   "metadata": {
    "heading_collapsed": true
   },
   "source": [
    "## Monk 3"
   ]
  },
  {
   "cell_type": "code",
   "execution_count": 69,
   "id": "09cdcc95",
   "metadata": {
    "hidden": true
   },
   "outputs": [],
   "source": [
    "new_stat_3 = {0.3 : [], 0.4: [], 0.5: [], 0.6: [], 0.7: [], 0.8: [], 0.9 : [], 0.99 : []}\n",
    "\n",
    "mk3_error_list = []\n",
    "mk3_fraction_list = []\n",
    "\n",
    "for i in range(100): # compute the statistics over several runs of the split \n",
    "    \n",
    "    for fraction in new_stat_3.keys():\n",
    "\n",
    "        monk3train, monk3val = partition(m.monk3, fraction)\n",
    "\n",
    "        # create tree from monk1train\n",
    "        monk3treetrain = dt.buildTree(monk3train, m.attributes)\n",
    "\n",
    "        # find best monk3 tree\n",
    "        dict_test_error_mk3 = {}\n",
    "        i = 0\n",
    "        for tree in dt.allPruned(monk3treetrain):\n",
    "            dict_test_error_mk3[i] = 1-dt.check(tree, monk3val)\n",
    "            i +=1\n",
    "\n",
    "        # key1 is key with lowest validation error:\n",
    "        key3 = min(dict_test_error_mk3, key = dict_test_error_mk3.get)\n",
    "\n",
    "        best_mk3_tree = dt.allPruned(monk3treetrain)[key3]\n",
    "\n",
    "        # compute test error for the fraction and add to new_stat dict\n",
    "        test_error = 1-dt.check(best_mk3_tree, m.monk3test)\n",
    "        new_stat_3[fraction].append(test_error)"
   ]
  },
  {
   "cell_type": "code",
   "execution_count": 70,
   "id": "edacdb57",
   "metadata": {
    "hidden": true
   },
   "outputs": [
    {
     "data": {
      "text/html": [
       "<div>\n",
       "<style scoped>\n",
       "    .dataframe tbody tr th:only-of-type {\n",
       "        vertical-align: middle;\n",
       "    }\n",
       "\n",
       "    .dataframe tbody tr th {\n",
       "        vertical-align: top;\n",
       "    }\n",
       "\n",
       "    .dataframe thead th {\n",
       "        text-align: right;\n",
       "    }\n",
       "</style>\n",
       "<table border=\"1\" class=\"dataframe\">\n",
       "  <thead>\n",
       "    <tr style=\"text-align: right;\">\n",
       "      <th></th>\n",
       "      <th>variance_error_list</th>\n",
       "      <th>mean_error_list</th>\n",
       "      <th>fractions</th>\n",
       "    </tr>\n",
       "  </thead>\n",
       "  <tbody>\n",
       "    <tr>\n",
       "      <th>0</th>\n",
       "      <td>0.003111</td>\n",
       "      <td>0.099861</td>\n",
       "      <td>0.30</td>\n",
       "    </tr>\n",
       "    <tr>\n",
       "      <th>1</th>\n",
       "      <td>0.002324</td>\n",
       "      <td>0.069259</td>\n",
       "      <td>0.40</td>\n",
       "    </tr>\n",
       "    <tr>\n",
       "      <th>2</th>\n",
       "      <td>0.001163</td>\n",
       "      <td>0.058380</td>\n",
       "      <td>0.50</td>\n",
       "    </tr>\n",
       "    <tr>\n",
       "      <th>3</th>\n",
       "      <td>0.001010</td>\n",
       "      <td>0.054583</td>\n",
       "      <td>0.60</td>\n",
       "    </tr>\n",
       "    <tr>\n",
       "      <th>4</th>\n",
       "      <td>0.000892</td>\n",
       "      <td>0.051389</td>\n",
       "      <td>0.70</td>\n",
       "    </tr>\n",
       "    <tr>\n",
       "      <th>5</th>\n",
       "      <td>0.000917</td>\n",
       "      <td>0.049213</td>\n",
       "      <td>0.80</td>\n",
       "    </tr>\n",
       "    <tr>\n",
       "      <th>6</th>\n",
       "      <td>0.001530</td>\n",
       "      <td>0.065463</td>\n",
       "      <td>0.90</td>\n",
       "    </tr>\n",
       "    <tr>\n",
       "      <th>7</th>\n",
       "      <td>0.035246</td>\n",
       "      <td>0.234861</td>\n",
       "      <td>0.99</td>\n",
       "    </tr>\n",
       "  </tbody>\n",
       "</table>\n",
       "</div>"
      ],
      "text/plain": [
       "   variance_error_list  mean_error_list  fractions\n",
       "0             0.003111         0.099861       0.30\n",
       "1             0.002324         0.069259       0.40\n",
       "2             0.001163         0.058380       0.50\n",
       "3             0.001010         0.054583       0.60\n",
       "4             0.000892         0.051389       0.70\n",
       "5             0.000917         0.049213       0.80\n",
       "6             0.001530         0.065463       0.90\n",
       "7             0.035246         0.234861       0.99"
      ]
     },
     "execution_count": 70,
     "metadata": {},
     "output_type": "execute_result"
    }
   ],
   "source": [
    "# compute statistics for each fraction\n",
    "\n",
    "mean_list_monk3 = []\n",
    "variance_list_monk3 = []\n",
    "\n",
    "for list_of_values in new_stat_3.values():\n",
    "    mean_list_monk3.append(np.mean(list_of_values))\n",
    "    variance_list_monk3.append(np.var(list_of_values))\n",
    "    \n",
    "# create dataframe\n",
    "df_mk3 = pd.DataFrame(mean_list_monk3, variance_list_monk3)\n",
    "df_mk3 = df_mk3.reset_index()\n",
    "df_mk3['fractions'] = [_ for _ in new_stat_3.keys()]\n",
    "df_mk3 = df_mk3.rename(columns = {'index': 'variance_error_list', 0:\"mean_error_list\"})\n",
    "df_mk3"
   ]
  },
  {
   "cell_type": "markdown",
   "id": "3ab4894e",
   "metadata": {
    "heading_collapsed": true
   },
   "source": [
    "## Plot"
   ]
  },
  {
   "cell_type": "code",
   "execution_count": 71,
   "id": "af37443b",
   "metadata": {
    "hidden": true
   },
   "outputs": [
    {
     "data": {
      "image/png": "[encoded data removed]",
      "text/plain": [
       "<Figure size 1080x720 with 1 Axes>"
      ]
     },
     "metadata": {
      "needs_background": "light"
     },
     "output_type": "display_data"
    }
   ],
   "source": [
    "# Plotting Mean Error vs Optimal Partition\n",
    "plt.figure(figsize = (15,10))\n",
    "plt.title(\"Test error rate vs optimal partition into training and pruning (fraction)\")\n",
    "plt.xlabel(\"Partition into training and pruning (fraction parameter)\")\n",
    "plt.ylabel(\"Test error rate\")\n",
    "sns.lineplot(x = fractions, y = mean_list_monk1, label = \"Mean test error rate Monk 1\", color = 'r');\n",
    "sns.lineplot(x = fractions, y = mean_list_monk3, label = \"Mean test error rate Monk 3\", color = 'g');\n",
    "plt.legend();"
   ]
  },
  {
   "cell_type": "markdown",
   "id": "129690b5",
   "metadata": {
    "hidden": true
   },
   "source": [
    "**The bigger the training set in comparison to the validation set, the smaller the error rate.**"
   ]
  }
 ],
 "metadata": {
  "kernelspec": {
   "display_name": "Python 3 (ipykernel)",
   "language": "python",
   "name": "python3"
  },
  "language_info": {
   "codemirror_mode": {
    "name": "ipython",
    "version": 3
   },
   "file_extension": ".py",
   "mimetype": "text/x-python",
   "name": "python",
   "nbconvert_exporter": "python",
   "pygments_lexer": "ipython3",
   "version": "3.9.6"
  },
  "toc": {
   "base_numbering": "",
   "nav_menu": {},
   "number_sections": false,
   "sideBar": true,
   "skip_h1_title": false,
   "title_cell": "Table of Contents",
   "title_sidebar": "Contents",
   "toc_cell": false,
   "toc_position": {
    "height": "calc(100% - 180px)",
    "left": "10px",
    "top": "150px",
    "width": "432px"
   },
   "toc_section_display": true,
   "toc_window_display": true
  }
 },
 "nbformat": 4,
 "nbformat_minor": 5
}
